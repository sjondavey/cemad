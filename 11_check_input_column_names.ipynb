{
 "cells": [
  {
   "cell_type": "code",
   "execution_count": 16,
   "metadata": {},
   "outputs": [],
   "source": [
    "import re\n",
    "import pandas as pd\n",
    "\n",
    "import importlib\n",
    "import cemad_rag.cemad_reference_checker\n",
    "importlib.reload(cemad_rag.cemad_reference_checker)\n",
    "from cemad_rag.cemad_reference_checker import CEMADReferenceChecker\n",
    "\n",
    "import regulations_rag.data_in_dataframes\n",
    "importlib.reload(regulations_rag.data_in_dataframes)\n",
    "from regulations_rag.data_in_dataframes import load_csv_data, append_csv_data, load_parquet_data, \\\n",
    "     required_columns_definition, \\\n",
    "     required_columns_index, \\\n",
    "     required_columns_regulation, \\\n",
    "     required_columns_section_lookup, \\\n",
    "     required_columns_workflow "
   ]
  },
  {
   "cell_type": "markdown",
   "metadata": {},
   "source": [
    "## Check the required column names"
   ]
  },
  {
   "cell_type": "code",
   "execution_count": 2,
   "metadata": {},
   "outputs": [
    {
     "name": "stdout",
     "output_type": "stream",
     "text": [
      "indent, reference, text, heading, section_reference, word_count\n"
     ]
    }
   ],
   "source": [
    "print(\", \".join(required_columns_regulation))"
   ]
  },
  {
   "cell_type": "code",
   "execution_count": 3,
   "metadata": {},
   "outputs": [
    {
     "name": "stdout",
     "output_type": "stream",
     "text": [
      "File contains all the mandatory columns\n"
     ]
    }
   ],
   "source": [
    "reg_df = load_csv_data(\"./inputs/ad_manual.csv\")\n",
    "reg_column = reg_df.columns.to_list()\n",
    "contains_all_columns = True\n",
    "for column in required_columns_regulation:\n",
    "    if column not in reg_column:\n",
    "        print(f\"{column} is a required column name but it does not appear in the regulation DataFrame\")\n",
    "        contains_all_columns = False\n",
    "if contains_all_columns:\n",
    "    print(\"File contains all the mandatory columns\")"
   ]
  },
  {
   "cell_type": "code",
   "execution_count": 20,
   "metadata": {},
   "outputs": [],
   "source": [
    "def check_columns(filename, expected_column_names):\n",
    "    file_extension = os.path.splitext(filename)[1]\n",
    "    if file_extension.lower() == '.csv':\n",
    "        df = load_csv_data(filename)\n",
    "    elif file_extension.lower() == '.parquet':\n",
    "        df = load_parquet_data(filename)\n",
    "    else:\n",
    "        print(\"Unknown file type\")\n",
    "        return\n",
    "\n",
    "    contains_all_columns = True\n",
    "    columns = df.columns.to_list()\n",
    "    for name in expected_column_names:\n",
    "        if name not in columns:\n",
    "            print(f\"{name} is a required column name for {filename} but it does not appear in the regulation DataFrame\")\n",
    "            contains_all_columns = False\n",
    "    if contains_all_columns:\n",
    "        print(f\"{filename} contains all the mandatory columns\")"
   ]
  },
  {
   "cell_type": "code",
   "execution_count": 28,
   "metadata": {},
   "outputs": [
    {
     "name": "stdout",
     "output_type": "stream",
     "text": [
      "./inputs/ad_manual.csv contains all the mandatory columns\n",
      "./inputs/ad_manual_plus.csv contains all the mandatory columns\n",
      "./inputs/ad_definitions_plus.parquet contains all the mandatory columns\n",
      "./inputs/ad_definitions.parquet contains all the mandatory columns\n",
      "./inputs/ad_index_plus.parquet contains all the mandatory columns\n",
      "./inputs/ad_index.parquet contains all the mandatory columns\n",
      "./inputs/workflow.parquet contains all the mandatory columns\n",
      "./inputs/bopcodes.parquet contains all the mandatory columns\n"
     ]
    }
   ],
   "source": [
    "import copy\n",
    "check_columns(\"./inputs/ad_manual.csv\", required_columns_regulation)\n",
    "required_columns_regulation_plus = copy.deepcopy(required_columns_regulation)\n",
    "required_columns_regulation_plus.append(\"sections_referenced\")\n",
    "check_columns(\"./inputs/ad_manual_plus.csv\", required_columns_regulation_plus)\n",
    "\n",
    "check_columns(\"./inputs/ad_definitions_plus.parquet\", required_columns_definition)\n",
    "check_columns(\"./inputs/ad_definitions.parquet\", required_columns_definition)\n",
    "\n",
    "check_columns(\"./inputs/ad_index_plus.parquet\", required_columns_index)\n",
    "check_columns(\"./inputs/ad_index.parquet\", required_columns_index)\n",
    "\n",
    "check_columns(\"./inputs/workflow.parquet\", required_columns_workflow)\n",
    "\n",
    "required_columns_bopcodes = [\"category\", \"sub-category\", \"category description\", \"section\", \"inward or outward\", \"embedding\"]\n",
    "check_columns(\"./inputs/bopcodes.parquet\", required_columns_bopcodes)\n",
    "\n"
   ]
  }
 ],
 "metadata": {
  "kernelspec": {
   "display_name": "Python 3.10.4 ('env': venv)",
   "language": "python",
   "name": "python3"
  },
  "language_info": {
   "codemirror_mode": {
    "name": "ipython",
    "version": 3
   },
   "file_extension": ".py",
   "mimetype": "text/x-python",
   "name": "python",
   "nbconvert_exporter": "python",
   "pygments_lexer": "ipython3",
   "version": "3.10.4"
  },
  "orig_nbformat": 4,
  "vscode": {
   "interpreter": {
    "hash": "e330cde3341ddb10937c3ab3ef8422853a5bdecbc44a28db7f9f3e6bc03c2d94"
   }
  }
 },
 "nbformat": 4,
 "nbformat_minor": 2
}
