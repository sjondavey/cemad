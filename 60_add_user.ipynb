{
 "cells": [
  {
   "cell_type": "code",
   "execution_count": 2,
   "metadata": {},
   "outputs": [],
   "source": [
    "import bcrypt"
   ]
  },
  {
   "cell_type": "code",
   "execution_count": 3,
   "metadata": {},
   "outputs": [
    {
     "name": "stdout",
     "output_type": "stream",
     "text": [
      "User: Steven\n",
      "pwd: Davey\n",
      "raw version is Davey, hashed version is $2b$12$wtxmMhJgmOvFLtYdsHnI2uo/KyyF13NpWKI1YYwtfIMR7M3QXToAy\n",
      "Checking that the password verifies: True\n",
      "-----------------\n",
      "Steven = \"$2b$12$wtxmMhJgmOvFLtYdsHnI2uo/KyyF13NpWKI1YYwtfIMR7M3QXToAy\"\n"
     ]
    }
   ],
   "source": [
    "name = \"Steven Davey\"\n",
    "\n",
    "split = name.split()\n",
    "\n",
    "user = split[0]\n",
    "pwd = split[1]\n",
    "\n",
    "print(f\"User: {user}\")\n",
    "print(f\"pwd: {pwd}\")\n",
    "\n",
    "hashed_password = bcrypt.hashpw(pwd.encode(), bcrypt.gensalt()).decode()\n",
    "\n",
    "print(f'raw version is {pwd}, hashed version is {hashed_password}')\n",
    "\n",
    "check_password = bcrypt.checkpw(pwd.encode(), hashed_password.encode())\n",
    "print(f'Checking that the password verifies: {check_password}')\n",
    "\n",
    "print('-----------------')\n",
    "print(f'{user} = \\\"{hashed_password}\\\"')"
   ]
  },
  {
   "cell_type": "code",
   "execution_count": null,
   "metadata": {},
   "outputs": [],
   "source": []
  }
 ],
 "metadata": {
  "kernelspec": {
   "display_name": "Python 3.10.4 ('env': venv)",
   "language": "python",
   "name": "python3"
  },
  "language_info": {
   "codemirror_mode": {
    "name": "ipython",
    "version": 3
   },
   "file_extension": ".py",
   "mimetype": "text/x-python",
   "name": "python",
   "nbconvert_exporter": "python",
   "pygments_lexer": "ipython3",
   "version": "3.10.4"
  },
  "orig_nbformat": 4,
  "vscode": {
   "interpreter": {
    "hash": "e330cde3341ddb10937c3ab3ef8422853a5bdecbc44a28db7f9f3e6bc03c2d94"
   }
  }
 },
 "nbformat": 4,
 "nbformat_minor": 2
}
