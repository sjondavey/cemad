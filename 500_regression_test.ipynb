{
 "cells": [
  {
   "cell_type": "code",
   "execution_count": 3,
   "metadata": {},
   "outputs": [],
   "source": [
    "import logging\n",
    "# log_level = logging.INFO\n",
    "# log_level = logging.DEBUG\n",
    "# log_level = 15\n",
    "log_level = 25 # ANALYSIS\n",
    "logging.basicConfig(level=log_level)\n",
    "logger = logging.getLogger(__name__)\n",
    "logger.setLevel(log_level)\n"
   ]
  },
  {
   "cell_type": "code",
   "execution_count": 4,
   "metadata": {},
   "outputs": [],
   "source": [
    "import os\n",
    "import pandas as pd\n",
    "from openai import OpenAI\n",
    "from regulations_rag.rerank import RerankAlgos\n",
    "from cemad_rag.cemad_chat import CEMADChat\n"
   ]
  },
  {
   "cell_type": "code",
   "execution_count": 13,
   "metadata": {},
   "outputs": [],
   "source": [
    "openai_client = OpenAI(api_key=os.environ.get(\"OPENAI_API_KEY\"),)\n",
    "key = os.getenv('excon_encryption_key')\n",
    "\n",
    "#rerank_algo  = RerankAlgos.MOST_COMMON\n",
    "rerank_algo  = RerankAlgos.LLM\n",
    "chat = CEMADChat(openai_client = openai_client, \n",
    "                    decryption_key = key, \n",
    "                    rerank_algo = rerank_algo, \n",
    "                    user_name_for_logging = 'test_user')\n",
    "\n"
   ]
  },
  {
   "cell_type": "code",
   "execution_count": 6,
   "metadata": {},
   "outputs": [],
   "source": [
    "stand_alone_questions = []\n",
    "\n",
    "stand_alone_questions.append('I am part of a group of companies and I want to make a service payment to one of our subsidiary companies. Can I proceed?') # I get no answer here\n",
    "stand_alone_questions.append('Can I make a fee payment to a non-resident related party') # version of the last question which uses the correct wording\n",
    "stand_alone_questions.append('What is merchanting trade?')\n",
    "stand_alone_questions.append('Tell me about the time lag between paying funds away to the foreign supplier and receiving funds from the foreign importer')\n",
    "stand_alone_questions.append('Can a customer from South Africa purchase goods from China and supply the goods to the USA?')\n",
    "stand_alone_questions.append('Can a customer from South Africa import goods from another country but supply the goods to a different country?')\n",
    "stand_alone_questions.append('I want to make an import where a payment will only be done over 12 months. Can this be done?')\n",
    "\n",
    "stand_alone_questions.append('what is the current date of manual?')\n",
    "stand_alone_questions.append('can a South African trust pay funds abroad?')\n",
    "stand_alone_questions.append('how much can an individual invest offshore?')\n",
    "stand_alone_questions.append('how much can a South African entity invest abroad')\n",
    "stand_alone_questions.append('how does a non-resident evidence shareholding in a SA company?')\n",
    "stand_alone_questions.append('what is a forex broker') # unable to answer\n",
    "stand_alone_questions.append('what is a treasury outsourcer')\n",
    "stand_alone_questions.append('how do I apply for Imports Undertaking?')\n",
    "stand_alone_questions.append('Imports dispensation')\n",
    "stand_alone_questions.append('What is required for amd imports undertaking dispensation?')\n"
   ]
  },
  {
   "cell_type": "code",
   "execution_count": 8,
   "metadata": {},
   "outputs": [
    {
     "name": "stderr",
     "output_type": "stream",
     "text": [
      "ANALYSIS:regulations_rag.regulation_chat:user to test_user: I am part of a group of companies and I want to make a service payment to one of our subsidiary companies. Can I proceed?\n",
      "ANALYSIS:regulations_rag.regulation_chat:assistant to test_user: I was unable to find any relevant documentation to assist in answering the question. Can you try rephrasing the question?\n",
      "ANALYSIS:regulations_rag.regulation_chat:user to test_user: Can I make a fee payment to a non-resident related party\n",
      "ANALYSIS:regulations_rag.regulation_chat:assistant to test_user: Yes, you can make a fee payment to a non-resident related party, but such requests should be submitted to the Financial Surveillance Department for consideration. \n",
      "\n",
      "Reference: B.3(C)(ii),\n",
      "ANALYSIS:regulations_rag.regulation_chat:user to test_user: What is merchanting trade?\n",
      "ANALYSIS:regulations_rag.regulation_chat:assistant to test_user: Merchanting trade refers to transactions by residents where goods are purchased from a foreign supplier and sold to a foreign importer without the goods entering South Africa. Authorised Dealers can approve these transactions provided the time between payment to the supplier and receipt of funds from the buyer does not exceed 60 days for trade with African countries and 30 days for other countries. Payment must be received in foreign currency or from specific Rand accounts, and documentation such as agreements or invoices must be provided. Transactions should ideally be covered by confirmed irrevocable letters of credit, and any deviations from these requirements must be applied for consideration within 14 days. Non-compliance is taken seriously.  \n",
      "Reference:  \n",
      "B.12(A): B.12 Merchanting, barter and counter trade. (A) Merchanting trade.\n",
      "ANALYSIS:regulations_rag.regulation_chat:user to test_user: Tell me about the time lag between paying funds away to the foreign supplier and receiving funds from the foreign importer\n",
      "ANALYSIS:regulations_rag.regulation_chat:assistant to test_user: For merchanting trade transactions, the time-lag between paying funds away to the foreign supplier and receiving funds from the foreign importer should not exceed 60 days for trade with countries on the African continent and 30 days for trade with any other country.  \n",
      "Reference:  \n",
      "B.12(A): B.12 Merchanting, barter and counter trade. (A) Merchanting trade.\n",
      "ANALYSIS:regulations_rag.regulation_chat:user to test_user: Can a customer from South Africa purchase goods from China and supply the goods to the USA?\n",
      "ANALYSIS:regulations_rag.regulation_chat:assistant to test_user: Yes, a customer from South Africa can purchase goods from China and supply the goods to the USA, provided that the transaction complies with the conditions outlined for merchanting trade transactions. Specifically, the time-lag between paying funds to the foreign supplier in China and receiving funds from the foreign importer in the USA must not exceed 30 days, as China is not on the African continent. Payment must be received in foreign currency or Rand from a Non-resident Rand account or a vostro account, and documentation such as a copy of the agreement or commercial invoices must be provided. If these conditions cannot be met, a written application must be submitted to the Financial Surveillance Department within 14 days for consideration.  \n",
      "Reference:  \n",
      "B.12(A): B.12 Merchanting, barter and counter trade. (A) Merchanting trade.\n",
      "ANALYSIS:regulations_rag.regulation_chat:user to test_user: Can a customer from South Africa import goods from another country but supply the goods to a different country?\n",
      "ANALYSIS:regulations_rag.regulation_chat:assistant to test_user: Yes, a customer from South Africa can import goods from another country and supply the goods to a different country. This is known as merchanting trade. Authorised Dealers may authorise these transactions provided certain conditions are met, such as the time-lag between paying funds to the foreign supplier and receiving funds from the foreign importer does not exceed the specified days, and payment is received in the required form. Additionally, goods of non-South African origin that have been paid for can be re-exported subject to the completion of the prescribed SARS Customs Declaration.  \n",
      "Reference:  \n",
      "B.12(A): B.12 Merchanting, barter and counter trade. (A) Merchanting trade.  \n",
      "B.19(J): B.19 Control of exports - miscellaneous. (J) Goods of non-South African origin paid for and re-exported.\n",
      "ANALYSIS:regulations_rag.regulation_chat:user to test_user: I want to make an import where a payment will only be done over 12 months. Can this be done?\n",
      "ANALYSIS:regulations_rag.regulation_chat:assistant to test_user: Yes, the payment for imports where the payment is done over 12 months can be done, but it requires the prior written approval of the Financial Surveillance Department, especially when the credit terms extended exceed 12 months. This is typically in relation to the importation of capital goods.  \n",
      "Reference:  \n",
      "B.1(D)(iv): B.1 Payment for imports. (D) Terms of payment for imports. (iv) Extended credit terms.\n",
      "ANALYSIS:regulations_rag.regulation_chat:user to test_user: what is the current date of manual?\n",
      "ANALYSIS:regulations_rag.regulation_chat:assistant to test_user: The current date of the manual is 2024-01-26.  \n",
      "Reference:  \n",
      "Z.2(A)(i): Z.2 Metadata. (A) Version.\n",
      "ANALYSIS:regulations_rag.regulation_chat:user to test_user: can a South African trust pay funds abroad?\n",
      "ANALYSIS:regulations_rag.regulation_chat:assistant to test_user: Yes, a South African trust can pay funds abroad under certain conditions. For testamentary trusts, capital distributions due to non-residents may be remitted abroad, provided that the trustees' resolution confirming the capital distribution and the Last Will and Testament confirming that the beneficiary is entitled to such capital distribution have been viewed. Additionally, for both trusts created in terms of a Last Will and Testament and inter vivos trusts, Authorized Dealers may allow the transfer of income. However, Authorized Dealers must require a Tax Compliance Status (TCS) of good standing at least once a year on applications up to R10 million and a tax compliance status request – TCS FIA for above R10 million applications.  \n",
      "Reference:  \n",
      "B.2(K)(ii): B.2 Capital transfers. (K) Legacies and distributions from deceased estates and testamentary trusts. (ii) Other assets inherited by non-residents.  \n",
      "B.3(B)(iv): B.3 Income transfers. (B) Income due to non-residents and private individuals who cease to be residents for tax purposes in South Africa. (iv) Income from trusts.\n",
      "ANALYSIS:regulations_rag.regulation_chat:user to test_user: how much can an individual invest offshore?\n",
      "ANALYSIS:regulations_rag.regulation_chat:assistant to test_user: An individual can invest offshore up to a total amount of R10 million per calendar year as a foreign capital allowance. This is applicable to private individuals who are taxpayers in good standing and are 18 years and older.  \n",
      "Reference:  \n",
      "B.2(B)(i): B.2 Capital transfers. (B) Private individuals resident in South Africa. (i) Foreign investments by private individuals (natural persons) resident in South Africa.\n",
      "ANALYSIS:regulations_rag.regulation_chat:user to test_user: how much can a South African entity invest abroad\n",
      "ANALYSIS:regulations_rag.regulation_chat:assistant to test_user: A South African entity can invest abroad up to R5 billion per applicant company per calendar year without requiring prior approval for foreign direct investments. For investments exceeding R5 billion, prior written approval of the Financial Surveillance Department is required. This applies to both foreign direct investments and foreign portfolio investments.  \n",
      "Reference:  \n",
      "B.2(C)(i)(a): B.2 Capital transfers. (C) South African companies. (i) Foreign direct investments not exceeding R5 billion per applicant company.  \n",
      "B.2(C)(iii): B.2 Capital transfers. (C) South African companies. (iii) Foreign portfolio investments by companies not exceeding R5 billion per applicant company.\n",
      "ANALYSIS:regulations_rag.regulation_chat:user to test_user: how does a non-resident evidence shareholding in a SA company?\n",
      "ANALYSIS:regulations_rag.regulation_chat:assistant to test_user: A non-resident evidences shareholding in a South African company through the endorsement 'Non-Resident' on certificated securities. This endorsement is required for any certificated securities in which there is a non-resident interest of any nature. It is the duty of any transfer secretary or Authorised Dealer to whom the securities are presented to immediately procure such an endorsement. Additionally, bonus shares issued to non-residents and shares of foreign companies quoted on the JSE Limited that are owned by non-residents are subject to the same endorsement requirement. Furthermore, for bearer securities, non-residents entitled to take up shares in a South African company may be issued bearer warrants against payment in foreign currency or Rand from a Non-resident Rand account, with the company required to be furnished with a certificate by an Authorised Dealer that payment for such shares has been effected accordingly.  \n",
      "Reference:  \n",
      "G.(F)(i): G. Securities control. (F) Endorsement.  \n",
      "G.(M)(ii)(c): G. Securities control. (M) Bearer securities. (ii) Conditions of issue - Share or stock warrants to bearer.\n",
      "ANALYSIS:regulations_rag.regulation_chat:user to test_user: what is a forex broker\n",
      "ANALYSIS:regulations_rag.regulation_chat:assistant to test_user: A forex broker is a company that acts as an intermediary in the foreign exchange market, matching principal clients with an Authorised Dealer. They are not allowed to buy or sell foreign currency for their own account, hold foreign currency, or borrow or lend foreign currency. Their services may include identifying, monitoring, and mitigating foreign exchange risks, handling documentation, administering clients' foreign exchange exposure, and concluding spot and/or forward transactions with an Authorised Dealer. All foreign exchange transactions must be concluded and settled between the Authorised Dealer and the client, with the exchange rate determined by the Authorised Dealer. The forex broker must ensure a complete audit trail for all transactions booked on behalf of clients and comply with various regulatory requirements, including holding a valid Financial Services Provider license.  \n",
      "Reference:  \n",
      "A.4(C): A.4 Guidelines and procedures in respect of treasury outsourcing companies and foreign exchange brokers. (C) Conditions for conducting the business of a treasury outsourcing company and foreign exchange broker.\n",
      "ANALYSIS:regulations_rag.regulation_chat:user to test_user: what is a treasury outsourcer\n",
      "ANALYSIS:regulations_rag.regulation_chat:assistant to test_user: A treasury outsourcer, as defined within the context of the South African Exchange Control Manual, is a company or broker that acts as an intermediary in the foreign exchange market. It does not buy or sell foreign currency for its own account, nor does it hold, borrow, or lend foreign currency. Instead, it matches principal clients with an Authorised Dealer, under a proper mandate to act on behalf of its clients. The services provided by a treasury outsourcing company may include identifying, monitoring, and mitigating foreign exchange risks, handling documentation, administering the client's foreign exchange exposure, and concluding spot and/or forward transactions with an Authorised Dealer. All foreign exchange transactions must be concluded and settled between the Authorised Dealer and the client, with the treasury outsourcing company or foreign exchange broker ensuring a complete audit trail for all transactions booked on behalf of clients.  \n",
      "Reference:  \n",
      "A.4(A): A.4 Guidelines and procedures in respect of treasury outsourcing companies and foreign exchange brokers. (A) General.  \n",
      "A.4(C): A.4 Guidelines and procedures in respect of treasury outsourcing companies and foreign exchange brokers. (C) Conditions for conducting the business of a treasury outsourcing company and foreign exchange broker.\n",
      "ANALYSIS:regulations_rag.regulation_chat:user to test_user: how do I apply for Imports Undertaking?\n",
      "ANALYSIS:regulations_rag.regulation_chat:assistant to test_user: To apply for an Imports Undertaking, follow these steps:\n",
      "\n",
      "1. Download the imports undertaking dispensation application form from the South African Reserve Bank's website at www.resbank.co.za by following the links: Financial Surveillance > General Public > Imports undertaking dispensation.\n",
      "2. Ensure the application form is accompanied by a resolution of the board of directors of the company, authorizing the company to partake in the imports undertaking dispensation.\n",
      "3. Submit the completed application form and board resolution through an Authorised Dealer to the Financial Surveillance Department for consideration.\n",
      "\n",
      "Note that this dispensation is only applicable to companies (excluding Close Corporations, Trusts, Partnerships, and Sole Proprietors) that meet specific criteria related to their import activities.  \n",
      "Reference:  \n",
      "B.1(H): B.1 Payment for imports. (H) Imports undertaking dispensation.\n",
      "ANALYSIS:regulations_rag.regulation_chat:user to test_user: Imports dispensation\n",
      "ANALYSIS:regulations_rag.regulation_chat:assistant to test_user: The Financial Surveillance Department may grant a dispensation to certain companies from the requirement to submit supporting documentation for every foreign exchange transaction related to an import transaction. This dispensation is applicable to companies that regularly import goods from outside the Common Monetary Area, make foreign currency payments for these imports, conduct a minimum of 120 import transactions per annum with an import turnover exceeding R20 million, and have been active in the import industry for at least three years. Companies granted this dispensation must adhere to specific conditions, including completing an integrated form for foreign currency purchases, maintaining an audit trail of documents for five years, and submitting a letter of compliance annually. Amendments to the dispensation must be approved by the Financial Surveillance Department. Non-compliance with these conditions may result in serious consequences as determined by the Financial Surveillance Department.  \n",
      "Reference:  \n",
      "B.1(H): B.1 Payment for imports. (H) Imports undertaking dispensation.\n",
      "ANALYSIS:regulations_rag.regulation_chat:user to test_user: What is required for amd imports undertaking dispensation?\n",
      "ANALYSIS:regulations_rag.regulation_chat:assistant to test_user: For an imports undertaking dispensation, the requirements include:\n",
      "\n",
      "1. Submission of an application through an Authorised Dealer to the Financial Surveillance Department.\n",
      "2. The application form, available on the South African Reserve Bank's website, must be accompanied by a board of directors' resolution authorising the company to partake in the dispensation.\n",
      "3. The company must be involved in regular importation of goods from outside the Common Monetary Area, make foreign currency payments for these imports, conduct a minimum of 120 import transactions per annum with an import turnover exceeding R20 million, and have been active in the import industry for at least three years.\n",
      "4. Upon approval, the company must adhere to conditions such as completing an integrated form for foreign currency purchases, advising the Authorised Dealer that transactions are related to the business activities described, maintaining an audit trail of documents for five years, ensuring internal control over import transactions, submitting a letter of compliance annually, and informing the Financial Surveillance Department of any changes to the dispensation application details.\n",
      "5. The company may continue to operate and maintain a CFC account under the control of an Authorised Dealer, in accordance with the Authorised Dealer Manual.  \n",
      "Reference:  \n",
      "B.1(H): B.1 Payment for imports. (H) Imports undertaking dispensation.\n"
     ]
    }
   ],
   "source": [
    "question_answer_pairs = []\n",
    "\n",
    "for question in stand_alone_questions:\n",
    "    #question = stand_alone_questions[0]\n",
    "    chat.reset_conversation_history()\n",
    "    response = chat.chat_completion(question)\n",
    "    question_answer_pairs.append([question, response])\n"
   ]
  },
  {
   "cell_type": "code",
   "execution_count": 10,
   "metadata": {},
   "outputs": [],
   "source": [
    "import pandas as pd\n",
    "df = pd.DataFrame(question_answer_pairs, columns = [\"Question\", \"Answer\"])\n",
    "df.to_csv(\"./working/regression.csv\", encoding=\"utf-8\", sep = \"|\")"
   ]
  },
  {
   "cell_type": "code",
   "execution_count": 11,
   "metadata": {},
   "outputs": [],
   "source": [
    "followup_questions = []\n",
    "followup_questions.append(['I am working on contract in South Africa. I am a foreign national. Can I send money home?','What documentary evidence would I need?']) \n",
    "followup_questions.append(['I have a company non resident foreign currency account and I would like to pay salaries of my employees cross border. Can this be done?', 'Is there any documentation required?'])\n"
   ]
  },
  {
   "cell_type": "code",
   "execution_count": 14,
   "metadata": {},
   "outputs": [
    {
     "name": "stderr",
     "output_type": "stream",
     "text": [
      "ANALYSIS:regulations_rag.regulation_chat:user to test_user: I am working on contract in South Africa. I am a foreign national. Can I send money home?\n",
      "ANALYSIS:regulations_rag.regulation_chat:assistant to test_user: Yes, as a foreign national working on contract in South Africa, you can send money home. According to the South African Exchange Control Manual, Authorised Dealers may allow the transfer of funds abroad in respect of employment contracts involving non-residents who are employed in South Africa, provided that the payments are commensurate with the work undertaken. Additionally, as a foreign national temporarily in South Africa, you are allowed to transfer abroad funds accumulated during your stay, provided you can substantiate the source of these funds and the value of such funds is reasonable in relation to your income-generating activities in South Africa during the period. You are required to declare any foreign assets upon arrival and can conduct your banking on a resident basis, including the transfer of funds abroad under certain conditions.  \n",
      "Reference:  \n",
      "B.14(V): B.14 Miscellaneous transfers. (V) Employment contracts involving non-residents.  \n",
      "B.5(A)(i): B.5 Personal transfers by foreign nationals and immigrants. (A) Foreign nationals. (i) Foreign nationals temporarily in South Africa.\n",
      "ANALYSIS:regulations_rag.regulation_chat:user to test_user: What documentation is required as evidence for transferring funds abroad as a foreign national working on contract in South Africa?\n",
      "ANALYSIS:regulations_rag.regulation_chat:assistant to test_user: The documentation required as evidence for transferring funds abroad as a foreign national working on contract in South Africa includes a declaration on arrival in writing to an Authorised Dealer about the possession of foreign assets. For transferring funds accumulated during their stay, foreign nationals need to substantiate the source from which they have acquired such funds and ensure that the value of such funds is reasonable in relation to their income-generating activities in South Africa during the period. Additionally, for the export of personal effects and other assets, documentary evidence may be required to substantiate the importation thereof. For capital transfers, evidence substantiating the original introduction of such funds into South Africa is required.  \n",
      "Reference:  \n",
      "B.5(A)(i): B.5 Personal transfers by foreign nationals and immigrants. (A) Foreign nationals. (i) Foreign nationals temporarily in South Africa.\n",
      "ANALYSIS:regulations_rag.regulation_chat:user to test_user: I have a company non resident foreign currency account and I would like to pay salaries of my employees cross border. Can this be done?\n",
      "ANALYSIS:regulations_rag.regulation_chat:assistant to test_user: Yes, you can pay the salaries of your employees cross-border from your company's non-resident foreign currency account. According to section B.3(B)(x)(a), Authorised Dealers may allow the transfer of salaries and/or fees payable to bona fide non-residents and private individuals who ceased to be residents for tax purposes in South Africa, provided these individuals are unrelated parties and the services are rendered from abroad. Additionally, section B.14(V)(ii) states that South African entities can remit funds abroad in respect of employment contracts involving non-residents who are employed outside South Africa, provided that the payments are commensurate with the work undertaken. Furthermore, section E(B)(iii)(a)(gg) allows for fees in respect of services rendered to be set off against single Customer Foreign Currency account balances, which includes salary payments for services rendered by non-residents. However, the Authorised Dealer must ensure that the transactions are permissible according to the Authorised Dealer Manual or have specific authority granted by the Financial Surveillance Department.  \n",
      "Reference:  \n",
      "B.3(B)(x): B.3 Income transfers. (B) Income due to non-residents and private individuals who cease to be residents for tax purposes in South Africa. (x) Salaries and/or fees payable in respect of services rendered.  \n",
      "B.14(V): B.14 Miscellaneous transfers. (V) Employment contracts involving non-residents.\n",
      "ANALYSIS:regulations_rag.regulation_chat:user to test_user: What documentation is required as evidence for cross-border salary payments from a company's non-resident foreign currency account to non-resident employees for services rendered abroad?\n",
      "ANALYSIS:regulations_rag.regulation_chat:assistant to test_user: A call for additional sections did not result in sufficient information to answer the question. The system is now stuck. Please clear the chat history and retry your query\n"
     ]
    }
   ],
   "source": [
    "followup_question_answers = []\n",
    "\n",
    "for question_with_followup in followup_questions:\n",
    "    chat.reset_conversation_history()\n",
    "    question = question_with_followup[0]\n",
    "    response = chat.chat_completion(question)\n",
    "    followup_question = question_with_followup[1]\n",
    "    followup_response = chat.chat_completion(followup_question)\n",
    "\n",
    "    question_answer_pairs.append([question, response, followup_question, followup_response])\n"
   ]
  },
  {
   "cell_type": "code",
   "execution_count": 15,
   "metadata": {},
   "outputs": [],
   "source": [
    "import pandas as pd\n",
    "df = pd.DataFrame(question_answer_pairs, columns = [\"Question\", \"Answer\",\"Followup Question\",\"Followup Response\"])\n",
    "df.to_csv(\"./working/regression_followup.csv\", encoding=\"utf-8\", sep = \"|\")"
   ]
  },
  {
   "cell_type": "markdown",
   "metadata": {},
   "source": [
    "## CFC Accounts\n",
    "We want to answer the question:Is there documentation required for non resident foreign currency account?\n",
    "We know that a non-residend can open a CFC account E.(C)\n",
    "We also know that a a CFC account is subject to certain conditions that include that the account must be part of the bank's nostro account administration, and the client cannot operate it without the approval of the Authorised Dealer. Clients are allowed to retain funds in their CFC accounts without the need to convert them into Rand, and only foreign exchange transactions that qualify as permissible credits and/or debits may be passed over these accounts. All transactions must comply with the provisions of the Authorised Dealer Manual or specific authorities from the Financial Surveillance Department. E.(B)(ii)(a)\n",
    "This means I need to do an exercise to see to check \"Documents\" in general and also the conditions associated with nostro account administration to create an answer"
   ]
  },
  {
   "cell_type": "code",
   "execution_count": 25,
   "metadata": {},
   "outputs": [],
   "source": [
    "cfc_questions = []\n",
    "cfc_questions.append('Is there documentation required for non resident foreign currency account?')"
   ]
  },
  {
   "cell_type": "code",
   "execution_count": null,
   "metadata": {},
   "outputs": [],
   "source": []
  }
 ],
 "metadata": {
  "kernelspec": {
   "display_name": "Python 3.10.4 ('env': venv)",
   "language": "python",
   "name": "python3"
  },
  "language_info": {
   "codemirror_mode": {
    "name": "ipython",
    "version": 3
   },
   "file_extension": ".py",
   "mimetype": "text/x-python",
   "name": "python",
   "nbconvert_exporter": "python",
   "pygments_lexer": "ipython3",
   "version": "3.10.4"
  },
  "orig_nbformat": 4,
  "vscode": {
   "interpreter": {
    "hash": "e330cde3341ddb10937c3ab3ef8422853a5bdecbc44a28db7f9f3e6bc03c2d94"
   }
  }
 },
 "nbformat": 4,
 "nbformat_minor": 2
}
