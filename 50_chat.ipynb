{
 "cells": [
  {
   "cell_type": "code",
   "execution_count": 1,
   "metadata": {},
   "outputs": [],
   "source": [
    "import logging\n",
    "#log_level = logging.INFO\n",
    "#log_level = logging.DEBUG\n",
    "log_level = 15\n",
    "logging.basicConfig(level=log_level)\n",
    "logger = logging.getLogger(__name__)\n",
    "logger.setLevel(log_level)\n"
   ]
  },
  {
   "cell_type": "code",
   "execution_count": 2,
   "metadata": {},
   "outputs": [],
   "source": [
    "import os\n",
    "import pandas as pd\n",
    "from openai import OpenAI\n",
    "from regulations_rag.rerank import RerankAlgos\n",
    "from cemad_rag.cemad_chat import CEMADChat\n"
   ]
  },
  {
   "cell_type": "code",
   "execution_count": 4,
   "metadata": {},
   "outputs": [
    {
     "name": "stderr",
     "output_type": "stream",
     "text": [
      "INFO:regulations_rag.regulation_chat:You are attempting to use a model that has not been tested\n"
     ]
    }
   ],
   "source": [
    "openai_client = OpenAI(api_key=os.environ.get(\"OPENAI_API_KEY\"),)\n",
    "key = os.getenv('excon_encryption_key')\n",
    "\n",
    "#rerank_algo  = RerankAlgos.MOST_COMMON\n",
    "rerank_algo  = RerankAlgos.LLM\n",
    "chat = CEMADChat(openai_client = openai_client, \n",
    "                    decryption_key = key, \n",
    "                    rerank_algo = rerank_algo, \n",
    "                    user_name_for_logging = 'test_user')\n",
    "\n",
    "chat.rerank_algo  = RerankAlgos.MOST_COMMON\n"
   ]
  },
  {
   "cell_type": "code",
   "execution_count": 5,
   "metadata": {},
   "outputs": [
    {
     "name": "stderr",
     "output_type": "stream",
     "text": [
      "INFO:httpx:HTTP Request: POST https://api.openai.com/v1/embeddings \"HTTP/1.1 200 OK\"\n",
      "DEV:regulations_rag.regulation_chat:#################   Similarity Search       #################\n",
      "DEV:regulations_rag.regulation_chat:No relevant workflow found\n",
      "DEV:regulations_rag.standard_regulation_index:--   No relevant definitions found\n",
      "DEV:regulations_rag.standard_regulation_index:Selecting the top 15 items based on cosine-similarity score\n",
      "DEV:regulations_rag.standard_regulation_index:0.3106:            B.3(B)(x):        question: Can salaries be transferred to non-residents?\n",
      "DEV:regulations_rag.standard_regulation_index:0.3663:              B.14(V):        question: What conditions must be met for foreign payments to be allowed for employment contracts involving non-residents?\n",
      "DEV:regulations_rag.standard_regulation_index:0.3674:           E.(B)(iii):        question: What payments can be made from a customer's foreign currency account?\n",
      "DEV:regulations_rag.standard_regulation_index:0.3684:          B.10(D)(iv):        question: Can foreigners get foreign currency to pay offshore insurance premiums?\n",
      "DEV:regulations_rag.standard_regulation_index:0.3749:               A.4(C):        question: Can a treasury outsourcing company transact in foreign currency for its own account?\n",
      "DEV:regulations_rag.standard_regulation_index:0.3760:                  B.9:        question: Can a client make foreign currency payments for imports?\n",
      "DEV:regulations_rag.standard_regulation_index:--   Relevant sections found\n",
      "DEV:regulations_rag.rerank:Re-ranking using most_common\n",
      "DEV:regulations_rag.rerank:Top result: B.3(B)(x) with a cosine distance of 0.3106\n",
      "DEV:regulations_rag.rerank:Multiple modes found, treated as no unique mode.\n",
      "DEV:regulations_rag.rerank:Only the top result added but more were found. Adding the next most likely answer(s).\n",
      "DEV:regulations_rag.rerank:Reference: B.14(V), Count: 1, Min Cosine-Distance: 0.3663\n",
      "DEV:regulations_rag.rerank:Reference: E.(B)(iii), Count: 1, Min Cosine-Distance: 0.3674\n",
      "ANALYSIS:regulations_rag.regulation_chat:user to test_user: I have a company non resident foreign currency account and I would like to pay salaries of my employees cross border. Can this be done?\n",
      "DEV:regulations_rag.regulation_chat:#################   RAG Prompts   #################\n",
      "DEV:regulations_rag.regulation_chat:System Prompt:\n",
      "You are answering questions for an Authorised Dealer (AD) based only on the sections from the South African Exchange Control Manual that are provided. Please use the manual's index pattern when referring to sections: [A-Z]\\.\\d{0,2}\\([A-Z]\\)\\((?:i|ii|iii|iv|v|vi)\\)\\([a-z]\\)\\([a-z]{2}\\)\\(\\d+\\). You have three options:\n",
      "1) Answer the question. Preface an answer with the tag 'ANSWER:'. End the answer with 'Reference: ' and a comma separated list of the section you used to answer the question if you used any.\n",
      "2) Request additional documentation. If, in the body of the sections provided, there is a reference to another section of the Manual that is directly relevant and not already provided, respond with the word 'SECTION:' followed by the full section reference.\n",
      "3) State 'NONE:' and nothing else in all other cases\n",
      "\n",
      "\"\n",
      "DEV:regulations_rag.regulation_chat:User Prompt with RAG:\n",
      "Question: I have a company non resident foreign currency account and I would like to pay salaries of my employees cross border. Can this be done?\n",
      "\n",
      "Sections from the Manual\n",
      "B.3 Income transfers\n",
      "    (B) Income due to non-residents and private individuals who cease to be residents for tax purposes in South Africa\n",
      "        (x) Salaries and/or fees payable in respect of services rendered\n",
      "            (a) Authorised Dealers may allow the transfer of salaries and/or fees payable to bona fide non-residents and private individuals who ceased to be residents for tax purposes in South Africa, provided these individuals are unrelated parties and the services are rendered from abroad. See section B.3(C)(ii) of the Authorised Dealer Manual for payments to related parties.\n",
      "B.14 Miscellaneous transfers\n",
      "    (V) Employment contracts involving non-residents\n",
      "        (i) Where South African entities are required to remit funds abroad in respect of employment contracts involving non-residents who are employed in South Africa, Authorised Dealers may allow such transfers provided that the payments are commensurate with the work undertaken. In this regard the provisions of section B.5(A)(i) of the Authorised Dealer Manual should be adhered to by the individual contract workers.\n",
      "        (ii) Where South African entities are required to remit funds abroad in respect of employment contracts involving non-residents who are employed outside South Africa, Authorised Dealers may allow such transfers provided that the payments are commensurate with the work undertaken.\n",
      "E. Non-resident Rand account, Customer Foreign Currency accounts, foreign currency accounts and foreign bank accounts\n",
      "    (B) Customer Foreign Currency accounts\n",
      "        (iii) Permissible set offs/debits over CFC accounts\n",
      "            (a) The following payments may be set off against single CFC account balances:\n",
      "                (aa) imports and software electronically downloaded, including all costs related thereto;\n",
      "                (bb) the payment of expenses such as commission, freight, insurance and demurrage, which are expressed in a foreign currency;\n",
      "                (cc) advertising, exhibition or trade fair expenses;\n",
      "                (dd) charges for repairs and adjustments to goods exported temporarily;\n",
      "                (ee) charges in connection with legal disputes;\n",
      "                (ff) examination fees where the account holder is responsible for the payment thereof;\n",
      "                (gg) fees in respect of services rendered;\n",
      "                (hh) fees in respect of the registration of drugs;\n",
      "                (ii) royalties and fees arising from the use of patent, designs and trademarks;\n",
      "                (jj) subscriptions; and\n",
      "                (kk) technical service payments.\n",
      "            (b) The set offs and/or debits referred to above may only be passed provided that the Authorised Dealer concerned has satisfied itself that the transactions are permissible in terms of the various sections of the Authorised Dealer Manual or in respect of which a specific authority has been granted by the Financial Surveillance Department.\n",
      "\n",
      "INFO:httpx:HTTP Request: POST https://api.openai.com/v1/chat/completions \"HTTP/1.1 200 OK\"\n",
      "ANALYSIS:regulations_rag.regulation_chat:assistant to test_user: Yes, you can pay the salaries of your employees cross-border from your company's non-resident foreign currency account. According to section B.3(B)(x)(a), Authorised Dealers may allow the transfer of salaries and/or fees payable to bona fide non-residents and private individuals who ceased to be residents for tax purposes in South Africa, provided these individuals are unrelated parties and the services are rendered from abroad. Additionally, section B.14(V)(ii) states that South African entities can remit funds abroad in respect of employment contracts involving non-residents who are employed outside South Africa, provided that the payments are commensurate with the work undertaken. Furthermore, section E(B)(iii)(a)(gg) allows for fees in respect of services rendered to be set off against single Customer Foreign Currency account balances, which includes salary payments for services rendered.  \n",
      "Reference:  \n",
      "B.3(B)(x): B.3 Income transfers. (B) Income due to non-residents and private individuals who cease to be residents for tax purposes in South Africa. (x) Salaries and/or fees payable in respect of services rendered.  \n",
      "B.14(V): B.14 Miscellaneous transfers. (V) Employment contracts involving non-residents.\n"
     ]
    }
   ],
   "source": [
    "chat.user_provides_input(\"I have a company non resident foreign currency account and I would like to pay salaries of my employees cross border. Can this be done?\")"
   ]
  },
  {
   "cell_type": "code",
   "execution_count": 6,
   "metadata": {},
   "outputs": [
    {
     "name": "stderr",
     "output_type": "stream",
     "text": [
      "INFO:httpx:HTTP Request: POST https://api.openai.com/v1/embeddings \"HTTP/1.1 200 OK\"\n",
      "DEV:regulations_rag.regulation_chat:#################   Similarity Search       #################\n",
      "INFO:regulations_rag.regulation_chat:Found a potentially relevant workflow: documentation\n",
      "DEV:regulations_rag.standard_regulation_index:--   No relevant definitions found\n",
      "DEV:regulations_rag.standard_regulation_index:Selecting the top 15 items based on cosine-similarity score\n",
      "DEV:regulations_rag.standard_regulation_index:--   No relevant sections found\n",
      "INFO:regulations_rag.regulation_chat:Enriching user request for documentation based on conversation history.\n",
      "INFO:httpx:HTTP Request: POST https://api.openai.com/v1/chat/completions \"HTTP/1.1 200 OK\"\n",
      "INFO:regulations_rag.regulation_chat:test_user original question: Is there any documentation required?\n",
      "INFO:regulations_rag.regulation_chat:System enhanced question: What documentation is required as evidence for cross-border salary payments from a company's non-resident foreign currency account?\n",
      "INFO:httpx:HTTP Request: POST https://api.openai.com/v1/embeddings \"HTTP/1.1 200 OK\"\n",
      "DEV:regulations_rag.regulation_chat:#################   Similarity Search       #################\n",
      "DEV:regulations_rag.regulation_chat:No relevant workflow found\n",
      "DEV:regulations_rag.standard_regulation_index:--   No relevant definitions found\n",
      "DEV:regulations_rag.standard_regulation_index:Selecting the top 15 items based on cosine-similarity score\n",
      "DEV:regulations_rag.standard_regulation_index:0.2894:          B.10(C)(ii):        question: What types of documentary evidence are required for foreign currency payments of insurance premiums?\n",
      "DEV:regulations_rag.standard_regulation_index:0.3205:               B.1(B):        question: What documents are required to make foreign currency payments for imports?\n",
      "DEV:regulations_rag.standard_regulation_index:0.3272:              B.14(V):        question: What conditions must be met for foreign payments to be allowed for employment contracts involving non-residents?\n",
      "DEV:regulations_rag.standard_regulation_index:0.3513:              B.14(S):         summary: Foreign payments for visiting artists, entertainers, and sportsmen. When a non-resident is engaged by a resident, their net earnings can be transferred by authorized dealers upon departure, as long as documentary evidence is provided confirming that all tax obligations have been fulfilled. If a contract requires an upfront or advance payment before the non-resident's contractual obligations are completed, this payment can only be credited to an Escrow account and can only be released proportionately after each performance is completed.\n",
      "DEV:regulations_rag.standard_regulation_index:0.3534:        B.10(C)(i)(b):        question: What documentation is required for intermediaries and Lloyd's correspondents to submit for approving foreign currency payments for insurance and reinsurance premiums placed abroad?\n",
      "DEV:regulations_rag.standard_regulation_index:0.3659:            B.3(B)(x):         summary: Salaries and/or fees for services rendered can be transferred to genuine non-residents and those no longer tax residents in South Africa, provided they are unrelated parties and services are offered from abroad. For payments to related parties, refer to section section B.3(C)(ii) of the manual.\n",
      "DEV:regulations_rag.standard_regulation_index:0.3664:            B.3(B)(x):        question: Can salaries be transferred to non-residents?\n",
      "DEV:regulations_rag.standard_regulation_index:0.3682:              B.14(T):         summary: Residents are allowed to make foreign payments for expenses incurred abroad as a result of their foreign contractual obligations. They need to provide a copy of the relevant foreign contract for verification.\n",
      "DEV:regulations_rag.standard_regulation_index:0.3745:              B.10(G):        question: What documents are required to accompany a request to remit long-term reinsurance premiums in foreign currency?\n",
      "DEV:regulations_rag.standard_regulation_index:0.3773:          B.10(C)(ii):         heading: Insurance and pensions. Foreign currency payments in respect of short-term insurance premiums or reinsurance premiums. Documentary evidence\n",
      "DEV:regulations_rag.standard_regulation_index:--   Relevant sections found\n",
      "DEV:regulations_rag.rerank:Re-ranking using most_common\n",
      "DEV:regulations_rag.rerank:Top result: B.10(C)(ii) with a cosine distance of 0.2894\n",
      "DEV:regulations_rag.rerank:Multiple modes found, treated as no unique mode.\n",
      "DEV:regulations_rag.rerank:Reference: B.3(B)(x), Count: 2, Min Cosine-Distance: 0.3659\n",
      "ANALYSIS:regulations_rag.regulation_chat:user to test_user: What documentation is required as evidence for cross-border salary payments from a company's non-resident foreign currency account?\n",
      "DEV:regulations_rag.regulation_chat:#################   RAG Prompts   #################\n",
      "DEV:regulations_rag.regulation_chat:System Prompt:\n",
      "You are answering questions for an Authorised Dealer (AD) based only on the sections from the South African Exchange Control Manual that are provided. Please use the manual's index pattern when referring to sections: [A-Z]\\.\\d{0,2}\\([A-Z]\\)\\((?:i|ii|iii|iv|v|vi)\\)\\([a-z]\\)\\([a-z]{2}\\)\\(\\d+\\). You have three options:\n",
      "1) Answer the question. Preface an answer with the tag 'ANSWER:'. End the answer with 'Reference: ' and a comma separated list of the section you used to answer the question if you used any.\n",
      "2) Request additional documentation. If, in the body of the sections provided, there is a reference to another section of the Manual that is directly relevant and not already provided, respond with the word 'SECTION:' followed by the full section reference.\n",
      "3) State 'NONE:' and nothing else in all other cases\n",
      "\n",
      "\"\n",
      "DEV:regulations_rag.regulation_chat:User Prompt with RAG:\n",
      "Question: What documentation is required as evidence for cross-border salary payments from a company's non-resident foreign currency account?\n",
      "\n",
      "Sections from the Manual\n",
      "B.10 Insurance and pensions\n",
      "    (C) Foreign currency payments in respect of short-term insurance premiums or reinsurance premiums\n",
      "        (ii) Documentary evidence\n",
      "            (a) All requests for the remittance of insurance premiums referred to above must also be supported by documentary evidence (e.g. a statement of account, bordereau, slip or debit note) reflecting details of the insurance transacted and premiums payable.\n",
      "B.3 Income transfers\n",
      "    (B) Income due to non-residents and private individuals who cease to be residents for tax purposes in South Africa\n",
      "        (x) Salaries and/or fees payable in respect of services rendered\n",
      "            (a) Authorised Dealers may allow the transfer of salaries and/or fees payable to bona fide non-residents and private individuals who ceased to be residents for tax purposes in South Africa, provided these individuals are unrelated parties and the services are rendered from abroad. See section B.3(C)(ii) of the Authorised Dealer Manual for payments to related parties.\n",
      "\n",
      "INFO:httpx:HTTP Request: POST https://api.openai.com/v1/chat/completions \"HTTP/1.1 200 OK\"\n",
      "INFO:regulations_rag.regulation_chat:System requested for more info:\n",
      "B.3(C)(ii)\n",
      "DEV:regulations_rag.regulation_chat:#################   RAG Prompts   #################\n",
      "DEV:regulations_rag.regulation_chat:System Prompt:\n",
      "You are answering questions for an Authorised Dealer (AD) based only on the sections from the South African Exchange Control Manual that are provided. Please use the manual's index pattern when referring to sections: [A-Z]\\.\\d{0,2}\\([A-Z]\\)\\((?:i|ii|iii|iv|v|vi)\\)\\([a-z]\\)\\([a-z]{2}\\)\\(\\d+\\). You have three options:\n",
      "1) Answer the question. Preface an answer with the tag 'ANSWER:'. End the answer with 'Reference: ' and a comma separated list of the section you used to answer the question if you used any.\n",
      "2) Request additional documentation. If, in the body of the sections provided, there is a reference to another section of the Manual that is directly relevant and not already provided, respond with the word 'SECTION:' followed by the full section reference.\n",
      "3) State 'NONE:' and nothing else in all other cases\n",
      "\n",
      "\"\n",
      "DEV:regulations_rag.regulation_chat:User Prompt with RAG:\n",
      "Question: What documentation is required as evidence for cross-border salary payments from a company's non-resident foreign currency account?\n",
      "\n",
      "Sections from the Manual\n",
      "B.3 Income transfers\n",
      "    (B) Income due to non-residents and private individuals who cease to be residents for tax purposes in South Africa\n",
      "        (x) Salaries and/or fees payable in respect of services rendered\n",
      "            (a) Authorised Dealers may allow the transfer of salaries and/or fees payable to bona fide non-residents and private individuals who ceased to be residents for tax purposes in South Africa, provided these individuals are unrelated parties and the services are rendered from abroad. See section B.3(C)(ii) of the Authorised Dealer Manual for payments to related parties.\n",
      "B.3 Income transfers\n",
      "    (C) Royalties and fees payable by South African resident entities to non-residents\n",
      "        (ii) Requests by South African residents to make royalty and fee payments to related parties abroad should be submitted to the Financial Surveillance Department for consideration.\n",
      "\n",
      "INFO:httpx:HTTP Request: POST https://api.openai.com/v1/chat/completions \"HTTP/1.1 200 OK\"\n",
      "INFO:regulations_rag.regulation_chat:Note: Even with the additional information, they system was unable to answer the question. Placing the system in 'stuck' mode\n",
      "INFO:regulations_rag.regulation_chat:The response from the query with additional resources was: \n",
      "B.3(C)(ii)\n",
      "ANALYSIS:regulations_rag.regulation_chat:assistant to test_user: A call for additional sections did not result in sufficient information to answer the question. The system is now stuck. Please clear the chat history and retry your query\n"
     ]
    }
   ],
   "source": [
    "chat.user_provides_input(\"Is there any documentation required?\")"
   ]
  },
  {
   "cell_type": "code",
   "execution_count": 9,
   "metadata": {},
   "outputs": [
    {
     "name": "stderr",
     "output_type": "stream",
     "text": [
      "INFO:httpx:HTTP Request: POST https://api.openai.com/v1/embeddings \"HTTP/1.1 200 OK\"\n",
      "DEV:regulations_rag.regulation_chat:#################   Similarity Search       #################\n",
      "DEV:regulations_rag.regulation_chat:No relevant workflow found\n",
      "DEV:regulations_rag.standard_regulation_index:--   No relevant definitions found\n",
      "DEV:regulations_rag.standard_regulation_index:Selecting the top 15 items based on cosine-similarity score\n",
      "DEV:regulations_rag.standard_regulation_index:0.3489:              B.14(V):        question: What conditions must be met for foreign payments to be allowed for employment contracts involving non-residents?\n",
      "DEV:regulations_rag.standard_regulation_index:0.3531:               B.1(B):        question: What documents are required to make foreign currency payments for imports?\n",
      "DEV:regulations_rag.standard_regulation_index:--   Relevant sections found\n",
      "DEV:regulations_rag.rerank:Re-ranking using most_common\n",
      "DEV:regulations_rag.rerank:Top result: B.14(V) with a cosine distance of 0.3489\n",
      "DEV:regulations_rag.rerank:Multiple modes found, treated as no unique mode.\n",
      "DEV:regulations_rag.rerank:Only the top result added but more were found. Adding the next most likely answer(s).\n",
      "DEV:regulations_rag.rerank:Reference: B.1(B), Count: 1, Min Cosine-Distance: 0.3531\n",
      "ANALYSIS:regulations_rag.regulation_chat:user to test_user: I have a company non resident foreign currency account and I would like to pay salaries of my employees cross border. What documentation do I need?\n",
      "DEV:regulations_rag.regulation_chat:#################   RAG Prompts   #################\n",
      "DEV:regulations_rag.regulation_chat:System Prompt:\n",
      "You are answering questions for an Authorised Dealer (AD) based only on the sections from the South African Exchange Control Manual that are provided. Please use the manual's index pattern when referring to sections: [A-Z]\\.\\d{0,2}\\([A-Z]\\)\\((?:i|ii|iii|iv|v|vi)\\)\\([a-z]\\)\\([a-z]{2}\\)\\(\\d+\\). You have three options:\n",
      "1) Answer the question. Preface an answer with the tag 'ANSWER:'. End the answer with 'Reference: ' and a comma separated list of the section you used to answer the question if you used any.\n",
      "2) Request additional documentation. If, in the body of the sections provided, there is a reference to another section of the Manual that is directly relevant and not already provided, respond with the word 'SECTION:' followed by the full section reference.\n",
      "3) State 'NONE:' and nothing else in all other cases\n",
      "\n",
      "\"\n",
      "DEV:regulations_rag.regulation_chat:User Prompt with RAG:\n",
      "Question: I have a company non resident foreign currency account and I would like to pay salaries of my employees cross border. What documentation do I need?\n",
      "\n",
      "Sections from the Manual\n",
      "B.14 Miscellaneous transfers\n",
      "    (V) Employment contracts involving non-residents\n",
      "        (i) Where South African entities are required to remit funds abroad in respect of employment contracts involving non-residents who are employed in South Africa, Authorised Dealers may allow such transfers provided that the payments are commensurate with the work undertaken. In this regard the provisions of section B.5(A)(i) of the Authorised Dealer Manual should be adhered to by the individual contract workers.\n",
      "        (ii) Where South African entities are required to remit funds abroad in respect of employment contracts involving non-residents who are employed outside South Africa, Authorised Dealers may allow such transfers provided that the payments are commensurate with the work undertaken.\n",
      "B.1 Payment for imports\n",
      "    (B) Requisite documentation\n",
      "        (i) Authorised Dealers may only effect foreign currency payments for imports against the following documentation:\n",
      "            (a) commercial invoices issued by the supplier;\n",
      "            (b) any one of the transport documents as prescribed by the International Chamber of Commerce Uniform Customs and Practice for Documentary Credits (UCP 600) and its supplement for electronic presentation, the eUCP, evidencing transport of the relative goods to South Africa; or\n",
      "            (c) Freight Forwarders Certificate of Receipt or Freight Forwarders Certificate of Transport; and\n",
      "            (d) consignee's copy of the prescribed SARS Customs Declaration.\n",
      "        (ii) In lieu of the documents referred to in (i)(b) and (c) above, arrival notifications issued by shipping companies may be tendered.\n",
      "        (iii) Imports from Botswana may, however, be paid for against a commercial invoice issued by the supplier and the consignee's copy of the prescribed SARS Customs Declaration.\n",
      "\n",
      "INFO:httpx:HTTP Request: POST https://api.openai.com/v1/chat/completions \"HTTP/1.1 200 OK\"\n",
      "ANALYSIS:regulations_rag.regulation_chat:assistant to test_user: For a company with a non-resident foreign currency account looking to pay salaries of employees cross-border, the relevant section is B.14(V)(ii), which states that South African entities may remit funds abroad for employment contracts involving non-residents who are employed outside South Africa, provided that the payments are commensurate with the work undertaken. There is no specific documentation listed in the provided sections for this particular scenario beyond the requirement that payments must be commensurate with the work undertaken. Therefore, it is implied that documentation supporting the nature of the employment and the commensurateness of the payments would be required, but the exact documents are not specified in the provided sections.  \n",
      "Reference:  \n",
      "B.14(V): B.14 Miscellaneous transfers. (V) Employment contracts involving non-residents.\n"
     ]
    }
   ],
   "source": [
    "chat.reset_conversation_history()\n",
    "chat.user_provides_input(\"I have a company non resident foreign currency account and I would like to pay salaries of my employees cross border. What documentation do I need?\")"
   ]
  },
  {
   "cell_type": "code",
   "execution_count": null,
   "metadata": {},
   "outputs": [],
   "source": []
  }
 ],
 "metadata": {
  "kernelspec": {
   "display_name": "Python 3.10.4 ('env': venv)",
   "language": "python",
   "name": "python3"
  },
  "language_info": {
   "codemirror_mode": {
    "name": "ipython",
    "version": 3
   },
   "file_extension": ".py",
   "mimetype": "text/x-python",
   "name": "python",
   "nbconvert_exporter": "python",
   "pygments_lexer": "ipython3",
   "version": "3.10.4"
  },
  "orig_nbformat": 4,
  "vscode": {
   "interpreter": {
    "hash": "e330cde3341ddb10937c3ab3ef8422853a5bdecbc44a28db7f9f3e6bc03c2d94"
   }
  }
 },
 "nbformat": 4,
 "nbformat_minor": 2
}
