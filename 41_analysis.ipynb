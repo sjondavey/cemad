{
 "cells": [
  {
   "cell_type": "code",
   "execution_count": 1,
   "metadata": {},
   "outputs": [],
   "source": [
    "import logging\n",
    "import pandas as pd\n",
    "import os\n",
    "\n",
    "#log_level = logging.INFO\n",
    "# log_level = logging.DEBUG\n",
    "log_level = 25 # ANALYSIS_LEVEL\n",
    "logging.basicConfig(level=log_level)\n",
    "logger = logging.getLogger(__name__)\n",
    "logger.setLevel(log_level)\n",
    "\n",
    "from dotenv import load_dotenv\n",
    "load_dotenv()\n",
    "secret_name = \"OPENAI_API_KEY_CEMAD\"\n",
    "openai_api_key = os.getenv(secret_name)\n",
    "key = os.getenv('DECRYPTION_KEY_CEMAD')\n"
   ]
  },
  {
   "cell_type": "code",
   "execution_count": 3,
   "metadata": {},
   "outputs": [],
   "source": [
    "\n",
    "from regulations_rag.embeddings import  EmbeddingParameters\n",
    "from regulations_rag.rerank import RerankAlgos\n",
    "from regulations_rag.corpus_chat import ChatParameters\n",
    "from regulations_rag.path_search import PathSearch\n",
    "from regulations_rag.path_rag import PathRAG\n",
    "from regulations_rag.path_no_rag_data import PathNoRAGData\n",
    "\n",
    "import importlib\n",
    "import cemad_rag.cemad_corpus_index\n",
    "importlib.reload(cemad_rag.cemad_corpus_index)\n",
    "from cemad_rag.cemad_corpus_index import CEMADCorpusIndex\n",
    "\n",
    "import cemad_rag.corpus_chat_cemad\n",
    "importlib.reload(cemad_rag.corpus_chat_cemad)\n",
    "from cemad_rag.corpus_chat_cemad import CorpusChatCEMAD\n",
    "\n",
    "import cemad_rag.path_suggest_alternatives\n",
    "importlib.reload(cemad_rag.path_suggest_alternatives)\n",
    "from cemad_rag.path_suggest_alternatives import PathSuggestAlternatives\n",
    "\n",
    "from IPython.display import Markdown, display\n"
   ]
  },
  {
   "cell_type": "code",
   "execution_count": 4,
   "metadata": {},
   "outputs": [],
   "source": [
    "chat_parameters = ChatParameters(chat_model = \"gpt-4o\", api_key = openai_api_key, temperature = 0, max_tokens = 4096, token_limit_when_truncating_message_queue = 3500)\n",
    "\n",
    "embedding_parameters = EmbeddingParameters(\"text-embedding-3-large\", 1024)\n",
    "corpus_index = CEMADCorpusIndex(key)\n",
    "\n",
    "rerank_algo  = RerankAlgos.LLM\n",
    "if rerank_algo == RerankAlgos.LLM:\n",
    "    rerank_algo.params[\"openai_client\"] = chat_parameters.openai_client\n",
    "    rerank_algo.params[\"model_to_use\"] = chat_parameters.model\n",
    "    rerank_algo.params[\"user_type\"] = corpus_index.user_type\n",
    "    rerank_algo.params[\"corpus_description\"] = corpus_index.corpus_description\n",
    "    rerank_algo.params[\"final_token_cap\"] = 5000 # can go large with the new models\n",
    "\n",
    "\n",
    "chat = CorpusChatCEMAD(embedding_parameters = embedding_parameters, chat_parameters = chat_parameters, corpus_index = corpus_index, rerank_algo = RerankAlgos.LLM, user_name_for_logging = 'test_user')\n",
    "chat.strict_rag = False\n",
    "path_suggest_alternatives = PathSuggestAlternatives(chat_parameters = chat_parameters, corpus_index = corpus_index, embedding_parameters = embedding_parameters, rerank_algo = rerank_algo)\n",
    "path_search = PathSearch(corpus_index = corpus_index, chat_parameters = chat_parameters, embedding_parameters = embedding_parameters, rerank_algo = rerank_algo)\n",
    "path_rag = PathRAG(corpus_index = corpus_index, chat_parameters = chat_parameters)\n",
    "path_no_rag_data = PathNoRAGData(corpus_index = corpus_index, chat_parameters = chat_parameters)\n"
   ]
  },
  {
   "cell_type": "markdown",
   "metadata": {},
   "source": [
    "Usage\n",
    "```\n",
    "user_content = \"Can I buy property overseas using my credit card?\"\n",
    "result = path_suggest_alternatives.suggest_alternative_questions(message_history = [], current_user_message = {'role': 'user', 'content': user_content})\n",
    "\n",
    "result = path_no_rag_data.query_no_rag_data(message_history = [], current_user_message = {'role': 'user', 'content': user_content})\n",
    "\n",
    "workflow_triggered, relevant_definitions, relevant_sections = path_search.similarity_search(user_question = user_content)\n",
    "result = path_rag.perform_RAG_path(message_history = [], current_user_message = {'role': 'user', 'content': user_content, 'reference_material': {'definitions': relevant_definitions, 'sections': relevant_sections}})\n",
    "```"
   ]
  },
  {
   "cell_type": "code",
   "execution_count": 7,
   "metadata": {},
   "outputs": [
    {
     "name": "stderr",
     "output_type": "stream",
     "text": [
      "ANALYSIS:cemad_rag.path_suggest_alternatives:Suggesting alternative questions\n"
     ]
    },
    {
     "data": {
      "text/plain": [
       "{'role': 'assistant',\n",
       " 'content': 'The system has suggested the following alternative questions: \\n\\nCan I purchase property in a foreign country using a credit card?',\n",
       " 'assistant_response': AlternativeQuestionResponse(alternatives=['Can I purchase property in a foreign country using a credit card?'])}"
      ]
     },
     "execution_count": 7,
     "metadata": {},
     "output_type": "execute_result"
    }
   ],
   "source": [
    "user_content = \"Can I buy property overseas using my credit card?\"\n",
    "result = path_suggest_alternatives.suggest_alternative_questions(message_history = [], current_user_message = {'role': 'user', 'content': user_content})\n",
    "result\n"
   ]
  },
  {
   "cell_type": "code",
   "execution_count": 17,
   "metadata": {},
   "outputs": [],
   "source": [
    "user_content = \"Can I purchase property in a foreign country using a credit card?\"\n",
    "workflow_triggered, relevant_definitions, relevant_sections = path_search.similarity_search(user_question = user_content)\n",
    "\n",
    "# result = path_rag.perform_RAG_path(message_history = [], current_user_message = {'role': 'user', 'content': user_content, 'reference_material': {'definitions': relevant_definitions, 'sections': relevant_sections}})\n",
    "# result\n"
   ]
  },
  {
   "cell_type": "code",
   "execution_count": 19,
   "metadata": {},
   "outputs": [
    {
     "data": {
      "text/html": [
       "<div>\n",
       "<style scoped>\n",
       "    .dataframe tbody tr th:only-of-type {\n",
       "        vertical-align: middle;\n",
       "    }\n",
       "\n",
       "    .dataframe tbody tr th {\n",
       "        vertical-align: top;\n",
       "    }\n",
       "\n",
       "    .dataframe thead th {\n",
       "        text-align: right;\n",
       "    }\n",
       "</style>\n",
       "<table border=\"1\" class=\"dataframe\">\n",
       "  <thead>\n",
       "    <tr style=\"text-align: right;\">\n",
       "      <th></th>\n",
       "      <th>section_reference</th>\n",
       "      <th>text</th>\n",
       "      <th>source</th>\n",
       "      <th>embedding</th>\n",
       "      <th>document</th>\n",
       "      <th>cosine_distance</th>\n",
       "      <th>regulation_text</th>\n",
       "      <th>token_count</th>\n",
       "    </tr>\n",
       "  </thead>\n",
       "  <tbody>\n",
       "    <tr>\n",
       "      <th>0</th>\n",
       "      <td>B.2(B)(i)</td>\n",
       "      <td>How can residents finance foreign asset purcha...</td>\n",
       "      <td>question</td>\n",
       "      <td>[-0.05637288838624954, -0.0065882159397006035,...</td>\n",
       "      <td>CEMAD</td>\n",
       "      <td>0.374013</td>\n",
       "      <td>B.2 Capital transfers\\n    (B) Private individ...</td>\n",
       "      <td>2444</td>\n",
       "    </tr>\n",
       "  </tbody>\n",
       "</table>\n",
       "</div>"
      ],
      "text/plain": [
       "  section_reference                                               text  \\\n",
       "0         B.2(B)(i)  How can residents finance foreign asset purcha...   \n",
       "\n",
       "     source                                          embedding document  \\\n",
       "0  question  [-0.05637288838624954, -0.0065882159397006035,...    CEMAD   \n",
       "\n",
       "   cosine_distance                                    regulation_text  \\\n",
       "0         0.374013  B.2 Capital transfers\\n    (B) Private individ...   \n",
       "\n",
       "   token_count  \n",
       "0         2444  "
      ]
     },
     "execution_count": 19,
     "metadata": {},
     "output_type": "execute_result"
    }
   ],
   "source": [
    "relevant_sections"
   ]
  },
  {
   "cell_type": "code",
   "execution_count": 18,
   "metadata": {},
   "outputs": [
    {
     "name": "stdout",
     "output_type": "stream",
     "text": [
      "1\n",
      "How can residents finance foreign asset purchases?\n",
      "B.2 Capital transfers\n",
      "    (B) Private individuals resident in South Africa\n",
      "        (i) Foreign investments by private individuals (natural persons) resident in South Africa\n",
      "            (a) Authorised Dealers may allow the transfer, as a foreign capital allowance, of up to a total amount of R10 million per calendar year per private individual who is a taxpayer in good standing and is 18 years and older, for investment purposes abroad. The funds to be transferred must be converted to foreign currency by the Authorised Dealer and may also be held in a resident foreign currency account in the name of the resident with any Authorised Dealer.\n",
      "            (b) Authorised Dealers are advised that a valid green bar-coded South African identity document or a Smart identity document card is the only acceptable document proving residency in South Africa.\n",
      "            (c) Prior to authorising the transaction, Authorised Dealers must ensure that their client is acquainted with the declaration contained in the integrated form.\n",
      "            (d) In terms of the SARS Tax Compliance Status (TCS) system, a TCS PIN letter will be issued to the taxpayer that will contain the tax number and TCS PIN. Authorised Dealers must use the TCS PIN to verify the taxpayer's tax compliance status via SARS eFiling prior to effecting any transfers. Authorised Dealers must ensure that the amount to be transferred does not exceed the amount approved by SARS. Authorised Dealers should note that the TCS PIN can expire and should the Authorised Dealers find that the TCS PIN has indeed expired, then the Authorised Dealer must insist on a new TCS PIN to verify the taxpayer's tax compliance status.\n",
      "            (e) In terms of the SARS Tax Compliance Status System introduced on 2016-04-18, a tax compliance status PIN letter will be issued to the taxpayer that will contain the tax number and PIN. Authorised Dealers must use the PIN to verify the taxpayer's tax compliance status via SARS eFiling prior to effecting any transfers.\n",
      "            (f) Authorised Dealers must retain a printed tax compliance status verification result for a period of five years for inspection purposes.\n",
      "            (g) Private individuals who do not have a tax reference number will have to register at their local SARS branch.\n",
      "            (h) Authorised Dealers must bring to the attention of their clients that they may not enter into any transactions whereby capital or the right to capital will be directly or indirectly exported from South Africa (e.g. may not enter into a foreign commitment with recourse to South Africa). However, private individuals may raise loans abroad to finance the acquisition of foreign assets without recourse to South Africa.\n",
      "            (i) Resident individuals with authorised foreign assets may invest in South Africa, provided that where South African assets are acquired through an offshore structure (loop structure), the investment is reported to an Authorised Dealer as and when the transaction(s) is finalised as well as the submission of an annual progress report to the Financial Surveillance Department via an Authorised Dealer. The aforementioned party also has to view an independent auditor's written confirmation or suitable documentary evidence verifying that such transaction(s) is concluded on an arm's length basis, for a fair and market related price.\n",
      "            (j) Upon completion of the transaction in (i) above the Authorised Dealer must submit a report to the Financial Surveillance Department which should, inter alia, include the name(s) of the South African affiliated foreign investor(s), a description of the assets to be acquired (including inward foreign loans, the acquisition of shares and the acquisition of property), the name of the South African target investment company, if applicable and the date of the acquisition as well as the actual foreign currency amount introduced including a transaction reference number.\n",
      "            (k) In addition, all inward loans from South African affiliated foreign investors must comply with the directives issued in section I.3(B) of the Authorised Dealer Manual.\n",
      "            (l) Existing unauthorised loop structures (i.e. created by individuals prior to 2021-01-01) and/or unauthorised loop structures where the 40 per cent shareholding threshold was exceeded, must still be regularised with the Financial Surveillance Department.\n",
      "            (m) The Financial Surveillance Department will consider applications by private individuals who wish to invest in excess of the R10 million foreign capital allowance limit, in different asset classes. Such investments, if approved, could be facilitated via a foreign domiciled and registered trust. This dispensation would also apply to private individuals who have existing authorised foreign assets, irrespective of the value thereof. In terms of the TCS system, a TCS PIN letter will be issued to the taxpayer that will contain the tax number and TCS PIN. Authorised Dealers must use the TCS PINto verify the taxpayer's tax compliance status via SARS eFiling prior to effecting any transfers. Authorised Dealers should note that the TCS PIN can expire and should the Authorised Dealers find that the TCS PIN has indeed expired, then the Authorised Dealer must insist on a new TCS PIN to verify the taxpayer's tax compliance.\n",
      "            (n) Foreign currency accounts may be opened for private individuals (natural persons). Authorised Dealers may allow withdrawals from these accounts through the use of any authorised banking product. Funds withdrawn from these accounts may also be converted to Rand.\n",
      "            (o) Private individuals may, as part of their single discretionary allowance and/or foreign capital allowance, export multi-listed domestic securities to a foreign securities register in a jurisdiction where such securities are listed, subject to tax compliance and reporting to the Financial Surveillance Department via a Central Securities Depository Participant, in conjunction with an Authorised Dealer.\n",
      "            (p) Since these transactions will not result in actual flow of funds from South Africa, the process thereof as well as the reporting must take place as outlined hereunder:\n",
      "                (aa) An applicant must furnish the following information through an Authorised Dealer, at the time of submitting a request for a confirmation letter and/or approval letter to the Financial Surveillance Department:\n",
      "                    (1) the full names and identity number of the applicant;\n",
      "                    (2) the name of the company whose securities are exported as well as number of securities and the market value thereof; and\n",
      "                    (3) domicilium and name of the target foreign register on which those securities are listed.\n",
      "                (bb) In this regard, the confirmation letter and/or approval letter from the Financial Surveillance Department must be presented by the applicant to the relevant South African Central Securities Depository Participant to effect the transaction.\n",
      "                (cc) Central Securities Depository Participants may, in conjunction with an Authorised Dealer, allow the transfer of domestic listed securities abroad, up to a total market value of R1 million per calendar year in terms of the single discretionary allowance for private individuals, without the requirement to obtain a TCS PIN letter, provided a confirmation letter from the Financial Surveillance Department is viewed.\n",
      "                (dd) Central Securities Depository Participants may, in conjunction with an Authorised Dealer, also allow the transfer of domestic listed securities of up to a total market value of R10 million per calendar year in terms of the foreign capital allowance, provided that a TCS PIN letter is obtained as well as a confirmation letter from the Financial Surveillance Department is viewed.\n",
      "                (ee) Private individuals who export securities with a market value of more than R10 million are subject to a more stringent verification process by SARS as well as an approval process from the Financial Surveillance Department. Such transfers will trigger a risk management test that will, inter alia, include verification of the tax status and the source of funds, as well as risk assess the private individual in terms of the anti-money laundering and countering terror financing requirements, as prescribed in the Financial Intelligence Centre Act, 2001 (Act No. 38 of 2001).\n",
      "            (q) Private individuals may only fund online international trading accounts at registered brokers in terms of the single discretionary and/or foreign capital allowance, i.e. the Authorised Dealer concerned must convert the Rand into foreign currency and transfer such funds via the banking system as an Electronic Funds Transfer to a foreign bank account or the funds can be deposited in a foreign currency account at an Authorised Dealer.\n",
      "            (r) No South African debit, credit and virtual card may, however, be used to fund a foreign currency account at an Authorised Dealer or a bank abroad, nor may international trading accounts of private individuals be funded using South African credit, debit and virtual card transfers. Online international trading accounts, inter alia include trading global currencies against each other, trading a contract for difference, trading in foreign stocks, trading commodities including crypto assets and/or trading foreign indices using an online trading platform of the broker concerned.\n"
     ]
    }
   ],
   "source": [
    "print(len(relevant_sections))\n",
    "print(relevant_sections.iloc[0]['text'])\n",
    "print(relevant_sections.iloc[0]['regulation_text'])\n"
   ]
  },
  {
   "cell_type": "code",
   "execution_count": null,
   "metadata": {},
   "outputs": [],
   "source": []
  }
 ],
 "metadata": {
  "kernelspec": {
   "display_name": "env",
   "language": "python",
   "name": "python3"
  },
  "language_info": {
   "codemirror_mode": {
    "name": "ipython",
    "version": 3
   },
   "file_extension": ".py",
   "mimetype": "text/x-python",
   "name": "python",
   "nbconvert_exporter": "python",
   "pygments_lexer": "ipython3",
   "version": "3.10.4"
  }
 },
 "nbformat": 4,
 "nbformat_minor": 2
}
