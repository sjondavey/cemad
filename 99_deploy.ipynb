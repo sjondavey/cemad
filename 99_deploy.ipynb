{
 "cells": [
  {
   "cell_type": "code",
   "execution_count": 1,
   "metadata": {},
   "outputs": [],
   "source": [
    "import importlib\n",
    "import cemad_rag.deploy\n",
    "importlib.reload(cemad_rag.deploy)\n",
    "from cemad_rag.deploy import deploy\n"
   ]
  },
  {
   "cell_type": "code",
   "execution_count": 2,
   "metadata": {},
   "outputs": [],
   "source": [
    "deploy(\".\")\n",
    "\n",
    "#TODO: Add environmental variable to production environement: BLOB_CONTAINER = 'cemaddev'\n",
    "# update regulations_rag and requirements.txt\n",
    "# add Maintenace to the deploy\n",
    "# updated yaml to display maintenance"
   ]
  },
  {
   "cell_type": "code",
   "execution_count": null,
   "metadata": {},
   "outputs": [],
   "source": [
    "pip install -U git+https://github.com/sjondavey/regulations_rag.git@no_retrieval#egg=regulations_rag\n",
    "\n",
    "pip install -U git+https://github.com/sjondavey/regulations_rag.git@master#egg=regulations_rag\n"
   ]
  }
 ],
 "metadata": {
  "kernelspec": {
   "display_name": "env",
   "language": "python",
   "name": "python3"
  },
  "language_info": {
   "codemirror_mode": {
    "name": "ipython",
    "version": 3
   },
   "file_extension": ".py",
   "mimetype": "text/x-python",
   "name": "python",
   "nbconvert_exporter": "python",
   "pygments_lexer": "ipython3",
   "version": "3.10.4"
  },
  "orig_nbformat": 4
 },
 "nbformat": 4,
 "nbformat_minor": 2
}
