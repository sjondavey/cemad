{
 "cells": [
  {
   "cell_type": "code",
   "execution_count": 12,
   "metadata": {},
   "outputs": [],
   "source": [
    "import os, uuid\n",
    "from azure.identity import DefaultAzureCredential\n",
    "from azure.storage.blob import BlobServiceClient, BlobClient, ContainerClient"
   ]
  },
  {
   "cell_type": "code",
   "execution_count": 4,
   "metadata": {},
   "outputs": [
    {
     "name": "stdout",
     "output_type": "stream",
     "text": [
      "Adding the environmental variables from .env to the environmental variables for the machine\n"
     ]
    }
   ],
   "source": [
    "from dotenv import load_dotenv\n",
    "if os.getenv('AZURE_ENVIRONMENT') == 'local':\n",
    "    print(\"Adding the environmental variables from .env to the environmental variables for the machine\")\n",
    "    load_dotenv()"
   ]
  },
  {
   "cell_type": "code",
   "execution_count": 13,
   "metadata": {},
   "outputs": [
    {
     "name": "stdout",
     "output_type": "stream",
     "text": [
      "Azure Blob Storage Python quickstart sample\n",
      "Exception:\n",
      "This request is not authorized to perform this operation.\n",
      "RequestId:96793a9d-201e-0074-62b2-060b4d000000\n",
      "Time:2024-09-14T14:26:30.1091620Z\n",
      "ErrorCode:AuthorizationFailure\n",
      "Content: <?xml version=\"1.0\" encoding=\"utf-8\"?><Error><Code>AuthorizationFailure</Code><Message>This request is not authorized to perform this operation.\n",
      "RequestId:96793a9d-201e-0074-62b2-060b4d000000\n",
      "Time:2024-09-14T14:26:30.1091620Z</Message></Error>\n"
     ]
    }
   ],
   "source": [
    "try:\n",
    "    print(\"Azure Blob Storage Python quickstart sample\")\n",
    "\n",
    "    account_url = \"https://chatlogsaccount.blob.core.windows.net/\"\n",
    "    default_credential = DefaultAzureCredential()\n",
    "\n",
    "    # Create the BlobServiceClient object\n",
    "    blob_service_client = BlobServiceClient(account_url, credential=default_credential)\n",
    "\n",
    "\n",
    "    # Create a unique name for the container\n",
    "    container_name = str(uuid.uuid4())\n",
    "\n",
    "    # Create the container\n",
    "    container_client = blob_service_client.create_container(container_name)\n",
    "\n",
    "\n",
    "except Exception as ex:\n",
    "    print('Exception:')\n",
    "    print(ex)"
   ]
  },
  {
   "cell_type": "code",
   "execution_count": 9,
   "metadata": {},
   "outputs": [
    {
     "data": {
      "text/plain": [
       "<azure.identity._credentials.default.DefaultAzureCredential at 0x263a48fbeb0>"
      ]
     },
     "execution_count": 9,
     "metadata": {},
     "output_type": "execute_result"
    }
   ],
   "source": [
    "default_credential"
   ]
  },
  {
   "cell_type": "code",
   "execution_count": 5,
   "metadata": {},
   "outputs": [],
   "source": [
    "from azure.identity import AzureCliCredential\n",
    "from azure.storage.blob import BlobServiceClient\n",
    "import uuid\n",
    "\n",
    "account_url = \"https://chatlogsaccount.blob.core.windows.net\"\n",
    "cli_credential = AzureCliCredential()\n",
    "\n",
    "blob_service_client = BlobServiceClient(account_url, credential=cli_credential)\n",
    "container_name = str(uuid.uuid4())\n",
    "container_client = blob_service_client.create_container(container_name)"
   ]
  },
  {
   "cell_type": "code",
   "execution_count": null,
   "metadata": {},
   "outputs": [],
   "source": [
    "try:\n",
    "    print(\"Azure Blob Storage Python quickstart sample - create local folder, file, data and upload it\")\n",
    "\n",
    "\n",
    "    # Create a file in the local data directory to upload and download\n",
    "    local_file_name = str(uuid.uuid4()) + \".txt\"\n",
    "    upload_file_path = os.path.join(local_path, local_file_name)\n",
    "\n",
    "    # Write text to the file\n",
    "    file = open(file=upload_file_path, mode='w')\n",
    "    file.write(\"Hello, World!\")\n",
    "    file.close()\n",
    "\n",
    "    # Create a blob client using the local file name as the name for the blob\n",
    "    blob_client = blob_service_client.get_blob_client(container=container_name, blob=local_file_name)\n",
    "\n",
    "    print(\"\\nUploading to Azure Storage as blob:\\n\\t\" + local_file_name)\n",
    "\n",
    "    # Upload the created file\n",
    "    with open(file=upload_file_path, mode=\"rb\") as data:\n",
    "        blob_client.upload_blob(data)\n",
    "\n",
    "except Exception as ex:\n",
    "    print('Exception:')\n",
    "    print(ex)"
   ]
  },
  {
   "cell_type": "code",
   "execution_count": null,
   "metadata": {},
   "outputs": [],
   "source": [
    "try:\n",
    "    print(\"Azure Blob Storage Python quickstart sample - create local folder, file, data and upload it\")\n",
    "\n",
    "\n",
    "print(\"\\nListing blobs...\")\n",
    "\n",
    "# List the blobs in the container\n",
    "blob_list = container_client.list_blobs()\n",
    "for blob in blob_list:\n",
    "    print(\"\\t\" + blob.name)\n",
    "\n",
    "    \n",
    "except Exception as ex:\n",
    "    print('Exception:')\n",
    "    print(ex)"
   ]
  },
  {
   "cell_type": "code",
   "execution_count": 3,
   "metadata": {},
   "outputs": [
    {
     "data": {
      "text/plain": [
       "'e0e4ae00-af65-4a84-817b-31e6e9081aac'"
      ]
     },
     "execution_count": 3,
     "metadata": {},
     "output_type": "execute_result"
    }
   ],
   "source": [
    "# Create a unique name for the container\n",
    "str(uuid.uuid4())"
   ]
  },
  {
   "cell_type": "code",
   "execution_count": null,
   "metadata": {},
   "outputs": [],
   "source": []
  }
 ],
 "metadata": {
  "kernelspec": {
   "display_name": "Python 3.10.4 ('env': venv)",
   "language": "python",
   "name": "python3"
  },
  "language_info": {
   "codemirror_mode": {
    "name": "ipython",
    "version": 3
   },
   "file_extension": ".py",
   "mimetype": "text/x-python",
   "name": "python",
   "nbconvert_exporter": "python",
   "pygments_lexer": "ipython3",
   "version": "3.10.4"
  },
  "orig_nbformat": 4,
  "vscode": {
   "interpreter": {
    "hash": "e330cde3341ddb10937c3ab3ef8422853a5bdecbc44a28db7f9f3e6bc03c2d94"
   }
  }
 },
 "nbformat": 4,
 "nbformat_minor": 2
}
