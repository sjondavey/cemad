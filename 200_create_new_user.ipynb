{
 "cells": [
  {
   "cell_type": "code",
   "execution_count": 1,
   "metadata": {},
   "outputs": [],
   "source": [
    "import bcrypt\n"
   ]
  },
  {
   "cell_type": "code",
   "execution_count": 4,
   "metadata": {},
   "outputs": [
    {
     "name": "stdout",
     "output_type": "stream",
     "text": [
      "Generated Username: CalmRiver\n",
      "Generated Password: Bird224)\n"
     ]
    }
   ],
   "source": [
    "import random\n",
    "\n",
    "adjectives = [\"Happy\", \"Quiet\", \"Clever\", \"Brave\", \"Shiny\", \"Bright\", \"Calm\", \"Bold\", \"Charming\"]\n",
    "nouns = [\"Lion\", \"River\", \"Mountain\", \"Sky\", \"Tree\", \"Star\", \"Bird\", \"Sun\", \"Moon\"]\n",
    "\n",
    "def generate_username():\n",
    "    adjective = random.choice(adjectives)\n",
    "    noun = random.choice(nouns)\n",
    "    return f\"{adjective}{noun}\"\n",
    "\n",
    "username = generate_username()\n",
    "print(\"Generated Username:\", username)\n",
    "\n",
    "import random\n",
    "import string\n",
    "\n",
    "def generate_password():\n",
    "    words = [\"Tree\", \"Star\", \"Moon\", \"River\", \"Sun\", \"Rock\", \"Sky\", \"Bird\", \"Cloud\"]\n",
    "    word = random.choice(words)\n",
    "    number = random.randint(100, 999)\n",
    "    special_char = random.choice(string.punctuation)\n",
    "    return f\"{word}{number}{special_char}\"\n",
    "\n",
    "password = generate_password()\n",
    "print(\"Generated Password:\", password)\n"
   ]
  },
  {
   "cell_type": "code",
   "execution_count": 5,
   "metadata": {},
   "outputs": [
    {
     "name": "stdout",
     "output_type": "stream",
     "text": [
      "CalmRiver = \"$2b$12$p/rhYcteRkC.2G5q9UBb.esqV8WTNSpnZVRql.cnI7dBnGLapGyHW\"\n"
     ]
    }
   ],
   "source": [
    "\n",
    "# Generate a salt\n",
    "salt = bcrypt.gensalt()\n",
    "\n",
    "# Hash the password\n",
    "hashed_password = bcrypt.hashpw(password.encode(), salt)\n",
    "\n",
    "# Print the hashed password\n",
    "print(f'{username} = \\\"{hashed_password.decode()}\\\"')"
   ]
  },
  {
   "cell_type": "code",
   "execution_count": null,
   "metadata": {},
   "outputs": [],
   "source": [
    "sdavey = \"$2b$12$E5o2DgxuOsi86rCh.SEKBuHBIZGskeI9HLMfWQZwwsXc3XAtOIg5O\""
   ]
  }
 ],
 "metadata": {
  "kernelspec": {
   "display_name": "Python 3.10.4 ('env': venv)",
   "language": "python",
   "name": "python3"
  },
  "language_info": {
   "codemirror_mode": {
    "name": "ipython",
    "version": 3
   },
   "file_extension": ".py",
   "mimetype": "text/x-python",
   "name": "python",
   "nbconvert_exporter": "python",
   "pygments_lexer": "ipython3",
   "version": "3.10.4"
  },
  "orig_nbformat": 4,
  "vscode": {
   "interpreter": {
    "hash": "e330cde3341ddb10937c3ab3ef8422853a5bdecbc44a28db7f9f3e6bc03c2d94"
   }
  }
 },
 "nbformat": 4,
 "nbformat_minor": 2
}
