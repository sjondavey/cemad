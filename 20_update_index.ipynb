{
 "cells": [
  {
   "cell_type": "code",
   "execution_count": 88,
   "metadata": {},
   "outputs": [],
   "source": [
    "import os\n",
    "import importlib\n",
    "\n",
    "from openai import OpenAI\n",
    "\n",
    "from regulations_rag.data_in_dataframes import load_parquet_data, save_parquet_data\n",
    "\n",
    "\n",
    "import cemad_rag.cemad_data\n",
    "importlib.reload(cemad_rag.cemad_data) \n",
    "from cemad_rag.cemad_data import CEMADData\n",
    "\n",
    "import data_tools.index_tools\n",
    "importlib.reload(data_tools.index_tools)\n",
    "from data_tools.index_tools import update_text_in_index, add_to_index, remove_from_index\n",
    "\n",
    "openai_client = OpenAI(api_key=os.environ.get(\"OPENAI_API_KEY\"),)\n",
    "key = os.getenv('excon_encryption_key')\n",
    "\n",
    "#data  = CEMADData(key)"
   ]
  },
  {
   "cell_type": "code",
   "execution_count": 82,
   "metadata": {},
   "outputs": [],
   "source": [
    "#to_change = \"index\"\n",
    "to_change = \"index_plus\"\n",
    "if to_change == \"index\":\n",
    "    file = \"./inputs/ad_index.parquet\"\n",
    "else:\n",
    "    file = \"./inputs/ad_index_plus.parquet\"\n",
    "\n",
    "index = load_parquet_data(file, key)\n",
    "\n",
    "embedding_model =  \"text-embedding-3-large\"\n",
    "embedding_dimensions = 1024\n"
   ]
  },
  {
   "cell_type": "markdown",
   "metadata": {},
   "source": [
    "## Change an existing entry"
   ]
  },
  {
   "cell_type": "code",
   "execution_count": 84,
   "metadata": {},
   "outputs": [],
   "source": [
    "text_to_change = \"What does cemad say about commodities?\"\n",
    "changed_text = \"commodities\"\n",
    "index = update_text_in_index(openai_client = openai_client, index_df = index , text_to_change=text_to_change, changed_text=changed_text, embedding_model=embedding_model, embedding_dimensions=embedding_dimensions)\n",
    "\n",
    "# SAVE IT\n",
    "# save_parquet_data(index, file)"
   ]
  },
  {
   "cell_type": "markdown",
   "metadata": {},
   "source": [
    "## Add an entry"
   ]
  },
  {
   "cell_type": "code",
   "execution_count": 90,
   "metadata": {},
   "outputs": [],
   "source": [
    "text_to_add = \"more commodities\"\n",
    "section_reference = \"C.(G)\"\n",
    "source = \"heading\"\n",
    "index = add_to_index(openai_client = openai_client, index_df = index, text = text_to_add, section_reference = section_reference, source = source, embedding_model = embedding_model, embedding_dimensions= embedding_dimensions)\n",
    "\n",
    "# SAVE IT\n",
    "# save_parquet_data(index, file)"
   ]
  },
  {
   "cell_type": "markdown",
   "metadata": {},
   "source": [
    "## Delete an entry"
   ]
  },
  {
   "cell_type": "code",
   "execution_count": 92,
   "metadata": {},
   "outputs": [],
   "source": [
    "text_to_delete = \"more commodities\"\n",
    "index = remove_from_index(index_df = index, text_to_delete = text_to_delete)\n",
    "\n",
    "# SAVE IT\n",
    "# save_parquet_data(index, file)"
   ]
  },
  {
   "cell_type": "code",
   "execution_count": null,
   "metadata": {},
   "outputs": [],
   "source": []
  }
 ],
 "metadata": {
  "kernelspec": {
   "display_name": "Python 3.10.4 ('env': venv)",
   "language": "python",
   "name": "python3"
  },
  "language_info": {
   "codemirror_mode": {
    "name": "ipython",
    "version": 3
   },
   "file_extension": ".py",
   "mimetype": "text/x-python",
   "name": "python",
   "nbconvert_exporter": "python",
   "pygments_lexer": "ipython3",
   "version": "3.10.4"
  },
  "orig_nbformat": 4,
  "vscode": {
   "interpreter": {
    "hash": "e330cde3341ddb10937c3ab3ef8422853a5bdecbc44a28db7f9f3e6bc03c2d94"
   }
  }
 },
 "nbformat": 4,
 "nbformat_minor": 2
}
