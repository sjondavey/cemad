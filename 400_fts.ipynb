{
 "cells": [
  {
   "cell_type": "code",
   "execution_count": 2,
   "metadata": {},
   "outputs": [],
   "source": [
    "import logging\n",
    "log_level = logging.INFO\n",
    "# log_level = logging.DEBUG\n",
    "log_level = 15\n",
    "logging.basicConfig(level=log_level)\n",
    "logger = logging.getLogger(__name__)\n",
    "logger.setLevel(log_level)\n",
    "\n",
    "import os\n",
    "from dotenv import load_dotenv\n",
    "load_dotenv()\n",
    "secret_name = \"OPENAI_API_KEY_CEMAD\"\n",
    "openai_api_key = os.getenv(secret_name)\n",
    "key = os.getenv('DECRYPTION_KEY_CEMAD')\n",
    "\n",
    "import importlib\n",
    "from openai import OpenAI\n",
    "from regulations_rag.file_tools import load_parquet_data, save_parquet_data\n",
    "\n",
    "import data_tools.index_tools\n",
    "importlib.reload(data_tools.index_tools)\n",
    "from data_tools.index_tools import update_text_in_index, add_to_index, remove_from_index\n",
    "\n",
    "openai_client = OpenAI(api_key=openai_api_key,)\n",
    "key = os.getenv('excon_encryption_key')"
   ]
  },
  {
   "cell_type": "code",
   "execution_count": 5,
   "metadata": {},
   "outputs": [],
   "source": [
    "to_change = \"index\"\n",
    "#to_change = \"index_plus\"\n",
    "if to_change == \"index\":\n",
    "    file = \"./inputs/index/ad_index.parquet\"\n",
    "else:\n",
    "    file = \"./inputs/index/ad_index_plus.parquet\"\n",
    "\n",
    "df = load_parquet_data(file, key)\n"
   ]
  },
  {
   "cell_type": "code",
   "execution_count": 57,
   "metadata": {},
   "outputs": [],
   "source": [
    "import sqlite3\n",
    "import sqlite_vec\n",
    "import pandas as pd\n",
    "\n",
    "# Connect to SQLite and create the FTS table\n",
    "conn = sqlite3.connect('./db/fts_database.db')\n",
    "conn.enable_load_extension(True) # load the vector embedding extension\n",
    "sqlite_vec.load(conn)\n",
    "conn.enable_load_extension(False)\n",
    "cursor = conn.cursor()\n"
   ]
  },
  {
   "cell_type": "code",
   "execution_count": 27,
   "metadata": {},
   "outputs": [
    {
     "data": {
      "text/plain": [
       "1024"
      ]
     },
     "execution_count": 27,
     "metadata": {},
     "output_type": "execute_result"
    }
   ],
   "source": [
    "tmp = df.iloc[0]['embedding']\n",
    "len(tmp)"
   ]
  },
  {
   "cell_type": "code",
   "execution_count": 61,
   "metadata": {},
   "outputs": [],
   "source": [
    "\n",
    "# Create the FTS5 table for full-text search on the `text` column\n",
    "cursor.execute('''\n",
    "    CREATE VIRTUAL TABLE IF NOT EXISTS document_paragraphs\n",
    "    USING fts5(section_reference, text, source, document);\n",
    "''')\n",
    "\n",
    "# Insert the data from the DataFrame into the FTS table\n",
    "for _, row in df.iterrows():\n",
    "    cursor.execute('''\n",
    "        INSERT INTO document_paragraphs (section_reference, text, source, document)\n",
    "        VALUES (?, ?, ?, ?)\n",
    "    ''', (row['section_reference'], row['text'], row['source'], row['document']))\n",
    "\n",
    "conn.commit()\n",
    "\n"
   ]
  },
  {
   "cell_type": "code",
   "execution_count": 60,
   "metadata": {},
   "outputs": [],
   "source": [
    "import numpy as np\n",
    "# Optional: Store embeddings in a separate table linked by rowid\n",
    "# https://github.com/asg017/sqlite-vec/blob/main/examples/simple-python/demo.py\n",
    "conn.execute('CREATE VIRTUAL TABLE IF NOT EXISTS embeddings USING vec0(embedding float[1024])')\n",
    "\n",
    "# Insert embeddings linked to the FTS table rowids\n",
    "for idx, embedding in enumerate(df['embedding']):\n",
    "    #print(type(embedding))\n",
    "    cursor.execute('INSERT INTO embeddings(embedding) VALUES (?)',\n",
    "                   ([embedding.astype(np.float32)]))\n",
    "    # cursor.execute('INSERT INTO embeddings(rowid, embedding) VALUES (?, ?)',\n",
    "    #                (idx + 1, [embedding.astype(np.float32)]))\n",
    "\n",
    "conn.commit()\n"
   ]
  },
  {
   "cell_type": "code",
   "execution_count": 63,
   "metadata": {},
   "outputs": [
    {
     "name": "stdout",
     "output_type": "stream",
     "text": [
      "Section: B.2(H)(iii)\n",
      "Text: Capital transfers. South African institutional investors. The distinction between managing institution and originating institution\n",
      "Source: heading\n",
      "Document: CEMAD\n",
      "\n",
      "Section: B.2(H)(iii)\n",
      "Text: A managing institution refers to a life insurer, CIS manager, or discretionary financial services provider registered with the Financial Surveillance Department. They offer investment products to both institutional and retail clients. On the other hand, an originating institution is an institutional investor that qualifies for a prudential limit and chooses to invest in products provided by a managing institution. This can be done directly or via intermediaries, like a discretionary financial services provider not registered as an institutional investor with the Financial Surveillance Department or an administrative financial services provider.\n",
      "Source: summary\n",
      "Document: CEMAD\n",
      "\n",
      "Section: B.2(H)(v)\n",
      "Text: Authorised Dealers, when transferring funds for institutional investors representing retail assets, must not debit the underlying retail clients' accounts for conversion. Instead, a separate trust account, either in the name of the managing institution or a party they mandate, should be debited, and the transaction should be reported under the institutional investor's name as per the Reporting System's requirements. Dealers are not tasked with inspecting the quarterly asset allocation reports of institutional investors seeking foreign exposure. However, they must ensure their dealings are with genuine institutional investors. Before transferring funds abroad related to pension funds, life insurers, and other specified financial entities, Dealers must secure a registration certificate from the Financial Sector Conduct Authority and proof of acceptance (not just acknowledgement) of the institutional investor's latest quarterly asset allocation report from the Financial Surveillance Department. If Dealers can't confirm an institutional investor's registration or obtain the required report acceptance, they must escalate the issue to the Financial Surveillance Department. Additionally, Dealers must comply with section A.3(E)(viii)(b) of the Authorised Dealer Manual when handling foreign exchange or hedging transactions with institutional investors from Lesotho, eSwatini, or Namibia.\n",
      "Source: summary\n",
      "Document: CEMAD\n",
      "\n",
      "Section: B.2(H)(vi)\n",
      "Text: Retail clients cannot have direct access to foreign assets, which must be registered under an offshore nominee company/custodian or the managing institution. An exception exists for discretionary foreign assets managed by a financial services provider. Here, if legislatively required, assets can be registered under the retail client's name, given that the financial services provider is both the exclusive signatory and holds transactional authority over the assets. Retail clients, however, cannot transfer or change the registration of these assets. Their only claim to the managing institution is a domestic Rand payment.\n",
      "Source: summary\n",
      "Document: CEMAD\n",
      "\n",
      "Section: B.2(H)(vi)\n",
      "Text: Managing institutions can invest the funds of an originating institution offshore based on the agreed mandate with the originating institution or the mandate of a pooled investment product. If funds from an originating institution are transferred between managing institutions, it's the originating institution's duty to include these funds in its quarterly report until they reach the new managing institution.\n",
      "Source: summary\n",
      "Document: CEMAD\n",
      "\n",
      "Section: B.2(H)(vii)\n",
      "Text: Institutions managing assets for other entities must report the asset allocation of such assets to the original institution at each calendar quarter's end, within 15 working days. This allows the primary institution to apply the 'look-through' method when preparing its reports. As part of the quarterly asset allocation report, managing institutions must also update a list of all their affiliated institutional investors with the Financial Surveillance Department. Specific types of institutions, including life insurers, CIS managers, and discretionary financial service providers, are expected to provide quarterly reports detailing the asset class breakdown of their holdings, segregating retail and institutional assets. For pension funds, their designated administrators, known as section 13B administrators, are to report quarterly asset allocations for each fund they manage. These administrators must also send, within two months post quarter-end, a comprehensive list of all pension funds they oversee, highlighting new or terminated client mandates and the status of all other pension funds for that quarter to the Financial Surveillance Department via email. If the prudential limit is surpassed, the investor must explain the reason for this over-exposure in their report and indicate how they plan to rectify this to align with the stipulated limits. An institutional investor's reporting responsibility is deemed fulfilled once the Financial Surveillance Department accepts their quarterly asset allocation report.\n",
      "Source: summary\n",
      "Document: CEMAD\n",
      "\n",
      "Section: B.2(H)(iii)\n",
      "Text: What is a managing institution?\n",
      "Source: question\n",
      "Document: CEMAD\n",
      "\n",
      "Section: B.2(H)(vi)\n",
      "Text: What kind of claim do retail clients have to the managing institution?\n",
      "Source: question\n",
      "Document: CEMAD\n",
      "\n",
      "Section: B.2(H)(iii)\n",
      "Text: Capital transfers. South African institutional investors. The distinction between managing institution and originating institution\n",
      "Source: heading\n",
      "Document: CEMAD\n",
      "\n",
      "Section: B.2(H)(iii)\n",
      "Text: A managing institution refers to a life insurer, CIS manager, or discretionary financial services provider registered with the Financial Surveillance Department. They offer investment products to both institutional and retail clients. On the other hand, an originating institution is an institutional investor that qualifies for a prudential limit and chooses to invest in products provided by a managing institution. This can be done directly or via intermediaries, like a discretionary financial services provider not registered as an institutional investor with the Financial Surveillance Department or an administrative financial services provider.\n",
      "Source: summary\n",
      "Document: CEMAD\n",
      "\n",
      "Section: B.2(H)(v)\n",
      "Text: Authorised Dealers, when transferring funds for institutional investors representing retail assets, must not debit the underlying retail clients' accounts for conversion. Instead, a separate trust account, either in the name of the managing institution or a party they mandate, should be debited, and the transaction should be reported under the institutional investor's name as per the Reporting System's requirements. Dealers are not tasked with inspecting the quarterly asset allocation reports of institutional investors seeking foreign exposure. However, they must ensure their dealings are with genuine institutional investors. Before transferring funds abroad related to pension funds, life insurers, and other specified financial entities, Dealers must secure a registration certificate from the Financial Sector Conduct Authority and proof of acceptance (not just acknowledgement) of the institutional investor's latest quarterly asset allocation report from the Financial Surveillance Department. If Dealers can't confirm an institutional investor's registration or obtain the required report acceptance, they must escalate the issue to the Financial Surveillance Department. Additionally, Dealers must comply with section A.3(E)(viii)(b) of the Authorised Dealer Manual when handling foreign exchange or hedging transactions with institutional investors from Lesotho, eSwatini, or Namibia.\n",
      "Source: summary\n",
      "Document: CEMAD\n",
      "\n",
      "Section: B.2(H)(vi)\n",
      "Text: Retail clients cannot have direct access to foreign assets, which must be registered under an offshore nominee company/custodian or the managing institution. An exception exists for discretionary foreign assets managed by a financial services provider. Here, if legislatively required, assets can be registered under the retail client's name, given that the financial services provider is both the exclusive signatory and holds transactional authority over the assets. Retail clients, however, cannot transfer or change the registration of these assets. Their only claim to the managing institution is a domestic Rand payment.\n",
      "Source: summary\n",
      "Document: CEMAD\n",
      "\n",
      "Section: B.2(H)(vi)\n",
      "Text: Managing institutions can invest the funds of an originating institution offshore based on the agreed mandate with the originating institution or the mandate of a pooled investment product. If funds from an originating institution are transferred between managing institutions, it's the originating institution's duty to include these funds in its quarterly report until they reach the new managing institution.\n",
      "Source: summary\n",
      "Document: CEMAD\n",
      "\n",
      "Section: B.2(H)(vii)\n",
      "Text: Institutions managing assets for other entities must report the asset allocation of such assets to the original institution at each calendar quarter's end, within 15 working days. This allows the primary institution to apply the 'look-through' method when preparing its reports. As part of the quarterly asset allocation report, managing institutions must also update a list of all their affiliated institutional investors with the Financial Surveillance Department. Specific types of institutions, including life insurers, CIS managers, and discretionary financial service providers, are expected to provide quarterly reports detailing the asset class breakdown of their holdings, segregating retail and institutional assets. For pension funds, their designated administrators, known as section 13B administrators, are to report quarterly asset allocations for each fund they manage. These administrators must also send, within two months post quarter-end, a comprehensive list of all pension funds they oversee, highlighting new or terminated client mandates and the status of all other pension funds for that quarter to the Financial Surveillance Department via email. If the prudential limit is surpassed, the investor must explain the reason for this over-exposure in their report and indicate how they plan to rectify this to align with the stipulated limits. An institutional investor's reporting responsibility is deemed fulfilled once the Financial Surveillance Department accepts their quarterly asset allocation report.\n",
      "Source: summary\n",
      "Document: CEMAD\n",
      "\n",
      "Section: B.2(H)(iii)\n",
      "Text: What is a managing institution?\n",
      "Source: question\n",
      "Document: CEMAD\n",
      "\n",
      "Section: B.2(H)(vi)\n",
      "Text: What kind of claim do retail clients have to the managing institution?\n",
      "Source: question\n",
      "Document: CEMAD\n",
      "\n"
     ]
    }
   ],
   "source": [
    "# Define the search query\n",
    "terms = [\"managing institution\"]\n",
    "\n",
    "# Join terms with ' AND ' for an AND query in FTS\n",
    "search_query = ' AND '.join(terms)\n",
    "\n",
    "# Perform the FTS search\n",
    "cursor.execute('''\n",
    "    SELECT section_reference, text, source, document\n",
    "    FROM document_paragraphs\n",
    "    WHERE document_paragraphs MATCH ?\n",
    "''', (search_query,))\n",
    "\n",
    "# Fetch and display results\n",
    "results = cursor.fetchall()\n",
    "\n",
    "# Display the results\n",
    "for row in results:\n",
    "    section_reference, text, source, document = row\n",
    "    print(f\"Section: {section_reference}\")\n",
    "    print(f\"Text: {text}\")\n",
    "    print(f\"Source: {source}\")\n",
    "    print(f\"Document: {document}\\n\")\n",
    "\n"
   ]
  },
  {
   "cell_type": "code",
   "execution_count": 55,
   "metadata": {},
   "outputs": [],
   "source": [
    "conn.close()"
   ]
  },
  {
   "cell_type": "code",
   "execution_count": null,
   "metadata": {},
   "outputs": [],
   "source": []
  }
 ],
 "metadata": {
  "kernelspec": {
   "display_name": "env",
   "language": "python",
   "name": "python3"
  },
  "language_info": {
   "codemirror_mode": {
    "name": "ipython",
    "version": 3
   },
   "file_extension": ".py",
   "mimetype": "text/x-python",
   "name": "python",
   "nbconvert_exporter": "python",
   "pygments_lexer": "ipython3",
   "version": "3.10.4"
  },
  "orig_nbformat": 4
 },
 "nbformat": 4,
 "nbformat_minor": 2
}
