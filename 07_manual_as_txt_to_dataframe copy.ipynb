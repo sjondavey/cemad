{
 "cells": [
  {
   "cell_type": "markdown",
   "metadata": {},
   "source": [
    "Once the manual is converted into text, this workbook takes the txt and converts it into a dataframe saved as a csv file that is used as the base for almost everything else"
   ]
  },
  {
   "cell_type": "markdown",
   "metadata": {},
   "source": [
    "Load the text file into the data structures to check everything is ok\n"
   ]
  },
  {
   "cell_type": "code",
   "execution_count": 1,
   "metadata": {},
   "outputs": [],
   "source": [
    "from cemad_rag.cemad_reference_checker import CEMADReferenceChecker\n",
    "from cemad_rag.cemad_reader import CEMADReader\n",
    "\n",
    "import importlib\n",
    "\n",
    "import file_tools.file_tools\n",
    "importlib.reload(file_tools.file_tools)\n",
    "from file_tools.file_tools import read_processed_regs_into_dataframe\n",
    "\n",
    "# import regulations_rag.regulation_table_of_content\n",
    "# importlib.reload(regulations_rag.regulation_table_of_content)\n",
    "from regulations_rag.regulation_table_of_content import StandardTableOfContent, split_tree\n",
    "\n",
    "\n",
    "\n",
    "dir_path = './manual/'\n",
    "file_list = []\n",
    "#file_list.append('./manual/adla_manual.txt')\n",
    "file_list.append('./manual/excon_manual_A_F.txt')\n",
    "file_list.append('./manual/excon_manual_G_K.txt')\n",
    "\n",
    "non_text_labels = ['Table', 'Formula', 'Example', 'Definition']\n",
    "index = CEMADReferenceChecker()\n",
    "\n",
    "df_from_txt, non_text = read_processed_regs_into_dataframe(file_list=file_list, reference_checker=index, non_text_labels=non_text_labels)\n",
    "\n"
   ]
  },
  {
   "cell_type": "code",
   "execution_count": 13,
   "metadata": {},
   "outputs": [
    {
     "data": {
      "text/plain": [
       "99"
      ]
     },
     "execution_count": 13,
     "metadata": {},
     "output_type": "execute_result"
    }
   ],
   "source": [
    "#len(non_text[\"Definition\"])\n",
    "len(non_text[\"Table\"])"
   ]
  },
  {
   "cell_type": "code",
   "execution_count": 4,
   "metadata": {},
   "outputs": [
    {
     "data": {
      "text/html": [
       "<div>\n",
       "<style scoped>\n",
       "    .dataframe tbody tr th:only-of-type {\n",
       "        vertical-align: middle;\n",
       "    }\n",
       "\n",
       "    .dataframe tbody tr th {\n",
       "        vertical-align: top;\n",
       "    }\n",
       "\n",
       "    .dataframe thead th {\n",
       "        text-align: right;\n",
       "    }\n",
       "</style>\n",
       "<table border=\"1\" class=\"dataframe\">\n",
       "  <thead>\n",
       "    <tr style=\"text-align: right;\">\n",
       "      <th></th>\n",
       "      <th>indent</th>\n",
       "      <th>reference</th>\n",
       "      <th>text</th>\n",
       "      <th>document</th>\n",
       "      <th>page</th>\n",
       "      <th>heading</th>\n",
       "      <th>section_reference</th>\n",
       "      <th>word_count</th>\n",
       "    </tr>\n",
       "  </thead>\n",
       "  <tbody>\n",
       "    <tr>\n",
       "      <th>2212</th>\n",
       "      <td>2</td>\n",
       "      <td>(i)</td>\n",
       "      <td>Authorised Dealers may approve applications by...</td>\n",
       "      <td></td>\n",
       "      <td></td>\n",
       "      <td>False</td>\n",
       "      <td>I.3(B)(i)</td>\n",
       "      <td>45</td>\n",
       "    </tr>\n",
       "  </tbody>\n",
       "</table>\n",
       "</div>"
      ],
      "text/plain": [
       "      indent reference  ... section_reference word_count\n",
       "2212       2       (i)  ...         I.3(B)(i)         45\n",
       "\n",
       "[1 rows x 8 columns]"
      ]
     },
     "execution_count": 4,
     "metadata": {},
     "output_type": "execute_result"
    }
   ],
   "source": [
    "df_from_txt[df_from_txt[\"section_reference\"] == \"I.3(B)(i)\"]"
   ]
  },
  {
   "cell_type": "markdown",
   "metadata": {},
   "source": [
    "Starting at an particular parent node (can be the tree root or any child), this method splits up the branch into sections where the text does not exceed a certain word_count cap.\n",
    "\n",
    "Initially this is used to set up the base DataFrame using node == root and later it can be used if we want to change the word_limit for a specific piece of regulation"
   ]
  },
  {
   "cell_type": "code",
   "execution_count": 21,
   "metadata": {},
   "outputs": [],
   "source": [
    "# def split_regs_into_chunks(node, df_with_regs, word_limit_per_chunk, index_checker):\n",
    "#     node_list=[]\n",
    "#     node_list = split_tree(node, df_excon, word_limit_per_chunk, index_checker, node_list)\n",
    "\n",
    "#     section_word_count = []\n",
    "#     for node in node_list:\n",
    "#         #subsection_text = get_full_text_for_node(node.full_node_name, df, False)\n",
    "#         subsection_text = get_regulation_detail(node.full_node_name, df_excon, index_checker)\n",
    "#         word_count = len(subsection_text.split(' '))\n",
    "#         section_word_count.append([node.full_node_name, subsection_text, word_count])\n",
    "\n",
    "#     column_names = ['section', 'text', 'word_count']\n",
    "#     return pd.DataFrame(section_word_count, columns=column_names)\n"
   ]
  },
  {
   "cell_type": "code",
   "execution_count": 23,
   "metadata": {},
   "outputs": [
    {
     "ename": "NameError",
     "evalue": "name 'split_tree' is not defined",
     "output_type": "error",
     "traceback": [
      "\u001b[1;31m---------------------------------------------------------------------------\u001b[0m",
      "\u001b[1;31mNameError\u001b[0m                                 Traceback (most recent call last)",
      "Cell \u001b[1;32mIn[23], line 4\u001b[0m\n\u001b[0;32m      2\u001b[0m \u001b[38;5;66;03m#node = tree_adla.get_node(node_str)\u001b[39;00m\n\u001b[0;32m      3\u001b[0m word_limit_per_chunk \u001b[38;5;241m=\u001b[39m \u001b[38;5;241m500\u001b[39m\n\u001b[1;32m----> 4\u001b[0m df \u001b[38;5;241m=\u001b[39m \u001b[43msplit_regs_into_chunks\u001b[49m\u001b[43m(\u001b[49m\u001b[43mnode\u001b[49m\u001b[43m,\u001b[49m\u001b[43m \u001b[49m\u001b[43mdf_adla\u001b[49m\u001b[43m,\u001b[49m\u001b[43m \u001b[49m\u001b[43mword_limit_per_chunk\u001b[49m\u001b[43m,\u001b[49m\u001b[43m \u001b[49m\u001b[43madla_index\u001b[49m\u001b[43m)\u001b[49m\n",
      "Cell \u001b[1;32mIn[21], line 3\u001b[0m, in \u001b[0;36msplit_regs_into_chunks\u001b[1;34m(node, df_with_regs, word_limit_per_chunk, index_checker)\u001b[0m\n\u001b[0;32m      1\u001b[0m \u001b[38;5;28;01mdef\u001b[39;00m \u001b[38;5;21msplit_regs_into_chunks\u001b[39m(node, df_with_regs, word_limit_per_chunk, index_checker):\n\u001b[0;32m      2\u001b[0m     node_list\u001b[38;5;241m=\u001b[39m[]\n\u001b[1;32m----> 3\u001b[0m     node_list \u001b[38;5;241m=\u001b[39m \u001b[43msplit_tree\u001b[49m(node, df_excon, word_limit_per_chunk, index_checker, node_list)\n\u001b[0;32m      5\u001b[0m     section_word_count \u001b[38;5;241m=\u001b[39m []\n\u001b[0;32m      6\u001b[0m     \u001b[38;5;28;01mfor\u001b[39;00m node \u001b[38;5;129;01min\u001b[39;00m node_list:\n\u001b[0;32m      7\u001b[0m         \u001b[38;5;66;03m#subsection_text = get_full_text_for_node(node.full_node_name, df, False)\u001b[39;00m\n",
      "\u001b[1;31mNameError\u001b[0m: name 'split_tree' is not defined"
     ]
    }
   ],
   "source": [
    "node = tree_adla.root\n",
    "#node = tree_adla.get_node(node_str)\n",
    "word_limit_per_chunk = 500\n",
    "df = split_regs_into_chunks(node, df_adla, word_limit_per_chunk, adla_index)\n"
   ]
  },
  {
   "cell_type": "code",
   "execution_count": null,
   "metadata": {},
   "outputs": [],
   "source": []
  }
 ],
 "metadata": {
  "kernelspec": {
   "display_name": "Python 3.10.4 ('env': venv)",
   "language": "python",
   "name": "python3"
  },
  "language_info": {
   "codemirror_mode": {
    "name": "ipython",
    "version": 3
   },
   "file_extension": ".py",
   "mimetype": "text/x-python",
   "name": "python",
   "nbconvert_exporter": "python",
   "pygments_lexer": "ipython3",
   "version": "3.10.4"
  },
  "orig_nbformat": 4,
  "vscode": {
   "interpreter": {
    "hash": "e330cde3341ddb10937c3ab3ef8422853a5bdecbc44a28db7f9f3e6bc03c2d94"
   }
  }
 },
 "nbformat": 4,
 "nbformat_minor": 2
}
