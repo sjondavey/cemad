{
 "cells": [
  {
   "cell_type": "code",
   "execution_count": 16,
   "metadata": {},
   "outputs": [],
   "source": [
    "import logging\n",
    "#log_level = logging.INFO\n",
    "# log_level = logging.DEBUG\n",
    "log_level = 25 # ANALYSIS_LEVEL\n",
    "logging.basicConfig(level=log_level)\n",
    "logger = logging.getLogger(__name__)\n",
    "logger.setLevel(log_level)\n",
    "\n",
    "import os\n",
    "from dotenv import load_dotenv\n",
    "load_dotenv()\n",
    "secret_name = \"OPENAI_API_KEY_CEMAD\"\n",
    "openai_api_key = os.getenv(secret_name)\n",
    "key = os.getenv('DECRYPTION_KEY_CEMAD')\n"
   ]
  },
  {
   "cell_type": "code",
   "execution_count": 17,
   "metadata": {},
   "outputs": [],
   "source": [
    "import os\n",
    "import pandas as pd\n",
    "from openai import OpenAI\n",
    "\n",
    "from regulations_rag.embeddings import  EmbeddingParameters\n",
    "from regulations_rag.rerank import RerankAlgos\n",
    "from regulations_rag.corpus_chat import ChatParameters\n",
    "\n",
    "import importlib\n",
    "import cemad_rag.cemad_corpus_index\n",
    "importlib.reload(cemad_rag.cemad_corpus_index)\n",
    "from cemad_rag.cemad_corpus_index import CEMADCorpusIndex\n",
    "\n",
    "import cemad_rag.corpus_chat_cemad\n",
    "importlib.reload(cemad_rag.corpus_chat_cemad)\n",
    "from cemad_rag.corpus_chat_cemad import CorpusChatCEMAD\n",
    "\n",
    "from IPython.display import Markdown, display\n"
   ]
  },
  {
   "cell_type": "code",
   "execution_count": 18,
   "metadata": {},
   "outputs": [],
   "source": [
    "chat_parameters = ChatParameters(chat_model = \"gpt-4o\", api_key = openai_api_key, temperature = 0, max_tokens = 4096, token_limit_when_truncating_message_queue = 3500)\n",
    "\n",
    "embedding_parameters = EmbeddingParameters(\"text-embedding-3-large\", 1024)\n",
    "corpus_index = CEMADCorpusIndex(key)\n",
    "\n",
    "rerank_algo  = RerankAlgos.LLM\n",
    "if rerank_algo == RerankAlgos.LLM:\n",
    "    rerank_algo.params[\"openai_client\"] = chat_parameters.openai_client\n",
    "    rerank_algo.params[\"model_to_use\"] = chat_parameters.model\n",
    "    rerank_algo.params[\"user_type\"] = corpus_index.user_type\n",
    "    rerank_algo.params[\"corpus_description\"] = corpus_index.corpus_description\n",
    "    rerank_algo.params[\"final_token_cap\"] = 5000 # can go large with the new models\n",
    "\n",
    "\n",
    "chat = CorpusChatCEMAD(\n",
    "                    embedding_parameters = embedding_parameters, \n",
    "                    chat_parameters = chat_parameters, \n",
    "                    corpus_index = corpus_index,\n",
    "                    rerank_algo = RerankAlgos.LLM,   \n",
    "                    user_name_for_logging = 'test_user')\n",
    "\n",
    "chat.strict_rag = False\n"
   ]
  },
  {
   "cell_type": "code",
   "execution_count": 19,
   "metadata": {},
   "outputs": [
    {
     "name": "stderr",
     "output_type": "stream",
     "text": [
      "ANALYSIS:regulations_rag.corpus_chat:test_user: Can I buy property overseas using my credit card?\n",
      "ANALYSIS:regulations_rag.corpus_chat:test_user: performing RAG ...\n",
      "ANALYSIS:regulations_rag.corpus_chat:test_user: RAG returned the response.\n"
     ]
    },
    {
     "data": {
      "text/markdown": [
       "No, you cannot use a South African credit card to buy property overseas. The use of South African credit, debit, and virtual cards is not permitted for funding foreign currency accounts or for funding international trading accounts abroad. Transactions for foreign investments must be conducted through the conversion of Rand into foreign currency by an Authorised Dealer and transferred via the banking system as an Electronic Funds Transfer. \n",
       "\n",
       "Reference: \n",
       "\n",
       "Section B.2(B)(i) from Currency and Exchange Control Manual for Authorised Dealers: \n",
       "\n",
       "B.2 Capital transfers\n",
       "\n",
       "&nbsp;&nbsp;&nbsp;&nbsp;(B) Private individuals resident in South Africa\n",
       "\n",
       "&nbsp;&nbsp;&nbsp;&nbsp;&nbsp;&nbsp;&nbsp;&nbsp;(i) Foreign investments by private individuals (natural persons) resident in South Africa\n",
       "\n",
       "&nbsp;&nbsp;&nbsp;&nbsp;&nbsp;&nbsp;&nbsp;&nbsp;&nbsp;&nbsp;&nbsp;&nbsp;(a) Authorised Dealers may allow the transfer, as a foreign capital allowance, of up to a total amount of R10 million per calendar year per private individual who is a taxpayer in good standing and is 18 years and older, for investment purposes abroad. The funds to be transferred must be converted to foreign currency by the Authorised Dealer and may also be held in a resident foreign currency account in the name of the resident with any Authorised Dealer.\n",
       "\n",
       "&nbsp;&nbsp;&nbsp;&nbsp;&nbsp;&nbsp;&nbsp;&nbsp;&nbsp;&nbsp;&nbsp;&nbsp;(b) Authorised Dealers are advised that a valid green bar-coded South African identity document or a Smart identity document card is the only acceptable document proving residency in South Africa.\n",
       "\n",
       "&nbsp;&nbsp;&nbsp;&nbsp;&nbsp;&nbsp;&nbsp;&nbsp;&nbsp;&nbsp;&nbsp;&nbsp;(c) Prior to authorising the transaction, Authorised Dealers must ensure that their client is acquainted with the declaration contained in the integrated form.\n",
       "\n",
       "&nbsp;&nbsp;&nbsp;&nbsp;&nbsp;&nbsp;&nbsp;&nbsp;&nbsp;&nbsp;&nbsp;&nbsp;(d) In terms of the SARS Tax Compliance Status (TCS) system, a TCS PIN letter will be issued to the taxpayer that will contain the tax number and TCS PIN. Authorised Dealers must use the TCS PIN to verify the taxpayer's tax compliance status via SARS eFiling prior to effecting any transfers. Authorised Dealers must ensure that the amount to be transferred does not exceed the amount approved by SARS. Authorised Dealers should note that the TCS PIN can expire and should the Authorised Dealers find that the TCS PIN has indeed expired, then the Authorised Dealer must insist on a new TCS PIN to verify the taxpayer's tax compliance status.\n",
       "\n",
       "&nbsp;&nbsp;&nbsp;&nbsp;&nbsp;&nbsp;&nbsp;&nbsp;&nbsp;&nbsp;&nbsp;&nbsp;(e) In terms of the SARS Tax Compliance Status System introduced on 2016-04-18, a tax compliance status PIN letter will be issued to the taxpayer that will contain the tax number and PIN. Authorised Dealers must use the PIN to verify the taxpayer's tax compliance status via SARS eFiling prior to effecting any transfers.\n",
       "\n",
       "&nbsp;&nbsp;&nbsp;&nbsp;&nbsp;&nbsp;&nbsp;&nbsp;&nbsp;&nbsp;&nbsp;&nbsp;(f) Authorised Dealers must retain a printed tax compliance status verification result for a period of five years for inspection purposes.\n",
       "\n",
       "&nbsp;&nbsp;&nbsp;&nbsp;&nbsp;&nbsp;&nbsp;&nbsp;&nbsp;&nbsp;&nbsp;&nbsp;(g) Private individuals who do not have a tax reference number will have to register at their local SARS branch.\n",
       "\n",
       "&nbsp;&nbsp;&nbsp;&nbsp;&nbsp;&nbsp;&nbsp;&nbsp;&nbsp;&nbsp;&nbsp;&nbsp;(h) Authorised Dealers must bring to the attention of their clients that they may not enter into any transactions whereby capital or the right to capital will be directly or indirectly exported from South Africa (e.g. may not enter into a foreign commitment with recourse to South Africa). However, private individuals may raise loans abroad to finance the acquisition of foreign assets without recourse to South Africa.\n",
       "\n",
       "&nbsp;&nbsp;&nbsp;&nbsp;&nbsp;&nbsp;&nbsp;&nbsp;&nbsp;&nbsp;&nbsp;&nbsp;(i) Resident individuals with authorised foreign assets may invest in South Africa, provided that where South African assets are acquired through an offshore structure (loop structure), the investment is reported to an Authorised Dealer as and when the transaction(s) is finalised as well as the submission of an annual progress report to the Financial Surveillance Department via an Authorised Dealer. The aforementioned party also has to view an independent auditor's written confirmation or suitable documentary evidence verifying that such transaction(s) is concluded on an arm's length basis, for a fair and market related price.\n",
       "\n",
       "&nbsp;&nbsp;&nbsp;&nbsp;&nbsp;&nbsp;&nbsp;&nbsp;&nbsp;&nbsp;&nbsp;&nbsp;(j) Upon completion of the transaction in (i) above the Authorised Dealer must submit a report to the Financial Surveillance Department which should, inter alia, include the name(s) of the South African affiliated foreign investor(s), a description of the assets to be acquired (including inward foreign loans, the acquisition of shares and the acquisition of property), the name of the South African target investment company, if applicable and the date of the acquisition as well as the actual foreign currency amount introduced including a transaction reference number.\n",
       "\n",
       "&nbsp;&nbsp;&nbsp;&nbsp;&nbsp;&nbsp;&nbsp;&nbsp;&nbsp;&nbsp;&nbsp;&nbsp;(k) In addition, all inward loans from South African affiliated foreign investors must comply with the directives issued in section I.3(B) of the Authorised Dealer Manual.\n",
       "\n",
       "&nbsp;&nbsp;&nbsp;&nbsp;&nbsp;&nbsp;&nbsp;&nbsp;&nbsp;&nbsp;&nbsp;&nbsp;(l) Existing unauthorised loop structures (i.e. created by individuals prior to 2021-01-01) and/or unauthorised loop structures where the 40 per cent shareholding threshold was exceeded, must still be regularised with the Financial Surveillance Department.\n",
       "\n",
       "&nbsp;&nbsp;&nbsp;&nbsp;&nbsp;&nbsp;&nbsp;&nbsp;&nbsp;&nbsp;&nbsp;&nbsp;(m) The Financial Surveillance Department will consider applications by private individuals who wish to invest in excess of the R10 million foreign capital allowance limit, in different asset classes. Such investments, if approved, could be facilitated via a foreign domiciled and registered trust. This dispensation would also apply to private individuals who have existing authorised foreign assets, irrespective of the value thereof. In terms of the TCS system, a TCS PIN letter will be issued to the taxpayer that will contain the tax number and TCS PIN. Authorised Dealers must use the TCS PINto verify the taxpayer's tax compliance status via SARS eFiling prior to effecting any transfers. Authorised Dealers should note that the TCS PIN can expire and should the Authorised Dealers find that the TCS PIN has indeed expired, then the Authorised Dealer must insist on a new TCS PIN to verify the taxpayer's tax compliance.\n",
       "\n",
       "&nbsp;&nbsp;&nbsp;&nbsp;&nbsp;&nbsp;&nbsp;&nbsp;&nbsp;&nbsp;&nbsp;&nbsp;(n) Foreign currency accounts may be opened for private individuals (natural persons). Authorised Dealers may allow withdrawals from these accounts through the use of any authorised banking product. Funds withdrawn from these accounts may also be converted to Rand.\n",
       "\n",
       "&nbsp;&nbsp;&nbsp;&nbsp;&nbsp;&nbsp;&nbsp;&nbsp;&nbsp;&nbsp;&nbsp;&nbsp;(o) Private individuals may, as part of their single discretionary allowance and/or foreign capital allowance, export multi-listed domestic securities to a foreign securities register in a jurisdiction where such securities are listed, subject to tax compliance and reporting to the Financial Surveillance Department via a Central Securities Depository Participant, in conjunction with an Authorised Dealer.\n",
       "\n",
       "&nbsp;&nbsp;&nbsp;&nbsp;&nbsp;&nbsp;&nbsp;&nbsp;&nbsp;&nbsp;&nbsp;&nbsp;(p) Since these transactions will not result in actual flow of funds from South Africa, the process thereof as well as the reporting must take place as outlined hereunder:\n",
       "\n",
       "&nbsp;&nbsp;&nbsp;&nbsp;&nbsp;&nbsp;&nbsp;&nbsp;&nbsp;&nbsp;&nbsp;&nbsp;&nbsp;&nbsp;&nbsp;&nbsp;(aa) An applicant must furnish the following information through an Authorised Dealer, at the time of submitting a request for a confirmation letter and/or approval letter to the Financial Surveillance Department:\n",
       "\n",
       "&nbsp;&nbsp;&nbsp;&nbsp;&nbsp;&nbsp;&nbsp;&nbsp;&nbsp;&nbsp;&nbsp;&nbsp;&nbsp;&nbsp;&nbsp;&nbsp;&nbsp;&nbsp;&nbsp;&nbsp;(1) the full names and identity number of the applicant;\n",
       "\n",
       "&nbsp;&nbsp;&nbsp;&nbsp;&nbsp;&nbsp;&nbsp;&nbsp;&nbsp;&nbsp;&nbsp;&nbsp;&nbsp;&nbsp;&nbsp;&nbsp;&nbsp;&nbsp;&nbsp;&nbsp;(2) the name of the company whose securities are exported as well as number of securities and the market value thereof; and\n",
       "\n",
       "&nbsp;&nbsp;&nbsp;&nbsp;&nbsp;&nbsp;&nbsp;&nbsp;&nbsp;&nbsp;&nbsp;&nbsp;&nbsp;&nbsp;&nbsp;&nbsp;&nbsp;&nbsp;&nbsp;&nbsp;(3) domicilium and name of the target foreign register on which those securities are listed.\n",
       "\n",
       "&nbsp;&nbsp;&nbsp;&nbsp;&nbsp;&nbsp;&nbsp;&nbsp;&nbsp;&nbsp;&nbsp;&nbsp;&nbsp;&nbsp;&nbsp;&nbsp;(bb) In this regard, the confirmation letter and/or approval letter from the Financial Surveillance Department must be presented by the applicant to the relevant South African Central Securities Depository Participant to effect the transaction.\n",
       "\n",
       "&nbsp;&nbsp;&nbsp;&nbsp;&nbsp;&nbsp;&nbsp;&nbsp;&nbsp;&nbsp;&nbsp;&nbsp;&nbsp;&nbsp;&nbsp;&nbsp;(cc) Central Securities Depository Participants may, in conjunction with an Authorised Dealer, allow the transfer of domestic listed securities abroad, up to a total market value of R1 million per calendar year in terms of the single discretionary allowance for private individuals, without the requirement to obtain a TCS PIN letter, provided a confirmation letter from the Financial Surveillance Department is viewed.\n",
       "\n",
       "&nbsp;&nbsp;&nbsp;&nbsp;&nbsp;&nbsp;&nbsp;&nbsp;&nbsp;&nbsp;&nbsp;&nbsp;&nbsp;&nbsp;&nbsp;&nbsp;(dd) Central Securities Depository Participants may, in conjunction with an Authorised Dealer, also allow the transfer of domestic listed securities of up to a total market value of R10 million per calendar year in terms of the foreign capital allowance, provided that a TCS PIN letter is obtained as well as a confirmation letter from the Financial Surveillance Department is viewed.\n",
       "\n",
       "&nbsp;&nbsp;&nbsp;&nbsp;&nbsp;&nbsp;&nbsp;&nbsp;&nbsp;&nbsp;&nbsp;&nbsp;&nbsp;&nbsp;&nbsp;&nbsp;(ee) Private individuals who export securities with a market value of more than R10 million are subject to a more stringent verification process by SARS as well as an approval process from the Financial Surveillance Department. Such transfers will trigger a risk management test that will, inter alia, include verification of the tax status and the source of funds, as well as risk assess the private individual in terms of the anti-money laundering and countering terror financing requirements, as prescribed in the Financial Intelligence Centre Act, 2001 (Act No. 38 of 2001).\n",
       "\n",
       "&nbsp;&nbsp;&nbsp;&nbsp;&nbsp;&nbsp;&nbsp;&nbsp;&nbsp;&nbsp;&nbsp;&nbsp;(q) Private individuals may only fund online international trading accounts at registered brokers in terms of the single discretionary and/or foreign capital allowance, i.e. the Authorised Dealer concerned must convert the Rand into foreign currency and transfer such funds via the banking system as an Electronic Funds Transfer to a foreign bank account or the funds can be deposited in a foreign currency account at an Authorised Dealer.\n",
       "\n",
       "&nbsp;&nbsp;&nbsp;&nbsp;&nbsp;&nbsp;&nbsp;&nbsp;&nbsp;&nbsp;&nbsp;&nbsp;(r) No South African debit, credit and virtual card may, however, be used to fund a foreign currency account at an Authorised Dealer or a bank abroad, nor may international trading accounts of private individuals be funded using South African credit, debit and virtual card transfers. Online international trading accounts, inter alia include trading global currencies against each other, trading a contract for difference, trading in foreign stocks, trading commodities including crypto assets and/or trading foreign indices using an online trading platform of the broker concerned.  \n",
       "\n"
      ],
      "text/plain": [
       "<IPython.core.display.Markdown object>"
      ]
     },
     "metadata": {},
     "output_type": "display_data"
    }
   ],
   "source": [
    "#  May minors purchase foreign exchange\n",
    "user_content = \"Can I use my credit card for online purchases?\"\n",
    "user_content = \"Can I open a non-resident account for a CMA resident from another CMA country\"\n",
    "user_content = \"What are the foreign currency limits for children?\"\n",
    "user_content = \"what do the regulations say about travel?\"\n",
    "user_content = \"How much money can an individual take offshore in a year?\"\n",
    "#user_content = \"What do the regs say about crypto?\"\n",
    "#user_content = \"Can an individual can take more than R1 million offshore in a year for travel?\"\n",
    "\n",
    "# user_content = \"What if I need more that R1 million for travel?\"\n",
    "# user_content = \"I need more than R1 million for travel this year. What do I do?\"\n",
    "user_content = \"What is a travel allowance?\"\n",
    "user_content = \"Can I buy property overseas using my credit card?\"\n",
    "#user_content = \"Can I purchase property in a foreign country using a credit card?\"\n",
    "chat.reset_conversation_history()\n",
    "\n",
    "chat.user_provides_input(user_content)\n",
    "#chat.user_provides_input(user_content)\n",
    "display(Markdown((chat.messages_intermediate[-1])['content']))"
   ]
  },
  {
   "cell_type": "code",
   "execution_count": 14,
   "metadata": {},
   "outputs": [
    {
     "name": "stderr",
     "output_type": "stream",
     "text": [
      "ANALYSIS:cemad_rag.path_suggest_alternatives:Suggesting alternative questions\n"
     ]
    },
    {
     "data": {
      "text/plain": [
       "{'role': 'assistant',\n",
       " 'content': 'The system has suggested the following alternative questions: \\n\\nCan I purchase property in a foreign country using a credit card?\\nAre there restrictions on using a credit card to buy property in a foreign country?\\nWhat are the regulations for South Africans using credit cards to purchase property abroad?',\n",
       " 'assistant_response': AlternativeQuestionResponse(alternatives=['Can I purchase property in a foreign country using a credit card?', 'Are there restrictions on using a credit card to buy property in a foreign country?', 'What are the regulations for South Africans using credit cards to purchase property abroad?'])}"
      ]
     },
     "execution_count": 14,
     "metadata": {},
     "output_type": "execute_result"
    }
   ],
   "source": [
    "from cemad_rag.path_suggest_alternatives import PathSuggestAlternatives\n",
    "path_suggest_alternatives = PathSuggestAlternatives(chat_parameters = chat_parameters, corpus_index = corpus_index, embedding_parameters = embedding_parameters, rerank_algo = rerank_algo)\n",
    "user_content = \"Can I buy property overseas using my credit card?\"\n",
    "path_suggest_alternatives.suggest_alternative_questions(message_history = [], current_user_message = {'role': 'user', 'content': user_content})\n",
    "\n"
   ]
  },
  {
   "cell_type": "code",
   "execution_count": 10,
   "metadata": {},
   "outputs": [
    {
     "name": "stderr",
     "output_type": "stream",
     "text": [
      "ANALYSIS:regulations_rag.corpus_chat:test_user: Do children get a travel allowance?\n",
      "ANALYSIS:regulations_rag.corpus_chat:test_user: performing RAG ...\n",
      "ANALYSIS:regulations_rag.corpus_chat:test_user: RAG returned the response.\n"
     ]
    },
    {
     "data": {
      "text/markdown": [
       "Yes, children who are residents and under the age of 18 years may be accorded a travel allowance not exceeding an amount of R200,000 per calendar year. \n",
       "\n",
       "Reference: \n",
       "\n",
       "Section B.4(B)(i) from Currency and Exchange Control Manual for Authorised Dealers: \n",
       "\n",
       "B.4 Single discretionary allowance and other miscellaneous payments for private individuals\n",
       "\n",
       "&nbsp;&nbsp;&nbsp;&nbsp;(B) Travel allowances\n",
       "\n",
       "&nbsp;&nbsp;&nbsp;&nbsp;&nbsp;&nbsp;&nbsp;&nbsp;(i) General\n",
       "\n",
       "&nbsp;&nbsp;&nbsp;&nbsp;&nbsp;&nbsp;&nbsp;&nbsp;&nbsp;&nbsp;&nbsp;&nbsp;(a) There is no limit on the amount of Rand that may be spent on travelling within the CMA.\n",
       "\n",
       "&nbsp;&nbsp;&nbsp;&nbsp;&nbsp;&nbsp;&nbsp;&nbsp;&nbsp;&nbsp;&nbsp;&nbsp;(b) Residents (natural persons) who are under the age of 18 years may not be accorded single discretionary allowance as outlined in subsection (A)(i) above, but may be accorded a travel allowance not exceeding an amount of R200 000 per calendar year.\n",
       "\n",
       "&nbsp;&nbsp;&nbsp;&nbsp;&nbsp;&nbsp;&nbsp;&nbsp;&nbsp;&nbsp;&nbsp;&nbsp;(c) In addition, up to R25 000 in cash, per person, may be taken when proceeding on visits outside the CMA, to meet travellers' immediate needs on return to South Africa.\n",
       "\n",
       "&nbsp;&nbsp;&nbsp;&nbsp;&nbsp;&nbsp;&nbsp;&nbsp;&nbsp;&nbsp;&nbsp;&nbsp;(d) When according travel allowances to persons who do not conduct accounts in their books, Authorised Dealers must record such persons' names, nationalities, residential addresses and telephone numbers to facilitate communication if needed.\n",
       "\n",
       "&nbsp;&nbsp;&nbsp;&nbsp;&nbsp;&nbsp;&nbsp;&nbsp;&nbsp;&nbsp;&nbsp;&nbsp;(e) Visiting artistes, entertainers, sportspersons and other similar professionals may not be accorded the facilities outlined in this section of the Authorised Dealer Manual.  \n",
       "\n",
       "Section B.4(B)(iv)(a) from Currency and Exchange Control Manual for Authorised Dealers: \n",
       "\n",
       "B.4 Single discretionary allowance and other miscellaneous payments for private individuals\n",
       "\n",
       "&nbsp;&nbsp;&nbsp;&nbsp;(B) Travel allowances\n",
       "\n",
       "&nbsp;&nbsp;&nbsp;&nbsp;&nbsp;&nbsp;&nbsp;&nbsp;(iv) Eligible parties\n",
       "\n",
       "&nbsp;&nbsp;&nbsp;&nbsp;&nbsp;&nbsp;&nbsp;&nbsp;&nbsp;&nbsp;&nbsp;&nbsp;(a) Residents\n",
       "\n",
       "&nbsp;&nbsp;&nbsp;&nbsp;&nbsp;&nbsp;&nbsp;&nbsp;&nbsp;&nbsp;&nbsp;&nbsp;&nbsp;&nbsp;&nbsp;&nbsp;(aa) A travel allowance within the single discretionary allowance limit of R1 million per calendar year may be availed of by residents (natural persons) (excluding persons proceeding abroad to study) who are 18 years and older.\n",
       "\n",
       "&nbsp;&nbsp;&nbsp;&nbsp;&nbsp;&nbsp;&nbsp;&nbsp;&nbsp;&nbsp;&nbsp;&nbsp;&nbsp;&nbsp;&nbsp;&nbsp;(bb) Residents (natural persons) who are under the age of 18 years may avail of a travel allowance not exceeding an amount of R200 000 per calendar year.  \n",
       "\n"
      ],
      "text/plain": [
       "<IPython.core.display.Markdown object>"
      ]
     },
     "metadata": {},
     "output_type": "display_data"
    }
   ],
   "source": [
    "user_content = \"Do children get a travel allowance?\"\n",
    "chat.user_provides_input(user_content)\n",
    "display(Markdown(chat.messages_intermediate[-1]['content']))"
   ]
  },
  {
   "cell_type": "code",
   "execution_count": 6,
   "metadata": {},
   "outputs": [
    {
     "name": "stderr",
     "output_type": "stream",
     "text": [
      "ANALYSIS:regulations_rag.corpus_chat:test_user: How can an individual apply for a travel allowance above R1 million for the year?\n",
      "ANALYSIS:regulations_rag.corpus_chat:test_user: performing RAG ...\n",
      "ANALYSIS:regulations_rag.corpus_chat:test_user: RAG returned a NoAnswerResponse. Trying without the retrieved data ...\n",
      "ANALYSIS:regulations_rag.corpus_chat:test_user: query_no_rag_data() returned the response.\n"
     ]
    },
    {
     "data": {
      "text/markdown": [
       "No Answer"
      ],
      "text/plain": [
       "<IPython.core.display.Markdown object>"
      ]
     },
     "metadata": {},
     "output_type": "display_data"
    }
   ],
   "source": [
    "user_content = \"How can an individual apply for a travel allowance above R1 million for the year?\"\n",
    "chat.user_provides_input(user_content)\n",
    "display(Markdown(chat.messages_intermediate[-1]['content']))"
   ]
  },
  {
   "cell_type": "code",
   "execution_count": 6,
   "metadata": {},
   "outputs": [
    {
     "data": {
      "text/markdown": [
       "NOTE: The following answer is provided without references and should therefore be treated with caution.\n",
       "\n",
       "If you need to transfer more than the R11 million limit (R10 million foreign capital allowance plus R1 million single discretionary allowance) in a calendar year, you can apply to the South African Reserve Bank's Financial Surveillance Department for approval. This application will require a tax compliance status verification and may involve a more stringent assessment process, including verification of the source of funds and compliance with anti-money laundering regulations."
      ],
      "text/plain": [
       "<IPython.core.display.Markdown object>"
      ]
     },
     "metadata": {},
     "output_type": "display_data"
    }
   ],
   "source": [
    "display(Markdown(chat.messages_intermediate[-1]['content']))"
   ]
  },
  {
   "cell_type": "code",
   "execution_count": 7,
   "metadata": {},
   "outputs": [
    {
     "name": "stderr",
     "output_type": "stream",
     "text": [
      "ANALYSIS:regulations_rag.corpus_chat:test_user question: What documentation is required?\n",
      "INFO:httpx:HTTP Request: POST https://api.openai.com/v1/embeddings \"HTTP/1.1 200 OK\"\n",
      "DEV:regulations_rag.corpus_chat:#################   Similarity Search       #################\n",
      "INFO:regulations_rag.corpus_chat:Found a potentially relevant workflow: documentation\n",
      "DEV:regulations_rag.corpus_index:--   No relevant definitions found\n",
      "DEV:regulations_rag.corpus_index:Selecting the top 15 items based on cosine-similarity score\n",
      "DEV:regulations_rag.corpus_index:0.3339:                CEMAD:              B.12(A):        question: What documentation is required to conduct a merchanting trade?\n",
      "DEV:regulations_rag.corpus_index:0.3547:                CEMAD:               B.8(C):        question: What documentation is required for making subsequent payments for a tour?\n",
      "DEV:regulations_rag.corpus_index:0.3617:                CEMAD:         D.1(C)(i)(d):        question: What documentation is required for import-related transactions for periods longer than 12 months?\n",
      "DEV:regulations_rag.corpus_index:0.3622:                CEMAD:              B.18(A):        question: What documentation is required for all exports from South Africa?\n",
      "DEV:regulations_rag.corpus_index:--   Relevant sections found\n",
      "DEV:regulations_rag.rerank:Re-ranking using LLM\n",
      "INFO:httpx:HTTP Request: POST https://api.openai.com/v1/chat/completions \"HTTP/1.1 200 OK\"\n",
      "DEV:regulations_rag.rerank:--   results requested by LLM filter\n",
      "DEV:regulations_rag.rerank:B.12(A)\n",
      "DEV:regulations_rag.rerank:B.8(C)\n",
      "DEV:regulations_rag.rerank:D.1(C)(i)(d)\n",
      "DEV:regulations_rag.rerank:B.18(A)\n",
      "INFO:cemad_rag.corpus_chat_cemad:Enriching user request for documentation based on conversation history.\n",
      "INFO:httpx:HTTP Request: POST https://api.openai.com/v1/chat/completions \"HTTP/1.1 200 OK\"\n",
      "INFO:cemad_rag.corpus_chat_cemad:test_user original question: What documentation is required?\n",
      "INFO:cemad_rag.corpus_chat_cemad:System enhanced question: What documentation is required as evidence for purchasing property in South Africa as a foreigner?\n",
      "INFO:httpx:HTTP Request: POST https://api.openai.com/v1/embeddings \"HTTP/1.1 200 OK\"\n",
      "DEV:regulations_rag.corpus_chat:#################   Similarity Search       #################\n",
      "DEV:regulations_rag.corpus_chat:No relevant workflow found\n",
      "DEV:regulations_rag.corpus_index:--   No relevant definitions found\n",
      "DEV:regulations_rag.corpus_index:Selecting the top 15 items based on cosine-similarity score\n",
      "DEV:regulations_rag.corpus_index:0.2998:                CEMAD:               I.1(E):        question: Can a non-resident raise finance to buy property in South Africa?\n",
      "DEV:regulations_rag.corpus_index:0.3333:                CEMAD:            B.2(B)(i):        question: What are the conditions for a private individual in South Africa to make foreign investments?\n",
      "DEV:regulations_rag.corpus_index:0.3484:                CEMAD:            B.5(A)(i):         summary: Foreign nationals in South Africa, excluding mere visitors, must declare in writing to an Authorised Dealer if they possess foreign assets upon arrival. Once Authorised Dealers receive these declarations, they may allow the foreign nationals to conduct their banking like residents, invest or dispose of their foreign assets including subsequent accruals and foreign income without Financial Surveillance Department intervention. They can also manage non-resident or foreign currency accounts with an Authorised Dealer. Moreover, they can transfer funds overseas accumulated during their stay in South Africa, given they can verify the funds' source and ensure the funds are reasonable concerning their income-generating activities in South Africa. These declarations should be kept by Authorised Dealers for five years post the individual's permanent departure for inspections. However, this does not apply to single remittances up to R5 000 per transaction, requiring only the individual's identity proof, and transactions within business relationships capped at R5 000 per transaction daily, up to R25 000 monthly per applicant. The latter necessitates thorough customer due diligence under section 21 of the FIC Act. Despite foreign nationals conducting banking as residents, their interests in local entities are considered non-resident concerning local financial assistance. For exporting personal and household effects, including vehicles, they must be covered by the SARS Customs Declaration. These goods should either be bought with transferable funds or imported into South Africa, with the individual able to provide proof of importation. Lastly, foreign nationals can send abroad capital introduced into South Africa, provided they can verify the funds' original introduction.\n",
      "DEV:regulations_rag.corpus_index:0.3568:                CEMAD:            B.2(B)(i):         summary: Private individuals resident in South Africa are informed that they cannot engage in transactions that directly or indirectly export capital from South Africa. Nonetheless, they can acquire loans abroad to finance foreign asset purchases without South African recourse. Residents with authorized foreign assets can invest in South Africa, but if these assets are acquired through an offshore loop structure, the investment must be reported to an Authorised Dealer upon finalization and an annual progress report submitted to the Financial Surveillance Department. Independent auditor confirmation or documentary evidence must verify these transactions to be at arm's length and for a market-related price. After such transactions, the Authorised Dealer should report details like the names of affiliated foreign investors, asset descriptions, target investment company names in South Africa, acquisition dates, and actual foreign currency amounts, including a transaction reference number, to the Financial Surveillance Department. All inward loans from these investors should align with directives in section I.3(B) of the Authorised Dealer Manual.\n",
      "DEV:regulations_rag.corpus_index:0.3667:                CEMAD:            B.5(B)(i):         summary: Upon arrival in South Africa, immigrants must declare any foreign assets they possess to an Authorised Dealer. Authorised Dealers must then report monthly to the Financial Surveillance Department, detailing individual branch information including full names of immigrants, their spouse and dependants, dates of immigration, and dates of birth. New immigrants are required to present documentary evidence to the Authorised Dealer showing that they have been granted permanent residence in South Africa. They are officially considered immigrants from the date of their arrival. The documentation, which includes the declaration, undertaking, and proof of permanent residence, must be stored by Authorised Dealers for ten years.\n",
      "DEV:regulations_rag.corpus_index:0.3690:                CEMAD:               I.1(E):         summary: Authorised Dealers can provide local financial assistance to non-residents for foreign direct investments in South Africa, except for funds needed for financial transactions or property acquisition, which are subject to restrictions. Non-residents living and working in South Africa can receive local financial assistance for purchasing residential property, following normal lending criteria. The assistance must be secured by a Rand deposit or a Rand-based asset of equal or higher value. The borrower cannot exceed 100% of the Rand value of funds brought in from abroad. If assistance is granted for property acquisition, it cannot be increased based on property revaluation.\n",
      "DEV:regulations_rag.corpus_index:0.3762:                CEMAD:           B.2(B)(ii):        question: What are the conditions for private residents in South Africa to retransfer funds abroad?\n",
      "DEV:regulations_rag.corpus_index:--   Relevant sections found\n",
      "DEV:regulations_rag.rerank:Re-ranking using LLM\n",
      "INFO:httpx:HTTP Request: POST https://api.openai.com/v1/chat/completions \"HTTP/1.1 200 OK\"\n",
      "DEV:regulations_rag.rerank:--   results requested by LLM filter\n",
      "DEV:regulations_rag.rerank:B.5(A)(i)\n",
      "DEV:regulations_rag.corpus_chat:#################   RAG Prompts   #################\n",
      "DEV:regulations_rag.corpus_chat:System Prompt:\n",
      "You are answering questions about South African 'Currency and Exchange Manual for Authorised Dealers' (CEMAD) for an Authorised Dealer (AD) based only on the reference extracts provided. You have 3 options:\n",
      "1) Answer the question. Preface an answer with the tag 'ANSWER:'. All referenced extracts must be quoted at the end of the answer, not in the body, by number, in a comma separated list starting after the keyword 'Reference: '. Do not include the word Extract, only provide the number(s).\n",
      "2) Request additional documentation. If, in the body of the extract(s) provided, there is a reference to another section that is directly relevant and not already provided, respond with the word 'SECTION:' followed by 'Extract extract_number, Reference section_reference' - for example SECTION: Extract 1, Reference [A-Z]\\.\\d{0,2}(?:\\([A-Z]\\))?(?:\\((?:i|ii|iii|iv|v|vi)\\))?(?:\\([a-z]\\))?(?:\\([a-z]{2}\\))?(?:\\(\\d+\\))?.\n",
      "3) State 'NONE:' and nothing else in all other cases\n",
      "\n",
      "DEV:regulations_rag.corpus_chat:User Prompt with RAG:\n",
      "Question: What documentation is required?\n",
      "\n",
      "Extract 1:\n",
      "B.5 Personal transfers by foreign nationals and immigrants\n",
      "    (A) Foreign nationals\n",
      "        (i) Foreign nationals temporarily in South Africa\n",
      "            (a) Foreign nationals (except those who are purely on a temporary visit) are required to declare on arrival in writing to an Authorised Dealer:\n",
      "                (aa) whether they are in possession of foreign assets.\n",
      "            (b) On receipt of such completed declarations and undertakings, Authorised Dealers may permit such foreign nationals to:\n",
      "                (aa) conduct their banking on a resident basis;\n",
      "                (bb) dispose of or otherwise invest their foreign assets including foreign cash funds held by them, subsequent accruals, as well as foreign income, without interference from the Financial Surveillance Department.\n",
      "                (cc) conduct non-resident or foreign currency accounts in the books of an Authorised Dealer; and\n",
      "                (dd) transfer abroad funds accumulated during their stay in South Africa provided that:\n",
      "                    (1) the foreign nationals can substantiate the source from which they have acquired such funds; and\n",
      "                    (2) the value of such funds is reasonable in relation to their income generating activities in South Africa during the period.\n",
      "            (c) The completed declarations and undertakings must be retained by Authorised Dealers, after the permanent departure of such individuals, for a period of five years for inspection purposes.\n",
      "            (d) The dispensation in (b) above excludes:\n",
      "                (aa) single remittance transactions up to R5 000 per transaction where only the applicant's proof of identity has to be viewed and retained by the Authorised Dealer concerned; and\n",
      "                (bb) transactions where a business relationship has been established, which are limited to R5 000 per transaction per day within a limit of R25 000 per applicant per calendar month. The Authorised Dealer must complete the relevant customer due diligence requirements by establishing and verifying the identity of the applicant in terms of section 21 of the FIC Act and obtaining the applicant's residential address information for reporting purposes.\n",
      "            (e) It should be noted that while the personal banking of foreign nationals temporarily resident in South Africa may be conducted on a resident basis, any interest held by such individuals in local entities (i.e. legal persons) will be deemed as non-resident for the purposes of local financial assistance.\n",
      "            (f) Export of personal effects and other assets\n",
      "                (aa) Any household and personal effects, including motor vehicles, may be exported under cover of the prescribed SARS Customs Declaration provided that the goods to be exported have been purchased with funds that would have been transferable or the goods have been imported into South Africa. The individual must, in need, be able to substantiate the importation thereof by the production of documentary evidence.\n",
      "            (g) Capital transfers by foreign nationals\n",
      "                (aa) Authorised Dealers may permit foreign nationals to retransfer abroad capital that has been introduced into South Africa, provided that they can substantiate the original introduction of such funds.\n",
      "\n",
      "INFO:httpx:HTTP Request: POST https://api.openai.com/v1/chat/completions \"HTTP/1.1 200 OK\"\n"
     ]
    }
   ],
   "source": [
    "#user_content = \"What documentation do they require?\"\n",
    "user_content = \"What documentation is required?\"\n",
    "chat.user_provides_input(user_content)\n",
    "\n",
    "# testing = True\n",
    "# path = \"ANSWER:\"\n",
    "# api_response = \"Yes, a foreigner can buy property in South Africa. However, if they require local financial assistance for the acquisition, certain conditions apply. Specifically, the 1:1 ratio will apply for financial assistance unless the non-resident is living and working in South Africa, in which case normal lending criteria apply. Additionally, any financial assistance must be secured by an unencumbered Rand deposit or Rand-based asset of equal or higher value, and the facility may not exceed 100% of the Rand value of funds introduced from abroad and invested locally. Facilities for property acquisition cannot be increased based on property revaluation.Reference: 1\"\n",
    "# manual_responses_for_testing = [path + api_response]\n",
    "\n",
    "# chat.user_provides_input(user_content, testing = testing, manual_responses_for_testing = manual_responses_for_testing)"
   ]
  },
  {
   "cell_type": "code",
   "execution_count": 19,
   "metadata": {},
   "outputs": [
    {
     "data": {
      "text/plain": [
       "'ANSWER: An individual can take up to a total amount of R10 million per calendar year offshore as a foreign capital allowance for investment purposes abroad. Additionally, within the single discretionary allowance, an individual can take up to R1 million per calendar year offshore. Therefore, the total amount an individual can take offshore in a year is R11 million.\\n\\nReference: 1, 2'"
      ]
     },
     "execution_count": 19,
     "metadata": {},
     "output_type": "execute_result"
    }
   ],
   "source": [
    "llm_reply"
   ]
  },
  {
   "cell_type": "code",
   "execution_count": 7,
   "metadata": {},
   "outputs": [
    {
     "data": {
      "text/plain": [
       "'B.10 Insurance and pensions\\n\\n&nbsp;&nbsp;&nbsp;&nbsp;(A) Introduction\\n\\n&nbsp;&nbsp;&nbsp;&nbsp;&nbsp;&nbsp;&nbsp;&nbsp;(i) Only those branches of the Authorised Dealers referred to in subsection (K) below may effect payments in foreign currency in terms of this section of the Authorised Dealer Manual.'"
      ]
     },
     "execution_count": 7,
     "metadata": {},
     "output_type": "execute_result"
    }
   ],
   "source": [
    "from IPython.display import Markdown, display\n",
    "\n",
    "# m = chat.corpus.get_text(\"Forgotten\", \"1\")\n",
    "# display(Markdown(m))    \n",
    "\n",
    "d = chat.corpus.get_text(\"CEMAD\", \"B.10(A)(i)\")\n",
    "d\n",
    "#print(chat.corpus.get_text(\"CovidLocation\", \"1\"))\n",
    "#print(chat.corpus.get_text(\"Consent\", \"7.1.3\").strip())\n",
    "#print(chat.corpus.get_text(\"GDPR\", \"8\").strip())"
   ]
  },
  {
   "cell_type": "code",
   "execution_count": 9,
   "metadata": {},
   "outputs": [
    {
     "name": "stderr",
     "output_type": "stream",
     "text": [
      "INFO:httpx:HTTP Request: POST https://api.openai.com/v1/embeddings \"HTTP/1.1 200 OK\"\n",
      "DEV:regulations_rag.corpus_chat:#################   Similarity Search       #################\n",
      "DEV:regulations_rag.corpus_chat:No relevant workflow found\n",
      "DEV:regulations_rag.corpus_index:--   No relevant definitions found\n",
      "DEV:regulations_rag.corpus_index:Selecting the top 15 items based on cosine-similarity score\n",
      "DEV:regulations_rag.corpus_index:0.2267:                CEMAD:              B.16(E):        question: Can I use my credit card for online purchases?\n",
      "DEV:regulations_rag.corpus_index:--   Relevant sections found\n",
      "DEV:regulations_rag.rerank:Re-ranking using LLM\n",
      "INFO:httpx:HTTP Request: POST https://api.openai.com/v1/chat/completions \"HTTP/1.1 200 OK\"\n",
      "DEV:regulations_rag.rerank:--   results requested by LLM filter\n",
      "DEV:regulations_rag.rerank:B.16(E)\n"
     ]
    }
   ],
   "source": [
    "wf, dfn, section = chat.similarity_search(\"Can a company use its credit card for online purchases?\")"
   ]
  },
  {
   "cell_type": "code",
   "execution_count": 8,
   "metadata": {},
   "outputs": [
    {
     "data": {
      "text/html": [
       "<div>\n",
       "<style scoped>\n",
       "    .dataframe tbody tr th:only-of-type {\n",
       "        vertical-align: middle;\n",
       "    }\n",
       "\n",
       "    .dataframe tbody tr th {\n",
       "        vertical-align: top;\n",
       "    }\n",
       "\n",
       "    .dataframe thead th {\n",
       "        text-align: right;\n",
       "    }\n",
       "</style>\n",
       "<table border=\"1\" class=\"dataframe\">\n",
       "  <thead>\n",
       "    <tr style=\"text-align: right;\">\n",
       "      <th></th>\n",
       "      <th>section_reference</th>\n",
       "      <th>text</th>\n",
       "      <th>source</th>\n",
       "      <th>embedding</th>\n",
       "      <th>document</th>\n",
       "      <th>cosine_distance</th>\n",
       "      <th>regulation_text</th>\n",
       "      <th>token_count</th>\n",
       "    </tr>\n",
       "  </thead>\n",
       "  <tbody>\n",
       "    <tr>\n",
       "      <th>0</th>\n",
       "      <td>B.16(E)</td>\n",
       "      <td>Can I use my credit card for online purchases?</td>\n",
       "      <td>question</td>\n",
       "      <td>[-0.06440070271492004, 0.03733660280704498, -0...</td>\n",
       "      <td>CEMAD</td>\n",
       "      <td>0.113945</td>\n",
       "      <td>B.16 Credit and/or debit cards\\n    (E) Miscel...</td>\n",
       "      <td>279</td>\n",
       "    </tr>\n",
       "  </tbody>\n",
       "</table>\n",
       "</div>"
      ],
      "text/plain": [
       "  section_reference                                            text    source  \\\n",
       "0           B.16(E)  Can I use my credit card for online purchases?  question   \n",
       "\n",
       "                                           embedding document  \\\n",
       "0  [-0.06440070271492004, 0.03733660280704498, -0...    CEMAD   \n",
       "\n",
       "   cosine_distance                                    regulation_text  \\\n",
       "0         0.113945  B.16 Credit and/or debit cards\\n    (E) Miscel...   \n",
       "\n",
       "   token_count  \n",
       "0          279  "
      ]
     },
     "execution_count": 8,
     "metadata": {},
     "output_type": "execute_result"
    }
   ],
   "source": [
    "section"
   ]
  },
  {
   "cell_type": "code",
   "execution_count": 5,
   "metadata": {},
   "outputs": [
    {
     "name": "stdout",
     "output_type": "stream",
     "text": [
      "You are answering questions about the General Data Protection Regulation (GDPR) for a Controller based only on the reference extracts provided. You have 3 options:\n",
      "1) Answer the question. Preface an answer with the tag 'ANSWER:'. All referenced extracts must be quoted at the end of the answer, not in the body, by number, in a comma separated list starting after the keyword 'Reference: '. Do not include the word Extract, only provide the number(s).\n",
      "2) Request additional documentation. If, in the body of the extract(s) provided, there is a reference to another section that is directly relevant and not already provided, respond with the word 'SECTION:' followed by 'Extract extract_number, Reference section_reference' - for example SECTION: Extract 1, Reference Article 98.\n",
      "3) State 'NONE:' and nothing else in all other cases\n",
      "\n"
     ]
    }
   ],
   "source": [
    "print(chat.create_system_message(3))"
   ]
  },
  {
   "cell_type": "code",
   "execution_count": null,
   "metadata": {},
   "outputs": [],
   "source": [
    "# BCR\n",
    "user_content = \"What are binding corporate rules?\"\n",
    "user_content = \"How do binding corporate rules become approved?\"\n",
    "user_content = \"What requirements must binding corporate rules meet?\"\n",
    "user_content = \"What details must be spelled out in binding corporate rules?\"\n",
    "user_content = \"What rights do individuals have under binding corporate rules?\"\n",
    "user_content = \"Who is liable if binding corporate rules are breached?\"\n",
    "user_content = \"How are individuals informed about their rights under binding corporate rules?\"\n",
    "user_content = \"What is the role of a data protection officer within a group adopting binding corporate rules?\"\n",
    "user_content = \"What mechanisms ensure compliance with binding corporate rules?\"\n",
    "user_content = \"How is the effectiveness of binding corporate rules verified?\"\n",
    "user_content = \"What happens if local laws conflict with the standards of binding corporate rules?\"\n",
    "user_content = \"What kind of training is required for employees with access to personal data under binding corporate rules?\"\n",
    "user_content = \"What is the process for reporting changes in binding corporate rules?\"\n",
    "\n",
    "# Decision Making\n",
    "user_content = \"What rights do individuals have regarding automated decision-making and profiling?\"\n",
    "user_content = \"What does it mean for a decision to have a legal effect on a person?\"\n",
    "user_content = \"Under what conditions can an individual be subject to automated decision-making?\"\n",
    "user_content = \"What safeguards must be in place when automated decisions are necessary for contracts?\"\n",
    "user_content = \"Can special categories of personal data be used in automated decision-making?\"\n",
    "\n",
    "#DPIA\n",
    "user_content = \"When must you conduct a data protection impact assessment?\"\n",
    "user_content = \"Who should you consult when carrying out a data protection impact assessment?\"\n",
    "user_content = \" What triggers the requirement for a data protection impact assessment?\"\n",
    "user_content = \"How do supervisory authorities contribute to the DPIA process?\"\n",
    "user_content = \"How do supervisory authorities contribute to the data protection impact assessment process?\"\n",
    "user_content =\"What content is required in a data protection impact assessment?\"\n",
    "user_content =\"What content is required in a DPIA?\"\n",
    "user_content = \"Should individuals' views be considered in the assessment process?\"\n",
    "user_content = \"How often should you review the data protection impact assessment?\"\n",
    "\n",
    "#DPO\n",
    "user_content = \"When must you designate a data protection officer?\"\n",
    "user_content = \"Can multiple organisations share a DPO?\"\n",
    "user_content = \"What criteria must a data protection officer meet?\"\n",
    "user_content = \"Can a data protection officer be a contractor?\"\n",
    "user_content = \"How should the contact details of the DPO be shared?\"\n",
    "user_content = \"What types of processing activities require you to appoint a data protection officer?\"\n",
    "user_content = \"How does the scale of data processing affect the requirement to appoint a data protection officer?\"\n",
    "user_content = \"What is large scale?\"\n",
    "user_content = \"What is the difference between a data protection officer and a controller?\"\n",
    "\n",
    "# intl_transfer\n",
    "user_content = \"What are the conditions for transferring personal data to another country or international organisation?\"\n",
    "user_content = \"When is an individual's consent required for data transfer?\"\n",
    "user_content = \"How does a contract affect the transfer of personal data?\"\n",
    "user_content = \"What constitutes an important reason of public interest for transferring personal data?\"\n",
    "user_content = \"When can data be transferred for the establishment, exercise, or defence of legal claims?\"\n",
    "user_content = \"Under what circumstances can personal data be transferred to protect someone's vital interests?\"\n",
    "user_content = \"What are the rules for transferring data from public registers?\"\n",
    "user_content = \"What are the requirements for a non-repetitive transfer based on compelling legitimate interests?\"\n",
    "user_content = \"When are public authorities exempt from certain transfer conditions?\"\n",
    "user_content = \"How does the law recognise public interest for data transfers?\"\n",
    "user_content = \"What documentation is required for assessing data transfers?\"\n",
    "\n",
    "# lead_sa\n",
    "\n",
    "# data breach\n",
    "user_content = \"What action should you take if a personal data breach occurs?\"\n",
    "user_content = \"How soon must you notify the appropriate authority when a data breach is discovered?\"\n",
    "user_content = \"Is there any situation where you might not need to notify a supervisory authority about a data breach?\"\n",
    "user_content = \"What information must you include when reporting a data breach?\"\n",
    "user_content = \"What should be done if all details about a breach can't be reported immediately?\"\n",
    "user_content = \"Why is it important to document all personal data breaches and the response to them?\"\n",
    "\n",
    "user_content = \"When should you inform individuals about a personal data breach?\"\n",
    "user_content = \"What information should be included when notifying an individual about a personal data breach?\"\n",
    "user_content = \"Under what conditions can you avoid informing individuals about a personal data breach?\"\n",
    "user_content = \"What happens if you don't voluntarily notify individuals about a personal data breach?\"\n",
    "\n",
    "\n",
    "# portability\n",
    "user_content = \"What is the right to data portability?\"\n",
    "user_content = \"What does data portability mean for the transfer of data between controllers?\"\n",
    "user_content = \"Is the right to data portability unlimited?\"\n",
    "\n",
    "# transparency\n",
    "user_content = \"What information must be provided to individuals when collecting their personal data?\"\n",
    "user_content = \"What details about the data controller need to be disclosed during data collection?\"\n",
    "user_content = \"What are the required disclosures about the use and processing of personal data?\"\n",
    "user_content = \"When is it necessary to inform individuals about the transfer of their personal data to third countries or international organisations?\"\n",
    "user_content = \"What rights must individuals be informed about concerning their personal data?\"\n",
    "user_content = \"How does the requirement for providing information change if the purpose of data processing changes?\"\n",
    "user_content = \"What information must be provided to individuals when their data is collected indirectly?\"\n",
    "user_content = \"Within what timeframe must information be provided to the data subject when their data is collected indirectly?\"\n",
    "# user_content = \"What actions must be taken if the purpose of data processing changes after initial collection?\"\n",
    "# user_content = \"Are there any circumstances under which the obligation to provide information to data subjects does not apply?\"\n",
    "# user_content = \"How are data subjects informed about their rights concerning their personal data?\"\n",
    "\n",
    "\n",
    "# Codes\n",
    "user_content = \"Who is encouraged to create codes of conduct for GDPR compliance?\"\n",
    "user_content = \"What purposes do codes of conduct serve?\"\n",
    "user_content = \"Can codes of conduct address the protection of children's data?\"\n",
    "user_content = \"How can codes of conduct assist with personal data breaches?\"\n",
    "user_content = \"Can organisations outside the EU adhere to codes of conduct?\"\n",
    "user_content = \"What requirements must a code of conduct meet for approval?\"\n",
    "# user_content = \"Who approves codes of conduct for local purposes?\"\n",
    "# user_content = \"How are codes of conduct evaluated for processing activities across multiple Member States?\"\n",
    "# user_content = \"What role does the Commission play in the validity of codes of conduct?\"\n",
    "# user_content = \"How is the public informed about approved codes of conduct?\"\n",
    "# user_content = \"Where can one find a register of approved codes of conduct?\"\n",
    "# user_content = \"Who can monitor compliance with a code of conduct?\"\n",
    "# user_content = \"What qualifications must a body meet to monitor compliance with a code of conduct?\"\n",
    "user_content = \"How does a body become accredited to monitor a code of conduct?\"\n",
    "# user_content = \"What responsibilities does an accredited body have when a code of conduct is breached?\"\n",
    "# user_content = \"What actions can an accredited monitoring body take if a code of conduct is infringed?\"\n",
    "# user_content = \"Under what circumstances can an accreditation be revoked?\"\n",
    "\n",
    "#user_content = \"Can you give me a worfklow for the approval of a code of conduct?\"\n",
    "\n",
    "# territorial scope\n",
    "user_content = \"When does GDPR apply to non-EU entities?\"\n",
    "user_content = \"I am not based in the EU. Does GDPR apply to me?\"\n",
    "\n",
    "# video\n",
    "user_content = \"Is video surveillance regulated under gdpr?\"\n",
    "\n",
    "# Covid Health\n",
    "user_content = \"What specific purposes allow healthcare data to be processed without explicit consent?\"\n",
    "user_content = \"What are the permissible legal bases for processing health data for scientific research?\"\n",
    "\n",
    "# covid location\n",
    "user_content = \"What types of data should not be collected by contact tracing applications?\"\n",
    "\n",
    "# Concent\n",
    "user_content = \"Can children consent to data collection?\"\n",
    "\n",
    "# Forgotten\n",
    "user_content = \"What is the right to erasure and when does it apply?\"\n"
   ]
  },
  {
   "cell_type": "code",
   "execution_count": 1,
   "metadata": {},
   "outputs": [],
   "source": [
    "from gdpr_rag.documents.dpo import DPO\n",
    "from gdpr_rag.documents.consent import Consent\n",
    "dpo = DPO()\n",
    "consent = Consent()"
   ]
  },
  {
   "cell_type": "code",
   "execution_count": 23,
   "metadata": {},
   "outputs": [
    {
     "data": {
      "text/html": [
       "<div>\n",
       "<style scoped>\n",
       "    .dataframe tbody tr th:only-of-type {\n",
       "        vertical-align: middle;\n",
       "    }\n",
       "\n",
       "    .dataframe tbody tr th {\n",
       "        vertical-align: top;\n",
       "    }\n",
       "\n",
       "    .dataframe thead th {\n",
       "        text-align: right;\n",
       "    }\n",
       "</style>\n",
       "<table border=\"1\" class=\"dataframe\">\n",
       "  <thead>\n",
       "    <tr style=\"text-align: right;\">\n",
       "      <th></th>\n",
       "      <th>section_reference</th>\n",
       "      <th>text</th>\n",
       "      <th>source</th>\n",
       "      <th>embedding</th>\n",
       "      <th>document</th>\n",
       "    </tr>\n",
       "  </thead>\n",
       "  <tbody>\n",
       "    <tr>\n",
       "      <th>0</th>\n",
       "      <td>2.1</td>\n",
       "      <td>gAAAAABmUH9YDpyn75A6P5UBv2tn3enDzLAPpQYXhXxsuk...</td>\n",
       "      <td>summary</td>\n",
       "      <td>[-0.05341560021042824, 0.0171151515096426, -0....</td>\n",
       "      <td>Video</td>\n",
       "    </tr>\n",
       "    <tr>\n",
       "      <th>1</th>\n",
       "      <td>2.2</td>\n",
       "      <td>gAAAAABmUH9YEm2qVPRmHM-J5GQxVp8K7JCYlxzpbBAt6h...</td>\n",
       "      <td>summary</td>\n",
       "      <td>[-0.05042532831430435, -0.034690551459789276, ...</td>\n",
       "      <td>Video</td>\n",
       "    </tr>\n",
       "    <tr>\n",
       "      <th>2</th>\n",
       "      <td>2.3</td>\n",
       "      <td>gAAAAABmUH9Yt_9fPYROaTi2ZIdE-IGpQpFtdHQ1tI6IpM...</td>\n",
       "      <td>summary</td>\n",
       "      <td>[-0.05431677773594856, 0.031087687239050865, -...</td>\n",
       "      <td>Video</td>\n",
       "    </tr>\n",
       "    <tr>\n",
       "      <th>3</th>\n",
       "      <td>3</td>\n",
       "      <td>gAAAAABmUH9YI-aMX31OE0KoFJtf5__giOrAD1XTEiVt1q...</td>\n",
       "      <td>summary</td>\n",
       "      <td>[0.011479574255645275, -0.04576420783996582, -...</td>\n",
       "      <td>Video</td>\n",
       "    </tr>\n",
       "    <tr>\n",
       "      <th>4</th>\n",
       "      <td>3.1.1</td>\n",
       "      <td>gAAAAABmUH9YMHnezbumcNuKAdDdVAelDbD5cu0VuRpGAz...</td>\n",
       "      <td>summary</td>\n",
       "      <td>[0.024606412276625633, -0.012803575955331326, ...</td>\n",
       "      <td>Video</td>\n",
       "    </tr>\n",
       "    <tr>\n",
       "      <th>...</th>\n",
       "      <td>...</td>\n",
       "      <td>...</td>\n",
       "      <td>...</td>\n",
       "      <td>...</td>\n",
       "      <td>...</td>\n",
       "    </tr>\n",
       "    <tr>\n",
       "      <th>123</th>\n",
       "      <td>9.3.2</td>\n",
       "      <td>gAAAAABmUH9YxhYBbjnCjhfyzJSnOqOND6Egd3ErKrbHPX...</td>\n",
       "      <td>question</td>\n",
       "      <td>[-0.004779711831361055, 0.0069802324287593365,...</td>\n",
       "      <td>Video</td>\n",
       "    </tr>\n",
       "    <tr>\n",
       "      <th>124</th>\n",
       "      <td>9.3.2</td>\n",
       "      <td>gAAAAABmUH9YaTg645WLz3LZdFQ_zBII1t0IXvpW96hTbw...</td>\n",
       "      <td>question</td>\n",
       "      <td>[-0.045810651034116745, 0.048128221184015274, ...</td>\n",
       "      <td>Video</td>\n",
       "    </tr>\n",
       "    <tr>\n",
       "      <th>125</th>\n",
       "      <td>9.3.2</td>\n",
       "      <td>gAAAAABmUH9YSxCyP9WC7aFGTLMJSCrcL84pCwxTkSPlhz...</td>\n",
       "      <td>question</td>\n",
       "      <td>[-0.02516673319041729, -0.024208365008234978, ...</td>\n",
       "      <td>Video</td>\n",
       "    </tr>\n",
       "    <tr>\n",
       "      <th>126</th>\n",
       "      <td>10</td>\n",
       "      <td>gAAAAABmUH9YJjSfd9EKsOg7w3xxvlvNGZ5J0T1SWUEaug...</td>\n",
       "      <td>question</td>\n",
       "      <td>[-0.039777971804142, -0.014415937475860119, -0...</td>\n",
       "      <td>Video</td>\n",
       "    </tr>\n",
       "    <tr>\n",
       "      <th>127</th>\n",
       "      <td>10</td>\n",
       "      <td>gAAAAABmUH9Yj5nIKKwnE4CiWi1F78tHeglKQtWPbQiK_w...</td>\n",
       "      <td>question</td>\n",
       "      <td>[-0.025207817554473877, -0.007000169716775417,...</td>\n",
       "      <td>Video</td>\n",
       "    </tr>\n",
       "  </tbody>\n",
       "</table>\n",
       "<p>128 rows × 5 columns</p>\n",
       "</div>"
      ],
      "text/plain": [
       "    section_reference                                               text  \\\n",
       "0                 2.1  gAAAAABmUH9YDpyn75A6P5UBv2tn3enDzLAPpQYXhXxsuk...   \n",
       "1                 2.2  gAAAAABmUH9YEm2qVPRmHM-J5GQxVp8K7JCYlxzpbBAt6h...   \n",
       "2                 2.3  gAAAAABmUH9Yt_9fPYROaTi2ZIdE-IGpQpFtdHQ1tI6IpM...   \n",
       "3                   3  gAAAAABmUH9YI-aMX31OE0KoFJtf5__giOrAD1XTEiVt1q...   \n",
       "4               3.1.1  gAAAAABmUH9YMHnezbumcNuKAdDdVAelDbD5cu0VuRpGAz...   \n",
       "..                ...                                                ...   \n",
       "123             9.3.2  gAAAAABmUH9YxhYBbjnCjhfyzJSnOqOND6Egd3ErKrbHPX...   \n",
       "124             9.3.2  gAAAAABmUH9YaTg645WLz3LZdFQ_zBII1t0IXvpW96hTbw...   \n",
       "125             9.3.2  gAAAAABmUH9YSxCyP9WC7aFGTLMJSCrcL84pCwxTkSPlhz...   \n",
       "126                10  gAAAAABmUH9YJjSfd9EKsOg7w3xxvlvNGZ5J0T1SWUEaug...   \n",
       "127                10  gAAAAABmUH9Yj5nIKKwnE4CiWi1F78tHeglKQtWPbQiK_w...   \n",
       "\n",
       "       source                                          embedding document  \n",
       "0     summary  [-0.05341560021042824, 0.0171151515096426, -0....    Video  \n",
       "1     summary  [-0.05042532831430435, -0.034690551459789276, ...    Video  \n",
       "2     summary  [-0.05431677773594856, 0.031087687239050865, -...    Video  \n",
       "3     summary  [0.011479574255645275, -0.04576420783996582, -...    Video  \n",
       "4     summary  [0.024606412276625633, -0.012803575955331326, ...    Video  \n",
       "..        ...                                                ...      ...  \n",
       "123  question  [-0.004779711831361055, 0.0069802324287593365,...    Video  \n",
       "124  question  [-0.045810651034116745, 0.048128221184015274, ...    Video  \n",
       "125  question  [-0.02516673319041729, -0.024208365008234978, ...    Video  \n",
       "126  question  [-0.039777971804142, -0.014415937475860119, -0...    Video  \n",
       "127  question  [-0.025207817554473877, -0.007000169716775417,...    Video  \n",
       "\n",
       "[128 rows x 5 columns]"
      ]
     },
     "execution_count": 23,
     "metadata": {},
     "output_type": "execute_result"
    }
   ],
   "source": [
    "file = \"./inputs/index/video.parquet\"\n",
    "df = pd.read_parquet(file)\n",
    "df"
   ]
  },
  {
   "cell_type": "code",
   "execution_count": null,
   "metadata": {},
   "outputs": [],
   "source": []
  }
 ],
 "metadata": {
  "kernelspec": {
   "display_name": "env",
   "language": "python",
   "name": "python3"
  },
  "language_info": {
   "codemirror_mode": {
    "name": "ipython",
    "version": 3
   },
   "file_extension": ".py",
   "mimetype": "text/x-python",
   "name": "python",
   "nbconvert_exporter": "python",
   "pygments_lexer": "ipython3",
   "version": "3.10.4"
  },
  "orig_nbformat": 4
 },
 "nbformat": 4,
 "nbformat_minor": 2
}
