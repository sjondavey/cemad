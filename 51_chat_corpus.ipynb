{
 "cells": [
  {
   "cell_type": "code",
   "execution_count": 1,
   "metadata": {},
   "outputs": [],
   "source": [
    "import logging\n",
    "log_level = logging.INFO\n",
    "# log_level = logging.DEBUG\n",
    "log_level = 15\n",
    "logging.basicConfig(level=log_level)\n",
    "logger = logging.getLogger(__name__)\n",
    "logger.setLevel(log_level)\n"
   ]
  },
  {
   "cell_type": "code",
   "execution_count": 2,
   "metadata": {},
   "outputs": [],
   "source": [
    "import os\n",
    "import pandas as pd\n",
    "from openai import OpenAI\n",
    "\n",
    "from regulations_rag.embeddings import  EmbeddingParameters\n",
    "from regulations_rag.rerank import RerankAlgos\n",
    "from regulations_rag.corpus_chat import ChatParameters\n",
    "\n",
    "import importlib\n",
    "import cemad_rag.cemad_corpus_index\n",
    "importlib.reload(cemad_rag.cemad_corpus_index)\n",
    "from cemad_rag.cemad_corpus_index import CEMADCorpusIndex\n",
    "\n",
    "import cemad_rag.corpus_chat_cemad\n",
    "importlib.reload(cemad_rag.corpus_chat_cemad)\n",
    "from cemad_rag.corpus_chat_cemad import CorpusChatCEMAD\n"
   ]
  },
  {
   "cell_type": "code",
   "execution_count": 3,
   "metadata": {},
   "outputs": [
    {
     "name": "stderr",
     "output_type": "stream",
     "text": [
      "ANALYSIS:cemad_rag.corpus_chat:test_user: Reset Conversation History\n"
     ]
    }
   ],
   "source": [
    "openai_client = OpenAI(api_key=os.environ.get(\"OPENAI_API_KEY\"),)\n",
    "chat_parameters = ChatParameters(chat_model = \"gpt-4o\", temperature = 0, max_tokens = 4096)\n",
    "#chat_parameters = ChatParameters(chat_model = \"gpt-4-turbo\", temperature = 0, max_tokens = 500)\n",
    "\n",
    "embedding_parameters = EmbeddingParameters(\"text-embedding-3-large\", 1024)\n",
    "key = os.getenv('excon_encryption_key')\n",
    "\n",
    "corpus_index = CEMADCorpusIndex(key)\n",
    "\n",
    "rerank_algo  = RerankAlgos.LLM\n",
    "if rerank_algo == RerankAlgos.LLM:\n",
    "    rerank_algo.params[\"openai_client\"] = openai_client\n",
    "    rerank_algo.params[\"model_to_use\"] = chat_parameters.model\n",
    "    rerank_algo.params[\"user_type\"] = corpus_index.user_type\n",
    "    rerank_algo.params[\"corpus_description\"] = corpus_index.corpus_description\n",
    "    rerank_algo.params[\"final_token_cap\"] = 5000 # can go large with the new models\n",
    "\n",
    "\n",
    "chat = CorpusChatCEMAD(openai_client = openai_client, \n",
    "                    embedding_parameters = embedding_parameters, \n",
    "                    chat_parameters = chat_parameters, \n",
    "                    corpus_index = corpus_index,\n",
    "                    rerank_algo = RerankAlgos.LLM,   \n",
    "                    user_name_for_logging = 'test_user')\n",
    "\n",
    "\n"
   ]
  },
  {
   "cell_type": "code",
   "execution_count": 4,
   "metadata": {},
   "outputs": [
    {
     "name": "stderr",
     "output_type": "stream",
     "text": [
      "ANALYSIS:cemad_rag.corpus_chat:test_user: Reset Conversation History\n",
      "ANALYSIS:cemad_rag.corpus_chat:test_user question: Can a corporate use allowance of managing institution?\n",
      "INFO:httpx:HTTP Request: POST https://api.openai.com/v1/embeddings \"HTTP/1.1 200 OK\"\n",
      "DEV:cemad_rag.corpus_chat:#################   Similarity Search       #################\n",
      "DEV:cemad_rag.corpus_chat:No relevant workflow found\n",
      "DEV:regulations_rag.corpus_index:--   No relevant definitions found\n",
      "DEV:regulations_rag.corpus_index:Selecting the top 15 items based on cosine-similarity score\n",
      "DEV:regulations_rag.corpus_index:--   No relevant sections found\n",
      "DEV:cemad_rag.corpus_chat:Executing path for no retrieval and no conversation history\n",
      "DEV:cemad_rag.corpus_chat_cemad:Executing CorpusChatCEMAD.execute_path_no_retrieval_no_conversation_history() i.e. Trying to help the user to construct a good question\n",
      "INFO:httpx:HTTP Request: POST https://api.openai.com/v1/chat/completions \"HTTP/1.1 200 OK\"\n",
      "INFO:httpx:HTTP Request: POST https://api.openai.com/v1/chat/completions \"HTTP/1.1 200 OK\"\n",
      "INFO:httpx:HTTP Request: POST https://api.openai.com/v1/embeddings \"HTTP/1.1 200 OK\"\n",
      "DEV:cemad_rag.corpus_chat:#################   Similarity Search       #################\n",
      "DEV:cemad_rag.corpus_chat:No relevant workflow found\n",
      "DEV:regulations_rag.corpus_index:--   No relevant definitions found\n",
      "DEV:regulations_rag.corpus_index:Selecting the top 15 items based on cosine-similarity score\n",
      "DEV:regulations_rag.corpus_index:0.2932:                CEMAD:               B.1(H):        question: Are there special conditions for companies who have dispensation for multiple foreign currency transactions?\n",
      "DEV:regulations_rag.corpus_index:0.3030:                CEMAD:               A.4(C):        question: Can a treasury outsourcing company transact in foreign currency for its own account?\n",
      "DEV:regulations_rag.corpus_index:0.3668:                CEMAD:               A.3(A):        question: Who is permitted to conduct foreign currency transactions?\n",
      "DEV:regulations_rag.corpus_index:0.3687:                CEMAD:         E.(B)(ii)(a):        question: What types of transactions can be conducted through foreign currency or CFC accounts?\n",
      "DEV:regulations_rag.corpus_index:0.3692:                CEMAD:           B.2(E)(ii):        question: Is it possible to engage in hedging transactions with foreign banks?\n",
      "DEV:regulations_rag.corpus_index:0.3728:                CEMAD:          E.(B)(i)(a):        question: Are foreign currency or CFC accounts allowed to be overdrawn?\n",
      "DEV:regulations_rag.corpus_index:0.3749:                CEMAD:           B.2(E)(ii):         summary: A Domestic Treasury Management Company (DTMC) can select its functional currency and manage both a foreign currency account and a Rand account for operational costs, both operated on a non-resident basis. Transfers from the parent company to the DTMC are capped at R3 billion per year for new investments, expansions, and other capital transactions. The DTMC can raise and deploy capital offshore with restrictions. Local bank loans to the DTMC will be part of the Authorised Dealer’s macro-prudential limit. Domestic capital and guarantees are permitted to fund foreign direct investments, similar to current foreign direct investment allowances.\n",
      "DEV:regulations_rag.corpus_index:0.3795:                CEMAD:                  B.9:        question: Can a client make foreign currency payments for imports?\n",
      "DEV:regulations_rag.corpus_index:--   Relevant sections found\n",
      "DEV:regulations_rag.rerank:Re-ranking using LLM\n",
      "INFO:httpx:HTTP Request: POST https://api.openai.com/v1/chat/completions \"HTTP/1.1 200 OK\"\n",
      "DEV:regulations_rag.rerank:--   results requested by LLM filter\n",
      "DEV:regulations_rag.rerank:A.3(A)\n",
      "INFO:httpx:HTTP Request: POST https://api.openai.com/v1/embeddings \"HTTP/1.1 200 OK\"\n",
      "DEV:cemad_rag.corpus_chat:#################   Similarity Search       #################\n",
      "DEV:cemad_rag.corpus_chat:No relevant workflow found\n",
      "DEV:regulations_rag.corpus_index:--   No relevant definitions found\n",
      "DEV:regulations_rag.corpus_index:Selecting the top 15 items based on cosine-similarity score\n",
      "DEV:regulations_rag.corpus_index:0.3273:                CEMAD:               A.3(E):        question: Are there any foreign exchange limits for banks within CMA countries?\n",
      "DEV:regulations_rag.corpus_index:0.3520:                CEMAD:               A.3(E):         summary: Transfers and investments in Rand between South Africa and other CMA countries don't need approval from the Financial Surveillance Department, and there are no foreign exchange limitations between CMA countries' banks for cross-border transactions among themselves.\n",
      "DEV:regulations_rag.corpus_index:0.3626:                CEMAD:               B.1(H):        question: Are there special conditions for companies who have dispensation for multiple foreign currency transactions?\n",
      "DEV:regulations_rag.corpus_index:0.3701:                CEMAD:               A.3(E):         summary: Authorised Dealers are prohibited from engaging in foreign exchange transactions with residents of other CMA countries. Such requests should direct clients back to their native CMA country's bankers, with the exception of specific conditions: Authorised Dealers can sell foreign currency to foreign diplomats, accredited staff, students from CMA countries in South Africa, CMA residents in transit in South Africa, those working and living in South Africa, and those traveling overland through a SADC country up to R25,000 annually. They can also engage in foreign exchange or hedging transactions with CMA residents under certain circumstances, such as if the transaction concerns the CMA member’s own business and with the necessary approvals and quarterly reporting to the Financial Surveillance Department.\n",
      "DEV:regulations_rag.corpus_index:0.3740:                CEMAD:            B.2(H)(v):        question: Are there special requirements for handling transactions with institutional investors from the CMA?\n",
      "DEV:regulations_rag.corpus_index:--   Relevant sections found\n",
      "DEV:regulations_rag.rerank:Re-ranking using LLM\n",
      "INFO:httpx:HTTP Request: POST https://api.openai.com/v1/chat/completions \"HTTP/1.1 200 OK\"\n",
      "DEV:regulations_rag.rerank:--   results requested by LLM filter\n",
      "DEV:regulations_rag.rerank:A.3(E)\n"
     ]
    }
   ],
   "source": [
    "#  May minors purchase foreign exchange\n",
    "user_content = \"Can I use my credit card for online purchases?\"\n",
    "user_content = \"Can I open a non-resident account for a CMA resident from another CMA country\"\n",
    "user_content = \"What are the foreign currency limits for children?\"\n",
    "user_content = \"what do the regulations say about travel?\"\n",
    "user_content = \"How much money can an individual take offshore in a year?\"\n",
    "user_content = 'Can a corporate use allowance of managing institution?'\n",
    "\n",
    "chat.reset_conversation_history()\n",
    "\n",
    "chat.user_provides_input(user_content)\n",
    "chat.create_openai_assistant_message(chat.messages_intermediate[-1])['content']\n",
    "#chat.user_provides_input(user_content)"
   ]
  },
  {
   "cell_type": "code",
   "execution_count": 5,
   "metadata": {},
   "outputs": [
    {
     "name": "stderr",
     "output_type": "stream",
     "text": [
      "ANALYSIS:cemad_rag.corpus_chat:test_user question: What are the regulations for a corporate using the foreign allowance provided by an asset manager?\n",
      "INFO:httpx:HTTP Request: POST https://api.openai.com/v1/embeddings \"HTTP/1.1 200 OK\"\n",
      "DEV:cemad_rag.corpus_chat:#################   Similarity Search       #################\n",
      "DEV:cemad_rag.corpus_chat:No relevant workflow found\n",
      "DEV:regulations_rag.corpus_index:--   No relevant definitions found\n",
      "DEV:regulations_rag.corpus_index:Selecting the top 15 items based on cosine-similarity score\n",
      "DEV:regulations_rag.corpus_index:0.3543:                CEMAD:          B.2(C)(iii):        question: What are the rules for making foreign portfolio investments?\n",
      "DEV:regulations_rag.corpus_index:0.3723:                CEMAD:           B.2(H)(ii):        question: How should an institutional invester report foreign assets?\n",
      "DEV:regulations_rag.corpus_index:--   Relevant sections found\n",
      "DEV:regulations_rag.rerank:Re-ranking using LLM\n",
      "INFO:httpx:HTTP Request: POST https://api.openai.com/v1/chat/completions \"HTTP/1.1 200 OK\"\n",
      "DEV:regulations_rag.rerank:--   results requested by LLM filter\n",
      "DEV:regulations_rag.rerank:B.2(C)(iii)\n",
      "DEV:cemad_rag.corpus_chat:#################   RAG Prompts   #################\n",
      "DEV:cemad_rag.corpus_chat:System Prompt:\n",
      "You are answering questions about South African 'Currency and Exchange Manual for Authorised Dealers' (CEMAD) for an Authorised Dealer (AD) based only on the reference extracts provided. You have 3 options:\n",
      "1) Answer the question. Preface an answer with the tag 'ANSWER:'. All referenced extracts must be quoted at the end of the answer, not in the body, by number, in a comma separated list starting after the keyword 'Reference:'. Do not include the word Extract, only provide the number(s).\n",
      "2) Request additional documentation. If, in the body of the extract(s) provided, there is a reference to another section that is directly relevant and not already provided, respond with the word 'SECTION:' followed by 'Extract extract_number, Reference: section_reference' - for example SECTION: Extract 1, Reference: [A-Z]\\.\\d{0,2}(?:\\([A-Z]\\))?(?:\\((?:i|ii|iii|iv|v|vi)\\))?(?:\\([a-z]\\))?(?:\\([a-z]{2}\\))?(?:\\(\\d+\\))?.\n",
      "3) State 'NONE:' and nothing else in all other cases\n",
      "\n",
      "DEV:cemad_rag.corpus_chat:User Prompt with RAG:\n",
      "Question: What are the regulations for a corporate using the foreign allowance provided by an asset manager?\n",
      "\n",
      "Extract 1:\n",
      "B.2 Capital transfers\n",
      "    (C) South African companies\n",
      "        (iii) Foreign portfolio investments by companies not exceeding R5 billion per applicant company\n",
      "            (a) Authorised Dealers may approve requests by companies wishing to make bona fide new outward foreign portfolio investments into companies, branches and offices outside the CMA, including requests that fall outside their current line of business, where the total cost of such investments does not exceed R5 billion per company per calendar year.\n",
      "            (b) All conditions and requirements as outlined in subsection (i) above, except for subsection (i)(d)(bb) and (cc), will apply to this dispensation.\n",
      "            (c) For statistical purposes, investments approved under this dispensation are for less than 10 per cent of the foreign target entity's voting rights and must be suitably reported.\n",
      "            (d) Foreign portfolio investments must be reported under category 830 - Details of payments not classified and in the description field insert ‘Portfolio Investments'.\n",
      "            (e) Under no circumstances may local guarantees or suretyships be issued or South African assets encumbered under this dispensation.\n",
      "            (f) The financial statements and/or portfolio investment status report of the foreign target entities must be submitted to the Financial Surveillance Department on an annual basis.\n",
      "            (g) For classification purposes, any increase in the equity interest and/or voting rights in the foreign target entity from 10 per cent and above must be reported to the Financial Surveillance Department.\n",
      "            (h) Any transaction for an amount exceeding R5 billion per applicant company must be referred to Financial Surveillance Department for prior approval.\n",
      "            Note: This dispensation should not be confused with portfolio investments acquired by institutional investors in terms of the prudential limit.\n",
      "\n",
      "INFO:httpx:HTTP Request: POST https://api.openai.com/v1/chat/completions \"HTTP/1.1 200 OK\"\n",
      "INFO:cemad_rag.corpus_chat_cemad:corpus_chat.resource_augmented_query was not not able to find relevant information in the retrieved text\n",
      "DEV:cemad_rag.corpus_chat:Executing default corpus_chat.execute_path_for_no_relevant_information_in_retrieved_text() i.e. forcing the assistant response to CorpusChat.Errors.NO_RELEVANT_DATA.value\n"
     ]
    }
   ],
   "source": [
    "user_content = 'What are the regulations for a corporate using the foreign allowance provided by an asset manager?'\n",
    "chat.user_provides_input(user_content)\n",
    "chat.create_openai_assistant_message(chat.messages_intermediate[-1])['content']"
   ]
  },
  {
   "cell_type": "code",
   "execution_count": 6,
   "metadata": {},
   "outputs": [
    {
     "name": "stderr",
     "output_type": "stream",
     "text": [
      "ANALYSIS:cemad_rag.corpus_chat:test_user question: What are the regulations for a corporate using the foreign allowance provided by an asset manager?\n",
      "INFO:httpx:HTTP Request: POST https://api.openai.com/v1/embeddings \"HTTP/1.1 200 OK\"\n",
      "DEV:cemad_rag.corpus_chat:#################   Similarity Search       #################\n",
      "DEV:cemad_rag.corpus_chat:No relevant workflow found\n",
      "DEV:regulations_rag.corpus_index:--   No relevant definitions found\n",
      "DEV:regulations_rag.corpus_index:Selecting the top 15 items based on cosine-similarity score\n",
      "DEV:regulations_rag.corpus_index:0.3543:                CEMAD:          B.2(C)(iii):        question: What are the rules for making foreign portfolio investments?\n",
      "DEV:regulations_rag.corpus_index:0.3723:                CEMAD:           B.2(H)(ii):        question: How should an institutional invester report foreign assets?\n",
      "DEV:regulations_rag.corpus_index:--   Relevant sections found\n",
      "DEV:regulations_rag.rerank:Re-ranking using LLM\n",
      "INFO:httpx:HTTP Request: POST https://api.openai.com/v1/chat/completions \"HTTP/1.1 200 OK\"\n",
      "DEV:regulations_rag.rerank:--   results requested by LLM filter\n",
      "DEV:regulations_rag.rerank:B.2(C)(iii)\n",
      "DEV:cemad_rag.corpus_chat:#################   RAG Prompts   #################\n",
      "DEV:cemad_rag.corpus_chat:System Prompt:\n",
      "You are answering questions about South African 'Currency and Exchange Manual for Authorised Dealers' (CEMAD) for an Authorised Dealer (AD) based only on the reference extracts provided. You have 3 options:\n",
      "1) Answer the question. Preface an answer with the tag 'ANSWER:'. All referenced extracts must be quoted at the end of the answer, not in the body, by number, in a comma separated list starting after the keyword 'Reference:'. Do not include the word Extract, only provide the number(s).\n",
      "2) Request additional documentation. If, in the body of the extract(s) provided, there is a reference to another section that is directly relevant and not already provided, respond with the word 'SECTION:' followed by 'Extract extract_number, Reference: section_reference' - for example SECTION: Extract 1, Reference: [A-Z]\\.\\d{0,2}(?:\\([A-Z]\\))?(?:\\((?:i|ii|iii|iv|v|vi)\\))?(?:\\([a-z]\\))?(?:\\([a-z]{2}\\))?(?:\\(\\d+\\))?.\n",
      "3) State 'NONE:' and nothing else in all other cases\n",
      "\n",
      "DEV:cemad_rag.corpus_chat:User Prompt with RAG:\n",
      "Question: What are the regulations for a corporate using the foreign allowance provided by an asset manager?\n",
      "\n",
      "Extract 1:\n",
      "B.2 Capital transfers\n",
      "    (C) South African companies\n",
      "        (iii) Foreign portfolio investments by companies not exceeding R5 billion per applicant company\n",
      "            (a) Authorised Dealers may approve requests by companies wishing to make bona fide new outward foreign portfolio investments into companies, branches and offices outside the CMA, including requests that fall outside their current line of business, where the total cost of such investments does not exceed R5 billion per company per calendar year.\n",
      "            (b) All conditions and requirements as outlined in subsection (i) above, except for subsection (i)(d)(bb) and (cc), will apply to this dispensation.\n",
      "            (c) For statistical purposes, investments approved under this dispensation are for less than 10 per cent of the foreign target entity's voting rights and must be suitably reported.\n",
      "            (d) Foreign portfolio investments must be reported under category 830 - Details of payments not classified and in the description field insert ‘Portfolio Investments'.\n",
      "            (e) Under no circumstances may local guarantees or suretyships be issued or South African assets encumbered under this dispensation.\n",
      "            (f) The financial statements and/or portfolio investment status report of the foreign target entities must be submitted to the Financial Surveillance Department on an annual basis.\n",
      "            (g) For classification purposes, any increase in the equity interest and/or voting rights in the foreign target entity from 10 per cent and above must be reported to the Financial Surveillance Department.\n",
      "            (h) Any transaction for an amount exceeding R5 billion per applicant company must be referred to Financial Surveillance Department for prior approval.\n",
      "            Note: This dispensation should not be confused with portfolio investments acquired by institutional investors in terms of the prudential limit.\n",
      "\n",
      "INFO:httpx:HTTP Request: POST https://api.openai.com/v1/chat/completions \"HTTP/1.1 200 OK\"\n",
      "INFO:cemad_rag.corpus_chat_cemad:corpus_chat.resource_augmented_query was not not able to find relevant information in the retrieved text\n",
      "DEV:cemad_rag.corpus_chat:Executing default corpus_chat.execute_path_for_no_relevant_information_in_retrieved_text() i.e. forcing the assistant response to CorpusChat.Errors.NO_RELEVANT_DATA.value\n"
     ]
    },
    {
     "data": {
      "text/plain": [
       "\"The documentation I have been provided does not help me answer the question. Please rephrase it and let's try again?\""
      ]
     },
     "execution_count": 6,
     "metadata": {},
     "output_type": "execute_result"
    }
   ],
   "source": [
    "user_content = 'What are the regulations for a corporate using the foreign allowance provided by an asset manager?'\n",
    "chat.user_provides_input(user_content)\n",
    "chat.create_openai_assistant_message(chat.messages_intermediate[-1])['content']"
   ]
  },
  {
   "cell_type": "code",
   "execution_count": 7,
   "metadata": {},
   "outputs": [
    {
     "name": "stderr",
     "output_type": "stream",
     "text": [
      "ANALYSIS:cemad_rag.corpus_chat:test_user question: Asset manager\n",
      "INFO:httpx:HTTP Request: POST https://api.openai.com/v1/embeddings \"HTTP/1.1 200 OK\"\n",
      "DEV:cemad_rag.corpus_chat:#################   Similarity Search       #################\n",
      "DEV:cemad_rag.corpus_chat:No relevant workflow found\n",
      "DEV:regulations_rag.corpus_index:--   No relevant definitions found\n",
      "DEV:regulations_rag.corpus_index:Selecting the top 15 items based on cosine-similarity score\n",
      "DEV:regulations_rag.corpus_index:--   No relevant sections found\n",
      "DEV:cemad_rag.corpus_chat:Executing path for no retrieval but with conversation history\n",
      "DEV:cemad_rag.corpus_chat_cemad:Executing CorpusChatCEMAD.execute_path_no_retrieval_no_conversation_history() i.e. Trying to help the user to construct a good question\n",
      "INFO:httpx:HTTP Request: POST https://api.openai.com/v1/chat/completions \"HTTP/1.1 200 OK\"\n",
      "INFO:httpx:HTTP Request: POST https://api.openai.com/v1/chat/completions \"HTTP/1.1 200 OK\"\n",
      "INFO:httpx:HTTP Request: POST https://api.openai.com/v1/embeddings \"HTTP/1.1 200 OK\"\n",
      "DEV:cemad_rag.corpus_chat:#################   Similarity Search       #################\n",
      "DEV:cemad_rag.corpus_chat:No relevant workflow found\n",
      "DEV:regulations_rag.corpus_index:--   No relevant definitions found\n",
      "DEV:regulations_rag.corpus_index:Selecting the top 15 items based on cosine-similarity score\n",
      "DEV:regulations_rag.corpus_index:0.3543:                CEMAD:          B.2(C)(iii):        question: What are the rules for making foreign portfolio investments?\n",
      "DEV:regulations_rag.corpus_index:0.3723:                CEMAD:           B.2(H)(ii):        question: How should an institutional invester report foreign assets?\n",
      "DEV:regulations_rag.corpus_index:--   Relevant sections found\n",
      "DEV:regulations_rag.rerank:Re-ranking using LLM\n",
      "INFO:httpx:HTTP Request: POST https://api.openai.com/v1/chat/completions \"HTTP/1.1 200 OK\"\n",
      "DEV:regulations_rag.rerank:--   results requested by LLM filter\n",
      "DEV:regulations_rag.rerank:B.2(C)(iii)\n",
      "INFO:httpx:HTTP Request: POST https://api.openai.com/v1/embeddings \"HTTP/1.1 200 OK\"\n",
      "DEV:cemad_rag.corpus_chat:#################   Similarity Search       #################\n",
      "DEV:cemad_rag.corpus_chat:No relevant workflow found\n",
      "DEV:regulations_rag.corpus_index:--   No relevant definitions found\n",
      "DEV:regulations_rag.corpus_index:Selecting the top 15 items based on cosine-similarity score\n",
      "DEV:regulations_rag.corpus_index:0.3090:                CEMAD:          B.2(C)(iii):        question: What are the rules for making foreign portfolio investments?\n",
      "DEV:regulations_rag.corpus_index:0.3460:                CEMAD:           B.2(H)(ii):        question: How should an institutional invester report foreign assets?\n",
      "DEV:regulations_rag.corpus_index:0.3653:                CEMAD:           B.2(H)(vi):         summary: Institutional investors can partake in instruments issued by local entities in the offshore market, provided they comply with the Financial Sector Conduct Authority's requirements and adhere to the prudential limit. The originating institution must ensure its foreign investments, both direct and indirect, stay within the prudential limit and report their assets using a ‘look-through’ basis.\n",
      "DEV:regulations_rag.corpus_index:0.3693:                CEMAD:           B.2(H)(vi):         summary: Institutional investors must recognize that positions from active currency management transactions not leading to the actual transfer of currency, referred to as 'in-between trades', are considered foreign currency exposure. These positions should be marked against the prudential limit and accounted for in the quarterly asset allocation reports. Transfers related to costs of prudential investments, foreign-held assets, and liabilities cannot be carried out without referencing the Financial Surveillance Department first. Institutional investors can open foreign currency accounts with Authorised Dealers to gain offshore exposure. These accounts can be funded by converting Rand to foreign currency or using foreign currency deposits from the sale of foreign assets. Funds in these accounts can be retained without converting to Rand, as long as they stay within the prudential limit and are documented in the quarterly asset allocation reports. South African institutional investors engaging in Rand transactions with residents of other CMA countries should consult section A.3(E)(vi) of the Authorised Dealer Manual. If an institutional investor surpasses the prudential limit, they are prohibited from transferring funds abroad or making foreign-classified investments.\n",
      "DEV:regulations_rag.corpus_index:0.3709:                CEMAD:           D.1(B)(ii):         summary: Institutional investors must consider that any positions resulting from 'in-between trades' are considered foreign exposure. These positions must be marked off against the prudential limit and included in quarterly asset allocation reports.\n",
      "DEV:regulations_rag.corpus_index:0.3757:                CEMAD:            B.2(H)(i):        question: What is the process for institutional investors to invest internationally?\n",
      "DEV:regulations_rag.corpus_index:0.3761:                CEMAD:             G.(B)(i):        question: What regulations apply to emigrants using funds from their emigrant capital accounts to subscribe for shares?\n",
      "DEV:regulations_rag.corpus_index:0.3773:                CEMAD:           B.2(H)(vi):        question: Where can I find the guidelines for offshore investments by managing institutions?\n",
      "DEV:regulations_rag.corpus_index:0.3797:                CEMAD:            B.2(H)(v):        question: Are there special requirements for handling transactions with institutional investors from the CMA?\n",
      "DEV:regulations_rag.corpus_index:--   Relevant sections found\n",
      "DEV:regulations_rag.rerank:Re-ranking using LLM\n",
      "INFO:httpx:HTTP Request: POST https://api.openai.com/v1/chat/completions \"HTTP/1.1 200 OK\"\n",
      "DEV:regulations_rag.rerank:--   results requested by LLM filter\n",
      "DEV:regulations_rag.rerank:B.2(H)(vi)\n",
      "INFO:httpx:HTTP Request: POST https://api.openai.com/v1/embeddings \"HTTP/1.1 200 OK\"\n",
      "DEV:cemad_rag.corpus_chat:#################   Similarity Search       #################\n",
      "DEV:cemad_rag.corpus_chat:No relevant workflow found\n",
      "DEV:regulations_rag.corpus_index:--   No relevant definitions found\n",
      "DEV:regulations_rag.corpus_index:Selecting the top 15 items based on cosine-similarity score\n",
      "DEV:regulations_rag.corpus_index:0.2070:                CEMAD:          B.2(C)(iii):        question: What are the rules for making foreign portfolio investments?\n",
      "DEV:regulations_rag.corpus_index:0.3232:                CEMAD:           B.2(H)(vi):        question: Where can I find the guidelines for offshore investments by managing institutions?\n",
      "DEV:regulations_rag.corpus_index:0.3536:                CEMAD:          B.2(C)(iii):         summary: Companies can make new outward foreign portfolio investments into entities outside the CMA up to R5 billion per company per year. This can include investments that fall outside their current line of business. Investments under this rule must represent less than 10% of the foreign target entity’s voting rights. Portfolio investements can include passive, real-estate investements that were excluded as foreign direct investments. Such investments should be documented under category 830 with 'Portfolio Investments' in the description. Local guarantees, suretyships, or the encumbering of South African assets are strictly prohibited. Every year, the financial statements or portfolio investment status report of the foreign target must be sent to the Financial Surveillance Department. If there's an increase in equity interest or voting rights in the foreign target entity to 10% or above, it must be reported. Transactions exceeding R5 billion per company need prior approval from the Financial Surveillance Department. This provision differs from portfolio investments made by institutional investors based on the prudential limit.\n",
      "DEV:regulations_rag.corpus_index:--   Relevant sections found\n",
      "DEV:regulations_rag.rerank:Re-ranking using LLM\n",
      "INFO:httpx:HTTP Request: POST https://api.openai.com/v1/chat/completions \"HTTP/1.1 200 OK\"\n",
      "DEV:regulations_rag.rerank:--   results requested by LLM filter\n",
      "DEV:regulations_rag.rerank:B.2(C)(iii)\n",
      "INFO:httpx:HTTP Request: POST https://api.openai.com/v1/embeddings \"HTTP/1.1 200 OK\"\n",
      "DEV:cemad_rag.corpus_chat:#################   Similarity Search       #################\n",
      "DEV:cemad_rag.corpus_chat:No relevant workflow found\n",
      "DEV:regulations_rag.corpus_index:--   Relevant Definitions\n",
      "DEV:regulations_rag.corpus_index:0.4191: Foreign portfolio investment is the category of international investment that covers investment in equity and debt securities, excluding any such instruments that are classified as direct investment or reserve assets. Foreign portfolio investment reflects investment in which the investor owns less than 10 per cent of the voting rights in the foreign target entity. \n",
      "DEV:cemad_rag.corpus_chat:Found a definition that was more relevant than the workflow: none\n",
      "DEV:regulations_rag.corpus_index:Selecting the top 15 items based on cosine-similarity score\n",
      "DEV:regulations_rag.corpus_index:0.1751:                CEMAD:          B.2(C)(iii):        question: What are the rules for making foreign portfolio investments?\n",
      "DEV:regulations_rag.corpus_index:0.3136:                CEMAD:           B.2(H)(vi):        question: Where can I find the guidelines for offshore investments by managing institutions?\n",
      "DEV:regulations_rag.corpus_index:0.3270:                CEMAD:            B.2(H)(i):        question: What is the process for institutional investors to invest internationally?\n",
      "DEV:regulations_rag.corpus_index:0.3391:                CEMAD:          B.2(C)(iii):         summary: Companies can make new outward foreign portfolio investments into entities outside the CMA up to R5 billion per company per year. This can include investments that fall outside their current line of business. Investments under this rule must represent less than 10% of the foreign target entity’s voting rights. Portfolio investements can include passive, real-estate investements that were excluded as foreign direct investments. Such investments should be documented under category 830 with 'Portfolio Investments' in the description. Local guarantees, suretyships, or the encumbering of South African assets are strictly prohibited. Every year, the financial statements or portfolio investment status report of the foreign target must be sent to the Financial Surveillance Department. If there's an increase in equity interest or voting rights in the foreign target entity to 10% or above, it must be reported. Transactions exceeding R5 billion per company need prior approval from the Financial Surveillance Department. This provision differs from portfolio investments made by institutional investors based on the prudential limit.\n",
      "DEV:regulations_rag.corpus_index:0.3472:                CEMAD:           B.2(H)(vi):         summary: Institutional investors can partake in instruments issued by local entities in the offshore market, provided they comply with the Financial Sector Conduct Authority's requirements and adhere to the prudential limit. The originating institution must ensure its foreign investments, both direct and indirect, stay within the prudential limit and report their assets using a ‘look-through’ basis.\n",
      "DEV:regulations_rag.corpus_index:0.3523:                CEMAD:           B.2(H)(ii):        question: How should an institutional invester report foreign assets?\n",
      "DEV:regulations_rag.corpus_index:0.3593:                CEMAD:             G.(A)(i):        question: What regulations cover dealing in securities owned by non-residents?\n",
      "DEV:regulations_rag.corpus_index:0.3679:                CEMAD:         B.2(C)(i)(d):         summary: Authorised Dealers must apply specific criteria when accessing foreign direct investments. These include: state-owned companies are prohibited from utilizing low-tax jurisdictions as intermediaries for outbound investments unless the investment is directly into a low-tax jurisdiction; a minimum of 10% of the voting rights in the foreign entity must be acquired for statistical tracking; passive real-estate investments aimed at long-term appreciation without active management are not permitted; and any cases of uncertainty or non-compliance with these conditions must be forwarded to the Financial Surveillance Department for review.\n",
      "DEV:regulations_rag.corpus_index:0.3705:                CEMAD:           B.2(H)(vi):        question: Can an institutional investors invest in instruments issued by local entities in the offshore market?\n",
      "DEV:regulations_rag.corpus_index:0.3709:                CEMAD:         B.2(C)(i)(f):        question: What are the reporting and compliance requirements for Foreign Direct Investments?\n",
      "DEV:regulations_rag.corpus_index:--   Relevant sections found\n",
      "DEV:regulations_rag.rerank:Re-ranking using LLM\n",
      "INFO:httpx:HTTP Request: POST https://api.openai.com/v1/chat/completions \"HTTP/1.1 200 OK\"\n",
      "DEV:regulations_rag.rerank:--   results requested by LLM filter\n",
      "DEV:regulations_rag.rerank:B.2(H)(i)\n"
     ]
    },
    {
     "data": {
      "text/plain": [
       "\"The question you posed did not contain any hits in the database. There are many reasons why this could be the case. Here however are different phrasings of the question which should find some reference material in the South African 'Currency and Exchange Manual for Authorised Dealers' (CEMAD): Perhaps try\\n\\n\\n1) What are the regulations for a corporate using the foreign allowance provided by an asset manager?\\n2) What are the regulations for a corporate using the foreign allowance provided by an institutional investor?\\n3) What are the regulations for a corporate making foreign portfolio investments through an asset manager?\\n4) What are the regulations for a corporate making foreign portfolio investments through an institutional investor?\""
      ]
     },
     "execution_count": 7,
     "metadata": {},
     "output_type": "execute_result"
    }
   ],
   "source": [
    "user_content = 'Asset manager'\n",
    "chat.user_provides_input(user_content)\n",
    "chat.create_openai_assistant_message(chat.messages_intermediate[-1])['content']"
   ]
  },
  {
   "cell_type": "code",
   "execution_count": 8,
   "metadata": {},
   "outputs": [
    {
     "name": "stderr",
     "output_type": "stream",
     "text": [
      "ANALYSIS:cemad_rag.corpus_chat:test_user question: Managing institution\n",
      "INFO:httpx:HTTP Request: POST https://api.openai.com/v1/embeddings \"HTTP/1.1 200 OK\"\n",
      "DEV:cemad_rag.corpus_chat:#################   Similarity Search       #################\n",
      "DEV:cemad_rag.corpus_chat:No relevant workflow found\n",
      "DEV:regulations_rag.corpus_index:--   No relevant definitions found\n",
      "DEV:regulations_rag.corpus_index:Selecting the top 15 items based on cosine-similarity score\n",
      "DEV:regulations_rag.corpus_index:0.2292:                CEMAD:          B.2(H)(iii):        question: What is a managing institution?\n",
      "DEV:regulations_rag.corpus_index:0.3750:                CEMAD:          B.2(H)(iii):         summary: A managing institution refers to a life insurer, CIS manager, or discretionary financial services provider registered with the Financial Surveillance Department. They offer investment products to both institutional and retail clients. On the other hand, an originating institution is an institutional investor that qualifies for a prudential limit and chooses to invest in products provided by a managing institution. This can be done directly or via intermediaries, like a discretionary financial services provider not registered as an institutional investor with the Financial Surveillance Department or an administrative financial services provider.\n",
      "DEV:regulations_rag.corpus_index:--   Relevant sections found\n",
      "DEV:regulations_rag.rerank:Re-ranking using LLM\n",
      "INFO:httpx:HTTP Request: POST https://api.openai.com/v1/chat/completions \"HTTP/1.1 200 OK\"\n",
      "DEV:regulations_rag.rerank:--   results requested by LLM filter\n",
      "DEV:regulations_rag.rerank:B.2(H)(iii)\n",
      "DEV:cemad_rag.corpus_chat:#################   RAG Prompts   #################\n",
      "DEV:cemad_rag.corpus_chat:System Prompt:\n",
      "You are answering questions about South African 'Currency and Exchange Manual for Authorised Dealers' (CEMAD) for an Authorised Dealer (AD) based only on the reference extracts provided. You have 3 options:\n",
      "1) Answer the question. Preface an answer with the tag 'ANSWER:'. All referenced extracts must be quoted at the end of the answer, not in the body, by number, in a comma separated list starting after the keyword 'Reference:'. Do not include the word Extract, only provide the number(s).\n",
      "2) Request additional documentation. If, in the body of the extract(s) provided, there is a reference to another section that is directly relevant and not already provided, respond with the word 'SECTION:' followed by 'Extract extract_number, Reference: section_reference' - for example SECTION: Extract 1, Reference: [A-Z]\\.\\d{0,2}(?:\\([A-Z]\\))?(?:\\((?:i|ii|iii|iv|v|vi)\\))?(?:\\([a-z]\\))?(?:\\([a-z]{2}\\))?(?:\\(\\d+\\))?.\n",
      "3) State 'NONE:' and nothing else in all other cases\n",
      "\n",
      "DEV:cemad_rag.corpus_chat:User Prompt with RAG:\n",
      "Question: Managing institution\n",
      "\n",
      "Extract 1:\n",
      "B.2 Capital transfers\n",
      "    (H) South African institutional investors\n",
      "        (iii) The distinction between managing institution and originating institution\n",
      "            (a) Managing institution\n",
      "                (aa) A managing institution is a life insurer, CIS manager or discretionary financial services provider registered with the Financial Surveillance Department that offers investment products to institutional and/or retail clients.\n",
      "            (b) Originating institution\n",
      "                (aa) An originating institution is an institutional investor that qualifies for a prudential limit that elects to invest in products offered by a managing institution, either directly or through an intermediary, such as a discretionary financial services provider not registered as an institutional investor with the Financial Surveillance Department or an administrative financial services provider.\n",
      "\n",
      "INFO:httpx:HTTP Request: POST https://api.openai.com/v1/chat/completions \"HTTP/1.1 200 OK\"\n",
      "INFO:cemad_rag.corpus_chat_cemad:corpus_chat.resource_augmented_query was not not able to find relevant information in the retrieved text\n",
      "DEV:cemad_rag.corpus_chat:Executing default corpus_chat.execute_path_for_no_relevant_information_in_retrieved_text() i.e. forcing the assistant response to CorpusChat.Errors.NO_RELEVANT_DATA.value\n"
     ]
    },
    {
     "data": {
      "text/plain": [
       "\"The documentation I have been provided does not help me answer the question. Please rephrase it and let's try again?\""
      ]
     },
     "execution_count": 8,
     "metadata": {},
     "output_type": "execute_result"
    }
   ],
   "source": [
    "user_content = 'Managing institution'\n",
    "chat.user_provides_input(user_content)\n",
    "chat.create_openai_assistant_message(chat.messages_intermediate[-1])['content']"
   ]
  },
  {
   "cell_type": "code",
   "execution_count": 9,
   "metadata": {},
   "outputs": [
    {
     "name": "stderr",
     "output_type": "stream",
     "text": [
      "ANALYSIS:cemad_rag.corpus_chat:test_user question: Can a corporate use allowance of managing institution?\n",
      "INFO:httpx:HTTP Request: POST https://api.openai.com/v1/embeddings \"HTTP/1.1 200 OK\"\n",
      "DEV:cemad_rag.corpus_chat:#################   Similarity Search       #################\n",
      "DEV:cemad_rag.corpus_chat:No relevant workflow found\n",
      "DEV:regulations_rag.corpus_index:--   No relevant definitions found\n",
      "DEV:regulations_rag.corpus_index:Selecting the top 15 items based on cosine-similarity score\n",
      "DEV:regulations_rag.corpus_index:--   No relevant sections found\n",
      "DEV:cemad_rag.corpus_chat:Executing path for no retrieval but with conversation history\n",
      "DEV:cemad_rag.corpus_chat_cemad:Executing CorpusChatCEMAD.execute_path_no_retrieval_no_conversation_history() i.e. Trying to help the user to construct a good question\n",
      "INFO:httpx:HTTP Request: POST https://api.openai.com/v1/chat/completions \"HTTP/1.1 200 OK\"\n",
      "INFO:httpx:HTTP Request: POST https://api.openai.com/v1/chat/completions \"HTTP/1.1 200 OK\"\n",
      "INFO:httpx:HTTP Request: POST https://api.openai.com/v1/embeddings \"HTTP/1.1 200 OK\"\n",
      "DEV:cemad_rag.corpus_chat:#################   Similarity Search       #################\n",
      "DEV:cemad_rag.corpus_chat:No relevant workflow found\n",
      "DEV:regulations_rag.corpus_index:--   No relevant definitions found\n",
      "DEV:regulations_rag.corpus_index:Selecting the top 15 items based on cosine-similarity score\n",
      "DEV:regulations_rag.corpus_index:0.2932:                CEMAD:               B.1(H):        question: Are there special conditions for companies who have dispensation for multiple foreign currency transactions?\n",
      "DEV:regulations_rag.corpus_index:0.3030:                CEMAD:               A.4(C):        question: Can a treasury outsourcing company transact in foreign currency for its own account?\n",
      "DEV:regulations_rag.corpus_index:0.3668:                CEMAD:               A.3(A):        question: Who is permitted to conduct foreign currency transactions?\n",
      "DEV:regulations_rag.corpus_index:0.3687:                CEMAD:         E.(B)(ii)(a):        question: What types of transactions can be conducted through foreign currency or CFC accounts?\n",
      "DEV:regulations_rag.corpus_index:0.3692:                CEMAD:           B.2(E)(ii):        question: Is it possible to engage in hedging transactions with foreign banks?\n",
      "DEV:regulations_rag.corpus_index:0.3728:                CEMAD:          E.(B)(i)(a):        question: Are foreign currency or CFC accounts allowed to be overdrawn?\n",
      "DEV:regulations_rag.corpus_index:0.3749:                CEMAD:           B.2(E)(ii):         summary: A Domestic Treasury Management Company (DTMC) can select its functional currency and manage both a foreign currency account and a Rand account for operational costs, both operated on a non-resident basis. Transfers from the parent company to the DTMC are capped at R3 billion per year for new investments, expansions, and other capital transactions. The DTMC can raise and deploy capital offshore with restrictions. Local bank loans to the DTMC will be part of the Authorised Dealer’s macro-prudential limit. Domestic capital and guarantees are permitted to fund foreign direct investments, similar to current foreign direct investment allowances.\n",
      "DEV:regulations_rag.corpus_index:0.3795:                CEMAD:                  B.9:        question: Can a client make foreign currency payments for imports?\n",
      "DEV:regulations_rag.corpus_index:--   Relevant sections found\n",
      "DEV:regulations_rag.rerank:Re-ranking using LLM\n",
      "INFO:httpx:HTTP Request: POST https://api.openai.com/v1/chat/completions \"HTTP/1.1 200 OK\"\n",
      "DEV:regulations_rag.rerank:--   results requested by LLM filter\n",
      "DEV:regulations_rag.rerank:A.3(A)\n"
     ]
    },
    {
     "data": {
      "text/plain": [
       "\"The question you posed did not contain any hits in the database. There are many reasons why this could be the case. Here however is a different phrasing of the question which should find some reference material in the South African 'Currency and Exchange Manual for Authorised Dealers' (CEMAD). Perhaps try:\\n\\n\\nCan a corporate use the allowance of a managing institution for foreign currency transactions?\""
      ]
     },
     "execution_count": 9,
     "metadata": {},
     "output_type": "execute_result"
    }
   ],
   "source": [
    "user_content = 'Can a corporate use allowance of managing institution?'\n",
    "chat.user_provides_input(user_content)\n",
    "chat.create_openai_assistant_message(chat.messages_intermediate[-1])['content']"
   ]
  },
  {
   "cell_type": "code",
   "execution_count": 10,
   "metadata": {},
   "outputs": [
    {
     "name": "stderr",
     "output_type": "stream",
     "text": [
      "DEV:cemad_rag.corpus_chat_cemad:Executing CorpusChatCEMAD.execute_path_no_retrieval_no_conversation_history() i.e. Trying to help the user to construct a good question\n",
      "INFO:httpx:HTTP Request: POST https://api.openai.com/v1/chat/completions \"HTTP/1.1 200 OK\"\n",
      "INFO:httpx:HTTP Request: POST https://api.openai.com/v1/chat/completions \"HTTP/1.1 200 OK\"\n",
      "INFO:httpx:HTTP Request: POST https://api.openai.com/v1/embeddings \"HTTP/1.1 200 OK\"\n",
      "DEV:cemad_rag.corpus_chat:#################   Similarity Search       #################\n",
      "DEV:cemad_rag.corpus_chat:No relevant workflow found\n",
      "DEV:regulations_rag.corpus_index:--   No relevant definitions found\n",
      "DEV:regulations_rag.corpus_index:Selecting the top 15 items based on cosine-similarity score\n",
      "DEV:regulations_rag.corpus_index:0.2932:                CEMAD:               B.1(H):        question: Are there special conditions for companies who have dispensation for multiple foreign currency transactions?\n",
      "DEV:regulations_rag.corpus_index:0.3030:                CEMAD:               A.4(C):        question: Can a treasury outsourcing company transact in foreign currency for its own account?\n",
      "DEV:regulations_rag.corpus_index:0.3668:                CEMAD:               A.3(A):        question: Who is permitted to conduct foreign currency transactions?\n",
      "DEV:regulations_rag.corpus_index:0.3687:                CEMAD:         E.(B)(ii)(a):        question: What types of transactions can be conducted through foreign currency or CFC accounts?\n",
      "DEV:regulations_rag.corpus_index:0.3692:                CEMAD:           B.2(E)(ii):        question: Is it possible to engage in hedging transactions with foreign banks?\n",
      "DEV:regulations_rag.corpus_index:0.3728:                CEMAD:          E.(B)(i)(a):        question: Are foreign currency or CFC accounts allowed to be overdrawn?\n",
      "DEV:regulations_rag.corpus_index:0.3749:                CEMAD:           B.2(E)(ii):         summary: A Domestic Treasury Management Company (DTMC) can select its functional currency and manage both a foreign currency account and a Rand account for operational costs, both operated on a non-resident basis. Transfers from the parent company to the DTMC are capped at R3 billion per year for new investments, expansions, and other capital transactions. The DTMC can raise and deploy capital offshore with restrictions. Local bank loans to the DTMC will be part of the Authorised Dealer’s macro-prudential limit. Domestic capital and guarantees are permitted to fund foreign direct investments, similar to current foreign direct investment allowances.\n",
      "DEV:regulations_rag.corpus_index:0.3795:                CEMAD:                  B.9:        question: Can a client make foreign currency payments for imports?\n",
      "DEV:regulations_rag.corpus_index:--   Relevant sections found\n",
      "DEV:regulations_rag.rerank:Re-ranking using LLM\n",
      "INFO:httpx:HTTP Request: POST https://api.openai.com/v1/chat/completions \"HTTP/1.1 200 OK\"\n",
      "DEV:regulations_rag.rerank:--   results requested by LLM filter\n",
      "DEV:regulations_rag.rerank:A.3(A)\n"
     ]
    }
   ],
   "source": [
    "chat.execute_path_no_retrieval_no_conversation_history(\"Can a corporate use allowance of managing institution?\")"
   ]
  },
  {
   "cell_type": "code",
   "execution_count": 11,
   "metadata": {},
   "outputs": [
    {
     "data": {
      "text/plain": [
       "\"The question you posed did not contain any hits in the database. There are many reasons why this could be the case. Here however is a different phrasing of the question which should find some reference material in the South African 'Currency and Exchange Manual for Authorised Dealers' (CEMAD). Perhaps try:\\n\\n\\nCan a corporate use the allowance of a managing institution for foreign currency transactions?\""
      ]
     },
     "execution_count": 11,
     "metadata": {},
     "output_type": "execute_result"
    }
   ],
   "source": [
    "chat.create_openai_assistant_message(chat.messages_intermediate[-1])['content']"
   ]
  },
  {
   "cell_type": "code",
   "execution_count": 5,
   "metadata": {},
   "outputs": [],
   "source": [
    "from IPython.display import Markdown, display\n",
    "\n",
    "raw_response = chat.messages_intermediate[-1]\n",
    "\n",
    "llm_reply = raw_response['content']\n",
    "df_definitions = raw_response['definitions']\n",
    "df_search_sections = raw_response['sections']\n",
    "\n",
    "\n",
    "\n",
    "response_dict = chat._check_response(llm_reply, df_definitions, df_search_sections)\n",
    "if response_dict['path'] == chat.Prefix.ALTERNATIVE.value:\n",
    "    assistant_response = chat._reformat_assistant_answer(response_dict, df_definitions, df_search_sections)\n",
    "    row_to_add_to_messages = {\"role\": \"assistant\", \"content\": assistant_response, \"section_reference\": pd.DataFrame()}\n",
    "else:\n",
    "    llm_answer, df_references_list = chat._extract_assistant_answer_and_references(response_dict, df_definitions, df_search_sections)\n",
    "    row_to_add_to_messages = {\"role\": \"assistant\", \"content\": response_dict['answer'], \"section_reference\": df_references_list}\n",
    "\n",
    "\n",
    "# references = chat.references[m]\n",
    "# for index, row in references.iterrows():\n",
    "#     display(Markdown(row['text']))    \n"
   ]
  },
  {
   "cell_type": "code",
   "execution_count": 6,
   "metadata": {},
   "outputs": [
    {
     "data": {
      "text/plain": [
       "\"The question you posed did not contain any hits in the database. There are many reasons why this could be the case. Here however are different phrasings of the question which should find some reference material in the South African 'Currency and Exchange Manual for Authorised Dealers' (CEMAD): Perhaps try\\n\\n\\n1) Can a corporate use the allowance of a managing institution for foreign currency transactions?\\n2) Can a corporate use the allowance of a managing institution for transactions in a CMA country currency?\""
      ]
     },
     "execution_count": 6,
     "metadata": {},
     "output_type": "execute_result"
    }
   ],
   "source": [
    "#display(Markdown(assistant_response))\n",
    "#assistant_response\n",
    "response_dict = chat._check_response(llm_reply, df_definitions, df_search_sections)\n",
    "chat._reformat_assistant_answer(response_dict, df_definitions, df_search_sections)"
   ]
  },
  {
   "cell_type": "code",
   "execution_count": 9,
   "metadata": {},
   "outputs": [
    {
     "name": "stdout",
     "output_type": "stream",
     "text": [
      "None\n",
      "None\n"
     ]
    }
   ],
   "source": [
    "for index, row in df_references_list.iterrows():\n",
    "    my_dict = chat.index.corpus.all_documents\n",
    "    value_to_find = row[\"document\"]\n",
    "    # Find the key for the given value\n",
    "    document_name = next((k for k, v in my_dict.items() if v == value_to_find), None)\n",
    "\n",
    "    #section_reference = row[\"section_reference\"]\n",
    "\n",
    "\n",
    "\n",
    "    print(document_name)\n",
    "    #print(section_reference)\n",
    "    #print(chat.index.corpus.get_document(\"CEMAD\"))\n",
    "    #print(chat.index.corpus.get_text(\"CEMAD\", section_reference, add_markdown_decorators=True, add_headings=True, section_only=False))"
   ]
  },
  {
   "cell_type": "code",
   "execution_count": 7,
   "metadata": {},
   "outputs": [
    {
     "name": "stderr",
     "output_type": "stream",
     "text": [
      "ANALYSIS:regulations_rag.corpus_chat:test_user question: What documentation is required?\n",
      "INFO:httpx:HTTP Request: POST https://api.openai.com/v1/embeddings \"HTTP/1.1 200 OK\"\n",
      "DEV:regulations_rag.corpus_chat:#################   Similarity Search       #################\n",
      "INFO:regulations_rag.corpus_chat:Found a potentially relevant workflow: documentation\n",
      "DEV:regulations_rag.corpus_index:--   No relevant definitions found\n",
      "DEV:regulations_rag.corpus_index:Selecting the top 15 items based on cosine-similarity score\n",
      "DEV:regulations_rag.corpus_index:0.3339:                CEMAD:              B.12(A):        question: What documentation is required to conduct a merchanting trade?\n",
      "DEV:regulations_rag.corpus_index:0.3547:                CEMAD:               B.8(C):        question: What documentation is required for making subsequent payments for a tour?\n",
      "DEV:regulations_rag.corpus_index:0.3617:                CEMAD:         D.1(C)(i)(d):        question: What documentation is required for import-related transactions for periods longer than 12 months?\n",
      "DEV:regulations_rag.corpus_index:0.3622:                CEMAD:              B.18(A):        question: What documentation is required for all exports from South Africa?\n",
      "DEV:regulations_rag.corpus_index:--   Relevant sections found\n",
      "DEV:regulations_rag.rerank:Re-ranking using LLM\n",
      "INFO:httpx:HTTP Request: POST https://api.openai.com/v1/chat/completions \"HTTP/1.1 200 OK\"\n",
      "DEV:regulations_rag.rerank:--   results requested by LLM filter\n",
      "DEV:regulations_rag.rerank:B.12(A)\n",
      "DEV:regulations_rag.rerank:B.8(C)\n",
      "DEV:regulations_rag.rerank:D.1(C)(i)(d)\n",
      "DEV:regulations_rag.rerank:B.18(A)\n",
      "INFO:cemad_rag.corpus_chat_cemad:Enriching user request for documentation based on conversation history.\n",
      "INFO:httpx:HTTP Request: POST https://api.openai.com/v1/chat/completions \"HTTP/1.1 200 OK\"\n",
      "INFO:cemad_rag.corpus_chat_cemad:test_user original question: What documentation is required?\n",
      "INFO:cemad_rag.corpus_chat_cemad:System enhanced question: What documentation is required as evidence for purchasing property in South Africa as a foreigner?\n",
      "INFO:httpx:HTTP Request: POST https://api.openai.com/v1/embeddings \"HTTP/1.1 200 OK\"\n",
      "DEV:regulations_rag.corpus_chat:#################   Similarity Search       #################\n",
      "DEV:regulations_rag.corpus_chat:No relevant workflow found\n",
      "DEV:regulations_rag.corpus_index:--   No relevant definitions found\n",
      "DEV:regulations_rag.corpus_index:Selecting the top 15 items based on cosine-similarity score\n",
      "DEV:regulations_rag.corpus_index:0.2998:                CEMAD:               I.1(E):        question: Can a non-resident raise finance to buy property in South Africa?\n",
      "DEV:regulations_rag.corpus_index:0.3333:                CEMAD:            B.2(B)(i):        question: What are the conditions for a private individual in South Africa to make foreign investments?\n",
      "DEV:regulations_rag.corpus_index:0.3484:                CEMAD:            B.5(A)(i):         summary: Foreign nationals in South Africa, excluding mere visitors, must declare in writing to an Authorised Dealer if they possess foreign assets upon arrival. Once Authorised Dealers receive these declarations, they may allow the foreign nationals to conduct their banking like residents, invest or dispose of their foreign assets including subsequent accruals and foreign income without Financial Surveillance Department intervention. They can also manage non-resident or foreign currency accounts with an Authorised Dealer. Moreover, they can transfer funds overseas accumulated during their stay in South Africa, given they can verify the funds' source and ensure the funds are reasonable concerning their income-generating activities in South Africa. These declarations should be kept by Authorised Dealers for five years post the individual's permanent departure for inspections. However, this does not apply to single remittances up to R5 000 per transaction, requiring only the individual's identity proof, and transactions within business relationships capped at R5 000 per transaction daily, up to R25 000 monthly per applicant. The latter necessitates thorough customer due diligence under section 21 of the FIC Act. Despite foreign nationals conducting banking as residents, their interests in local entities are considered non-resident concerning local financial assistance. For exporting personal and household effects, including vehicles, they must be covered by the SARS Customs Declaration. These goods should either be bought with transferable funds or imported into South Africa, with the individual able to provide proof of importation. Lastly, foreign nationals can send abroad capital introduced into South Africa, provided they can verify the funds' original introduction.\n",
      "DEV:regulations_rag.corpus_index:0.3568:                CEMAD:            B.2(B)(i):         summary: Private individuals resident in South Africa are informed that they cannot engage in transactions that directly or indirectly export capital from South Africa. Nonetheless, they can acquire loans abroad to finance foreign asset purchases without South African recourse. Residents with authorized foreign assets can invest in South Africa, but if these assets are acquired through an offshore loop structure, the investment must be reported to an Authorised Dealer upon finalization and an annual progress report submitted to the Financial Surveillance Department. Independent auditor confirmation or documentary evidence must verify these transactions to be at arm's length and for a market-related price. After such transactions, the Authorised Dealer should report details like the names of affiliated foreign investors, asset descriptions, target investment company names in South Africa, acquisition dates, and actual foreign currency amounts, including a transaction reference number, to the Financial Surveillance Department. All inward loans from these investors should align with directives in section I.3(B) of the Authorised Dealer Manual.\n",
      "DEV:regulations_rag.corpus_index:0.3667:                CEMAD:            B.5(B)(i):         summary: Upon arrival in South Africa, immigrants must declare any foreign assets they possess to an Authorised Dealer. Authorised Dealers must then report monthly to the Financial Surveillance Department, detailing individual branch information including full names of immigrants, their spouse and dependants, dates of immigration, and dates of birth. New immigrants are required to present documentary evidence to the Authorised Dealer showing that they have been granted permanent residence in South Africa. They are officially considered immigrants from the date of their arrival. The documentation, which includes the declaration, undertaking, and proof of permanent residence, must be stored by Authorised Dealers for ten years.\n",
      "DEV:regulations_rag.corpus_index:0.3690:                CEMAD:               I.1(E):         summary: Authorised Dealers can provide local financial assistance to non-residents for foreign direct investments in South Africa, except for funds needed for financial transactions or property acquisition, which are subject to restrictions. Non-residents living and working in South Africa can receive local financial assistance for purchasing residential property, following normal lending criteria. The assistance must be secured by a Rand deposit or a Rand-based asset of equal or higher value. The borrower cannot exceed 100% of the Rand value of funds brought in from abroad. If assistance is granted for property acquisition, it cannot be increased based on property revaluation.\n",
      "DEV:regulations_rag.corpus_index:0.3762:                CEMAD:           B.2(B)(ii):        question: What are the conditions for private residents in South Africa to retransfer funds abroad?\n",
      "DEV:regulations_rag.corpus_index:--   Relevant sections found\n",
      "DEV:regulations_rag.rerank:Re-ranking using LLM\n",
      "INFO:httpx:HTTP Request: POST https://api.openai.com/v1/chat/completions \"HTTP/1.1 200 OK\"\n",
      "DEV:regulations_rag.rerank:--   results requested by LLM filter\n",
      "DEV:regulations_rag.rerank:B.5(A)(i)\n",
      "DEV:regulations_rag.corpus_chat:#################   RAG Prompts   #################\n",
      "DEV:regulations_rag.corpus_chat:System Prompt:\n",
      "You are answering questions about South African 'Currency and Exchange Manual for Authorised Dealers' (CEMAD) for an Authorised Dealer (AD) based only on the reference extracts provided. You have 3 options:\n",
      "1) Answer the question. Preface an answer with the tag 'ANSWER:'. All referenced extracts must be quoted at the end of the answer, not in the body, by number, in a comma separated list starting after the keyword 'Reference: '. Do not include the word Extract, only provide the number(s).\n",
      "2) Request additional documentation. If, in the body of the extract(s) provided, there is a reference to another section that is directly relevant and not already provided, respond with the word 'SECTION:' followed by 'Extract extract_number, Reference section_reference' - for example SECTION: Extract 1, Reference [A-Z]\\.\\d{0,2}(?:\\([A-Z]\\))?(?:\\((?:i|ii|iii|iv|v|vi)\\))?(?:\\([a-z]\\))?(?:\\([a-z]{2}\\))?(?:\\(\\d+\\))?.\n",
      "3) State 'NONE:' and nothing else in all other cases\n",
      "\n",
      "DEV:regulations_rag.corpus_chat:User Prompt with RAG:\n",
      "Question: What documentation is required?\n",
      "\n",
      "Extract 1:\n",
      "B.5 Personal transfers by foreign nationals and immigrants\n",
      "    (A) Foreign nationals\n",
      "        (i) Foreign nationals temporarily in South Africa\n",
      "            (a) Foreign nationals (except those who are purely on a temporary visit) are required to declare on arrival in writing to an Authorised Dealer:\n",
      "                (aa) whether they are in possession of foreign assets.\n",
      "            (b) On receipt of such completed declarations and undertakings, Authorised Dealers may permit such foreign nationals to:\n",
      "                (aa) conduct their banking on a resident basis;\n",
      "                (bb) dispose of or otherwise invest their foreign assets including foreign cash funds held by them, subsequent accruals, as well as foreign income, without interference from the Financial Surveillance Department.\n",
      "                (cc) conduct non-resident or foreign currency accounts in the books of an Authorised Dealer; and\n",
      "                (dd) transfer abroad funds accumulated during their stay in South Africa provided that:\n",
      "                    (1) the foreign nationals can substantiate the source from which they have acquired such funds; and\n",
      "                    (2) the value of such funds is reasonable in relation to their income generating activities in South Africa during the period.\n",
      "            (c) The completed declarations and undertakings must be retained by Authorised Dealers, after the permanent departure of such individuals, for a period of five years for inspection purposes.\n",
      "            (d) The dispensation in (b) above excludes:\n",
      "                (aa) single remittance transactions up to R5 000 per transaction where only the applicant's proof of identity has to be viewed and retained by the Authorised Dealer concerned; and\n",
      "                (bb) transactions where a business relationship has been established, which are limited to R5 000 per transaction per day within a limit of R25 000 per applicant per calendar month. The Authorised Dealer must complete the relevant customer due diligence requirements by establishing and verifying the identity of the applicant in terms of section 21 of the FIC Act and obtaining the applicant's residential address information for reporting purposes.\n",
      "            (e) It should be noted that while the personal banking of foreign nationals temporarily resident in South Africa may be conducted on a resident basis, any interest held by such individuals in local entities (i.e. legal persons) will be deemed as non-resident for the purposes of local financial assistance.\n",
      "            (f) Export of personal effects and other assets\n",
      "                (aa) Any household and personal effects, including motor vehicles, may be exported under cover of the prescribed SARS Customs Declaration provided that the goods to be exported have been purchased with funds that would have been transferable or the goods have been imported into South Africa. The individual must, in need, be able to substantiate the importation thereof by the production of documentary evidence.\n",
      "            (g) Capital transfers by foreign nationals\n",
      "                (aa) Authorised Dealers may permit foreign nationals to retransfer abroad capital that has been introduced into South Africa, provided that they can substantiate the original introduction of such funds.\n",
      "\n",
      "INFO:httpx:HTTP Request: POST https://api.openai.com/v1/chat/completions \"HTTP/1.1 200 OK\"\n"
     ]
    }
   ],
   "source": [
    "#user_content = \"What documentation do they require?\"\n",
    "user_content = \"What documentation is required?\"\n",
    "chat.user_provides_input(user_content)\n",
    "\n",
    "# testing = True\n",
    "# path = \"ANSWER:\"\n",
    "# api_response = \"Yes, a foreigner can buy property in South Africa. However, if they require local financial assistance for the acquisition, certain conditions apply. Specifically, the 1:1 ratio will apply for financial assistance unless the non-resident is living and working in South Africa, in which case normal lending criteria apply. Additionally, any financial assistance must be secured by an unencumbered Rand deposit or Rand-based asset of equal or higher value, and the facility may not exceed 100% of the Rand value of funds introduced from abroad and invested locally. Facilities for property acquisition cannot be increased based on property revaluation.Reference: 1\"\n",
    "# manual_responses_for_testing = [path + api_response]\n",
    "\n",
    "# chat.user_provides_input(user_content, testing = testing, manual_responses_for_testing = manual_responses_for_testing)"
   ]
  },
  {
   "cell_type": "code",
   "execution_count": 19,
   "metadata": {},
   "outputs": [
    {
     "data": {
      "text/plain": [
       "'ANSWER: An individual can take up to a total amount of R10 million per calendar year offshore as a foreign capital allowance for investment purposes abroad. Additionally, within the single discretionary allowance, an individual can take up to R1 million per calendar year offshore. Therefore, the total amount an individual can take offshore in a year is R11 million.\\n\\nReference: 1, 2'"
      ]
     },
     "execution_count": 19,
     "metadata": {},
     "output_type": "execute_result"
    }
   ],
   "source": [
    "llm_reply"
   ]
  },
  {
   "cell_type": "code",
   "execution_count": 7,
   "metadata": {},
   "outputs": [
    {
     "data": {
      "text/plain": [
       "'B.10 Insurance and pensions\\n\\n&nbsp;&nbsp;&nbsp;&nbsp;(A) Introduction\\n\\n&nbsp;&nbsp;&nbsp;&nbsp;&nbsp;&nbsp;&nbsp;&nbsp;(i) Only those branches of the Authorised Dealers referred to in subsection (K) below may effect payments in foreign currency in terms of this section of the Authorised Dealer Manual.'"
      ]
     },
     "execution_count": 7,
     "metadata": {},
     "output_type": "execute_result"
    }
   ],
   "source": [
    "from IPython.display import Markdown, display\n",
    "\n",
    "# m = chat.corpus.get_text(\"Forgotten\", \"1\")\n",
    "# display(Markdown(m))    \n",
    "\n",
    "d = chat.corpus.get_text(\"CEMAD\", \"B.10(A)(i)\")\n",
    "d\n",
    "#print(chat.corpus.get_text(\"CovidLocation\", \"1\"))\n",
    "#print(chat.corpus.get_text(\"Consent\", \"7.1.3\").strip())\n",
    "#print(chat.corpus.get_text(\"GDPR\", \"8\").strip())"
   ]
  },
  {
   "cell_type": "code",
   "execution_count": 9,
   "metadata": {},
   "outputs": [
    {
     "name": "stderr",
     "output_type": "stream",
     "text": [
      "INFO:httpx:HTTP Request: POST https://api.openai.com/v1/embeddings \"HTTP/1.1 200 OK\"\n",
      "DEV:regulations_rag.corpus_chat:#################   Similarity Search       #################\n",
      "DEV:regulations_rag.corpus_chat:No relevant workflow found\n",
      "DEV:regulations_rag.corpus_index:--   No relevant definitions found\n",
      "DEV:regulations_rag.corpus_index:Selecting the top 15 items based on cosine-similarity score\n",
      "DEV:regulations_rag.corpus_index:0.2267:                CEMAD:              B.16(E):        question: Can I use my credit card for online purchases?\n",
      "DEV:regulations_rag.corpus_index:--   Relevant sections found\n",
      "DEV:regulations_rag.rerank:Re-ranking using LLM\n",
      "INFO:httpx:HTTP Request: POST https://api.openai.com/v1/chat/completions \"HTTP/1.1 200 OK\"\n",
      "DEV:regulations_rag.rerank:--   results requested by LLM filter\n",
      "DEV:regulations_rag.rerank:B.16(E)\n"
     ]
    }
   ],
   "source": [
    "wf, dfn, section = chat.similarity_search(\"Can a company use its credit card for online purchases?\")"
   ]
  },
  {
   "cell_type": "code",
   "execution_count": 8,
   "metadata": {},
   "outputs": [
    {
     "data": {
      "text/html": [
       "<div>\n",
       "<style scoped>\n",
       "    .dataframe tbody tr th:only-of-type {\n",
       "        vertical-align: middle;\n",
       "    }\n",
       "\n",
       "    .dataframe tbody tr th {\n",
       "        vertical-align: top;\n",
       "    }\n",
       "\n",
       "    .dataframe thead th {\n",
       "        text-align: right;\n",
       "    }\n",
       "</style>\n",
       "<table border=\"1\" class=\"dataframe\">\n",
       "  <thead>\n",
       "    <tr style=\"text-align: right;\">\n",
       "      <th></th>\n",
       "      <th>section_reference</th>\n",
       "      <th>text</th>\n",
       "      <th>source</th>\n",
       "      <th>embedding</th>\n",
       "      <th>document</th>\n",
       "      <th>cosine_distance</th>\n",
       "      <th>regulation_text</th>\n",
       "      <th>token_count</th>\n",
       "    </tr>\n",
       "  </thead>\n",
       "  <tbody>\n",
       "    <tr>\n",
       "      <th>0</th>\n",
       "      <td>B.16(E)</td>\n",
       "      <td>Can I use my credit card for online purchases?</td>\n",
       "      <td>question</td>\n",
       "      <td>[-0.06440070271492004, 0.03733660280704498, -0...</td>\n",
       "      <td>CEMAD</td>\n",
       "      <td>0.113945</td>\n",
       "      <td>B.16 Credit and/or debit cards\\n    (E) Miscel...</td>\n",
       "      <td>279</td>\n",
       "    </tr>\n",
       "  </tbody>\n",
       "</table>\n",
       "</div>"
      ],
      "text/plain": [
       "  section_reference                                            text    source  \\\n",
       "0           B.16(E)  Can I use my credit card for online purchases?  question   \n",
       "\n",
       "                                           embedding document  \\\n",
       "0  [-0.06440070271492004, 0.03733660280704498, -0...    CEMAD   \n",
       "\n",
       "   cosine_distance                                    regulation_text  \\\n",
       "0         0.113945  B.16 Credit and/or debit cards\\n    (E) Miscel...   \n",
       "\n",
       "   token_count  \n",
       "0          279  "
      ]
     },
     "execution_count": 8,
     "metadata": {},
     "output_type": "execute_result"
    }
   ],
   "source": [
    "section"
   ]
  },
  {
   "cell_type": "code",
   "execution_count": 5,
   "metadata": {},
   "outputs": [
    {
     "name": "stdout",
     "output_type": "stream",
     "text": [
      "You are answering questions about the General Data Protection Regulation (GDPR) for a Controller based only on the reference extracts provided. You have 3 options:\n",
      "1) Answer the question. Preface an answer with the tag 'ANSWER:'. All referenced extracts must be quoted at the end of the answer, not in the body, by number, in a comma separated list starting after the keyword 'Reference: '. Do not include the word Extract, only provide the number(s).\n",
      "2) Request additional documentation. If, in the body of the extract(s) provided, there is a reference to another section that is directly relevant and not already provided, respond with the word 'SECTION:' followed by 'Extract extract_number, Reference section_reference' - for example SECTION: Extract 1, Reference Article 98.\n",
      "3) State 'NONE:' and nothing else in all other cases\n",
      "\n"
     ]
    }
   ],
   "source": [
    "print(chat._create_system_message(3))"
   ]
  },
  {
   "cell_type": "code",
   "execution_count": null,
   "metadata": {},
   "outputs": [],
   "source": [
    "# BCR\n",
    "user_content = \"What are binding corporate rules?\"\n",
    "user_content = \"How do binding corporate rules become approved?\"\n",
    "user_content = \"What requirements must binding corporate rules meet?\"\n",
    "user_content = \"What details must be spelled out in binding corporate rules?\"\n",
    "user_content = \"What rights do individuals have under binding corporate rules?\"\n",
    "user_content = \"Who is liable if binding corporate rules are breached?\"\n",
    "user_content = \"How are individuals informed about their rights under binding corporate rules?\"\n",
    "user_content = \"What is the role of a data protection officer within a group adopting binding corporate rules?\"\n",
    "user_content = \"What mechanisms ensure compliance with binding corporate rules?\"\n",
    "user_content = \"How is the effectiveness of binding corporate rules verified?\"\n",
    "user_content = \"What happens if local laws conflict with the standards of binding corporate rules?\"\n",
    "user_content = \"What kind of training is required for employees with access to personal data under binding corporate rules?\"\n",
    "user_content = \"What is the process for reporting changes in binding corporate rules?\"\n",
    "\n",
    "# Decision Making\n",
    "user_content = \"What rights do individuals have regarding automated decision-making and profiling?\"\n",
    "user_content = \"What does it mean for a decision to have a legal effect on a person?\"\n",
    "user_content = \"Under what conditions can an individual be subject to automated decision-making?\"\n",
    "user_content = \"What safeguards must be in place when automated decisions are necessary for contracts?\"\n",
    "user_content = \"Can special categories of personal data be used in automated decision-making?\"\n",
    "\n",
    "#DPIA\n",
    "user_content = \"When must you conduct a data protection impact assessment?\"\n",
    "user_content = \"Who should you consult when carrying out a data protection impact assessment?\"\n",
    "user_content = \" What triggers the requirement for a data protection impact assessment?\"\n",
    "user_content = \"How do supervisory authorities contribute to the DPIA process?\"\n",
    "user_content = \"How do supervisory authorities contribute to the data protection impact assessment process?\"\n",
    "user_content =\"What content is required in a data protection impact assessment?\"\n",
    "user_content =\"What content is required in a DPIA?\"\n",
    "user_content = \"Should individuals' views be considered in the assessment process?\"\n",
    "user_content = \"How often should you review the data protection impact assessment?\"\n",
    "\n",
    "#DPO\n",
    "user_content = \"When must you designate a data protection officer?\"\n",
    "user_content = \"Can multiple organisations share a DPO?\"\n",
    "user_content = \"What criteria must a data protection officer meet?\"\n",
    "user_content = \"Can a data protection officer be a contractor?\"\n",
    "user_content = \"How should the contact details of the DPO be shared?\"\n",
    "user_content = \"What types of processing activities require you to appoint a data protection officer?\"\n",
    "user_content = \"How does the scale of data processing affect the requirement to appoint a data protection officer?\"\n",
    "user_content = \"What is large scale?\"\n",
    "user_content = \"What is the difference between a data protection officer and a controller?\"\n",
    "\n",
    "# intl_transfer\n",
    "user_content = \"What are the conditions for transferring personal data to another country or international organisation?\"\n",
    "user_content = \"When is an individual's consent required for data transfer?\"\n",
    "user_content = \"How does a contract affect the transfer of personal data?\"\n",
    "user_content = \"What constitutes an important reason of public interest for transferring personal data?\"\n",
    "user_content = \"When can data be transferred for the establishment, exercise, or defence of legal claims?\"\n",
    "user_content = \"Under what circumstances can personal data be transferred to protect someone's vital interests?\"\n",
    "user_content = \"What are the rules for transferring data from public registers?\"\n",
    "user_content = \"What are the requirements for a non-repetitive transfer based on compelling legitimate interests?\"\n",
    "user_content = \"When are public authorities exempt from certain transfer conditions?\"\n",
    "user_content = \"How does the law recognise public interest for data transfers?\"\n",
    "user_content = \"What documentation is required for assessing data transfers?\"\n",
    "\n",
    "# lead_sa\n",
    "\n",
    "# data breach\n",
    "user_content = \"What action should you take if a personal data breach occurs?\"\n",
    "user_content = \"How soon must you notify the appropriate authority when a data breach is discovered?\"\n",
    "user_content = \"Is there any situation where you might not need to notify a supervisory authority about a data breach?\"\n",
    "user_content = \"What information must you include when reporting a data breach?\"\n",
    "user_content = \"What should be done if all details about a breach can't be reported immediately?\"\n",
    "user_content = \"Why is it important to document all personal data breaches and the response to them?\"\n",
    "\n",
    "user_content = \"When should you inform individuals about a personal data breach?\"\n",
    "user_content = \"What information should be included when notifying an individual about a personal data breach?\"\n",
    "user_content = \"Under what conditions can you avoid informing individuals about a personal data breach?\"\n",
    "user_content = \"What happens if you don't voluntarily notify individuals about a personal data breach?\"\n",
    "\n",
    "\n",
    "# portability\n",
    "user_content = \"What is the right to data portability?\"\n",
    "user_content = \"What does data portability mean for the transfer of data between controllers?\"\n",
    "user_content = \"Is the right to data portability unlimited?\"\n",
    "\n",
    "# transparency\n",
    "user_content = \"What information must be provided to individuals when collecting their personal data?\"\n",
    "user_content = \"What details about the data controller need to be disclosed during data collection?\"\n",
    "user_content = \"What are the required disclosures about the use and processing of personal data?\"\n",
    "user_content = \"When is it necessary to inform individuals about the transfer of their personal data to third countries or international organisations?\"\n",
    "user_content = \"What rights must individuals be informed about concerning their personal data?\"\n",
    "user_content = \"How does the requirement for providing information change if the purpose of data processing changes?\"\n",
    "user_content = \"What information must be provided to individuals when their data is collected indirectly?\"\n",
    "user_content = \"Within what timeframe must information be provided to the data subject when their data is collected indirectly?\"\n",
    "# user_content = \"What actions must be taken if the purpose of data processing changes after initial collection?\"\n",
    "# user_content = \"Are there any circumstances under which the obligation to provide information to data subjects does not apply?\"\n",
    "# user_content = \"How are data subjects informed about their rights concerning their personal data?\"\n",
    "\n",
    "\n",
    "# Codes\n",
    "user_content = \"Who is encouraged to create codes of conduct for GDPR compliance?\"\n",
    "user_content = \"What purposes do codes of conduct serve?\"\n",
    "user_content = \"Can codes of conduct address the protection of children's data?\"\n",
    "user_content = \"How can codes of conduct assist with personal data breaches?\"\n",
    "user_content = \"Can organisations outside the EU adhere to codes of conduct?\"\n",
    "user_content = \"What requirements must a code of conduct meet for approval?\"\n",
    "# user_content = \"Who approves codes of conduct for local purposes?\"\n",
    "# user_content = \"How are codes of conduct evaluated for processing activities across multiple Member States?\"\n",
    "# user_content = \"What role does the Commission play in the validity of codes of conduct?\"\n",
    "# user_content = \"How is the public informed about approved codes of conduct?\"\n",
    "# user_content = \"Where can one find a register of approved codes of conduct?\"\n",
    "# user_content = \"Who can monitor compliance with a code of conduct?\"\n",
    "# user_content = \"What qualifications must a body meet to monitor compliance with a code of conduct?\"\n",
    "user_content = \"How does a body become accredited to monitor a code of conduct?\"\n",
    "# user_content = \"What responsibilities does an accredited body have when a code of conduct is breached?\"\n",
    "# user_content = \"What actions can an accredited monitoring body take if a code of conduct is infringed?\"\n",
    "# user_content = \"Under what circumstances can an accreditation be revoked?\"\n",
    "\n",
    "#user_content = \"Can you give me a worfklow for the approval of a code of conduct?\"\n",
    "\n",
    "# territorial scope\n",
    "user_content = \"When does GDPR apply to non-EU entities?\"\n",
    "user_content = \"I am not based in the EU. Does GDPR apply to me?\"\n",
    "\n",
    "# video\n",
    "user_content = \"Is video surveillance regulated under gdpr?\"\n",
    "\n",
    "# Covid Health\n",
    "user_content = \"What specific purposes allow healthcare data to be processed without explicit consent?\"\n",
    "user_content = \"What are the permissible legal bases for processing health data for scientific research?\"\n",
    "\n",
    "# covid location\n",
    "user_content = \"What types of data should not be collected by contact tracing applications?\"\n",
    "\n",
    "# Concent\n",
    "user_content = \"Can children consent to data collection?\"\n",
    "\n",
    "# Forgotten\n",
    "user_content = \"What is the right to erasure and when does it apply?\"\n"
   ]
  },
  {
   "cell_type": "code",
   "execution_count": 1,
   "metadata": {},
   "outputs": [],
   "source": [
    "from gdpr_rag.documents.dpo import DPO\n",
    "from gdpr_rag.documents.consent import Consent\n",
    "dpo = DPO()\n",
    "consent = Consent()"
   ]
  },
  {
   "cell_type": "code",
   "execution_count": 23,
   "metadata": {},
   "outputs": [
    {
     "data": {
      "text/html": [
       "<div>\n",
       "<style scoped>\n",
       "    .dataframe tbody tr th:only-of-type {\n",
       "        vertical-align: middle;\n",
       "    }\n",
       "\n",
       "    .dataframe tbody tr th {\n",
       "        vertical-align: top;\n",
       "    }\n",
       "\n",
       "    .dataframe thead th {\n",
       "        text-align: right;\n",
       "    }\n",
       "</style>\n",
       "<table border=\"1\" class=\"dataframe\">\n",
       "  <thead>\n",
       "    <tr style=\"text-align: right;\">\n",
       "      <th></th>\n",
       "      <th>section_reference</th>\n",
       "      <th>text</th>\n",
       "      <th>source</th>\n",
       "      <th>embedding</th>\n",
       "      <th>document</th>\n",
       "    </tr>\n",
       "  </thead>\n",
       "  <tbody>\n",
       "    <tr>\n",
       "      <th>0</th>\n",
       "      <td>2.1</td>\n",
       "      <td>gAAAAABmUH9YDpyn75A6P5UBv2tn3enDzLAPpQYXhXxsuk...</td>\n",
       "      <td>summary</td>\n",
       "      <td>[-0.05341560021042824, 0.0171151515096426, -0....</td>\n",
       "      <td>Video</td>\n",
       "    </tr>\n",
       "    <tr>\n",
       "      <th>1</th>\n",
       "      <td>2.2</td>\n",
       "      <td>gAAAAABmUH9YEm2qVPRmHM-J5GQxVp8K7JCYlxzpbBAt6h...</td>\n",
       "      <td>summary</td>\n",
       "      <td>[-0.05042532831430435, -0.034690551459789276, ...</td>\n",
       "      <td>Video</td>\n",
       "    </tr>\n",
       "    <tr>\n",
       "      <th>2</th>\n",
       "      <td>2.3</td>\n",
       "      <td>gAAAAABmUH9Yt_9fPYROaTi2ZIdE-IGpQpFtdHQ1tI6IpM...</td>\n",
       "      <td>summary</td>\n",
       "      <td>[-0.05431677773594856, 0.031087687239050865, -...</td>\n",
       "      <td>Video</td>\n",
       "    </tr>\n",
       "    <tr>\n",
       "      <th>3</th>\n",
       "      <td>3</td>\n",
       "      <td>gAAAAABmUH9YI-aMX31OE0KoFJtf5__giOrAD1XTEiVt1q...</td>\n",
       "      <td>summary</td>\n",
       "      <td>[0.011479574255645275, -0.04576420783996582, -...</td>\n",
       "      <td>Video</td>\n",
       "    </tr>\n",
       "    <tr>\n",
       "      <th>4</th>\n",
       "      <td>3.1.1</td>\n",
       "      <td>gAAAAABmUH9YMHnezbumcNuKAdDdVAelDbD5cu0VuRpGAz...</td>\n",
       "      <td>summary</td>\n",
       "      <td>[0.024606412276625633, -0.012803575955331326, ...</td>\n",
       "      <td>Video</td>\n",
       "    </tr>\n",
       "    <tr>\n",
       "      <th>...</th>\n",
       "      <td>...</td>\n",
       "      <td>...</td>\n",
       "      <td>...</td>\n",
       "      <td>...</td>\n",
       "      <td>...</td>\n",
       "    </tr>\n",
       "    <tr>\n",
       "      <th>123</th>\n",
       "      <td>9.3.2</td>\n",
       "      <td>gAAAAABmUH9YxhYBbjnCjhfyzJSnOqOND6Egd3ErKrbHPX...</td>\n",
       "      <td>question</td>\n",
       "      <td>[-0.004779711831361055, 0.0069802324287593365,...</td>\n",
       "      <td>Video</td>\n",
       "    </tr>\n",
       "    <tr>\n",
       "      <th>124</th>\n",
       "      <td>9.3.2</td>\n",
       "      <td>gAAAAABmUH9YaTg645WLz3LZdFQ_zBII1t0IXvpW96hTbw...</td>\n",
       "      <td>question</td>\n",
       "      <td>[-0.045810651034116745, 0.048128221184015274, ...</td>\n",
       "      <td>Video</td>\n",
       "    </tr>\n",
       "    <tr>\n",
       "      <th>125</th>\n",
       "      <td>9.3.2</td>\n",
       "      <td>gAAAAABmUH9YSxCyP9WC7aFGTLMJSCrcL84pCwxTkSPlhz...</td>\n",
       "      <td>question</td>\n",
       "      <td>[-0.02516673319041729, -0.024208365008234978, ...</td>\n",
       "      <td>Video</td>\n",
       "    </tr>\n",
       "    <tr>\n",
       "      <th>126</th>\n",
       "      <td>10</td>\n",
       "      <td>gAAAAABmUH9YJjSfd9EKsOg7w3xxvlvNGZ5J0T1SWUEaug...</td>\n",
       "      <td>question</td>\n",
       "      <td>[-0.039777971804142, -0.014415937475860119, -0...</td>\n",
       "      <td>Video</td>\n",
       "    </tr>\n",
       "    <tr>\n",
       "      <th>127</th>\n",
       "      <td>10</td>\n",
       "      <td>gAAAAABmUH9Yj5nIKKwnE4CiWi1F78tHeglKQtWPbQiK_w...</td>\n",
       "      <td>question</td>\n",
       "      <td>[-0.025207817554473877, -0.007000169716775417,...</td>\n",
       "      <td>Video</td>\n",
       "    </tr>\n",
       "  </tbody>\n",
       "</table>\n",
       "<p>128 rows × 5 columns</p>\n",
       "</div>"
      ],
      "text/plain": [
       "    section_reference                                               text  \\\n",
       "0                 2.1  gAAAAABmUH9YDpyn75A6P5UBv2tn3enDzLAPpQYXhXxsuk...   \n",
       "1                 2.2  gAAAAABmUH9YEm2qVPRmHM-J5GQxVp8K7JCYlxzpbBAt6h...   \n",
       "2                 2.3  gAAAAABmUH9Yt_9fPYROaTi2ZIdE-IGpQpFtdHQ1tI6IpM...   \n",
       "3                   3  gAAAAABmUH9YI-aMX31OE0KoFJtf5__giOrAD1XTEiVt1q...   \n",
       "4               3.1.1  gAAAAABmUH9YMHnezbumcNuKAdDdVAelDbD5cu0VuRpGAz...   \n",
       "..                ...                                                ...   \n",
       "123             9.3.2  gAAAAABmUH9YxhYBbjnCjhfyzJSnOqOND6Egd3ErKrbHPX...   \n",
       "124             9.3.2  gAAAAABmUH9YaTg645WLz3LZdFQ_zBII1t0IXvpW96hTbw...   \n",
       "125             9.3.2  gAAAAABmUH9YSxCyP9WC7aFGTLMJSCrcL84pCwxTkSPlhz...   \n",
       "126                10  gAAAAABmUH9YJjSfd9EKsOg7w3xxvlvNGZ5J0T1SWUEaug...   \n",
       "127                10  gAAAAABmUH9Yj5nIKKwnE4CiWi1F78tHeglKQtWPbQiK_w...   \n",
       "\n",
       "       source                                          embedding document  \n",
       "0     summary  [-0.05341560021042824, 0.0171151515096426, -0....    Video  \n",
       "1     summary  [-0.05042532831430435, -0.034690551459789276, ...    Video  \n",
       "2     summary  [-0.05431677773594856, 0.031087687239050865, -...    Video  \n",
       "3     summary  [0.011479574255645275, -0.04576420783996582, -...    Video  \n",
       "4     summary  [0.024606412276625633, -0.012803575955331326, ...    Video  \n",
       "..        ...                                                ...      ...  \n",
       "123  question  [-0.004779711831361055, 0.0069802324287593365,...    Video  \n",
       "124  question  [-0.045810651034116745, 0.048128221184015274, ...    Video  \n",
       "125  question  [-0.02516673319041729, -0.024208365008234978, ...    Video  \n",
       "126  question  [-0.039777971804142, -0.014415937475860119, -0...    Video  \n",
       "127  question  [-0.025207817554473877, -0.007000169716775417,...    Video  \n",
       "\n",
       "[128 rows x 5 columns]"
      ]
     },
     "execution_count": 23,
     "metadata": {},
     "output_type": "execute_result"
    }
   ],
   "source": [
    "file = \"./inputs/index/video.parquet\"\n",
    "df = pd.read_parquet(file)\n",
    "df"
   ]
  },
  {
   "cell_type": "code",
   "execution_count": null,
   "metadata": {},
   "outputs": [],
   "source": []
  }
 ],
 "metadata": {
  "kernelspec": {
   "display_name": "Python 3.10.4 ('env': venv)",
   "language": "python",
   "name": "python3"
  },
  "language_info": {
   "codemirror_mode": {
    "name": "ipython",
    "version": 3
   },
   "file_extension": ".py",
   "mimetype": "text/x-python",
   "name": "python",
   "nbconvert_exporter": "python",
   "pygments_lexer": "ipython3",
   "version": "3.10.4"
  },
  "orig_nbformat": 4,
  "vscode": {
   "interpreter": {
    "hash": "e330cde3341ddb10937c3ab3ef8422853a5bdecbc44a28db7f9f3e6bc03c2d94"
   }
  }
 },
 "nbformat": 4,
 "nbformat_minor": 2
}
